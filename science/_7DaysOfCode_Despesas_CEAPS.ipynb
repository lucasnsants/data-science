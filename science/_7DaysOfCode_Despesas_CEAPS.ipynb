{
  "nbformat": 4,
  "nbformat_minor": 0,
  "metadata": {
    "colab": {
      "name": "#7DaysOfCode - Despesas CEAPS.ipynb",
      "provenance": [],
      "collapsed_sections": [],
      "mount_file_id": "1E0yXzQJS4tfOra0WIy6kEkWtrwPpmhvR",
      "authorship_tag": "ABX9TyMyjA5Il2dxWmlZAdWjIQP6",
      "include_colab_link": true
    },
    "kernelspec": {
      "name": "python3",
      "display_name": "Python 3"
    },
    "language_info": {
      "name": "python"
    }
  },
  "cells": [
    {
      "cell_type": "markdown",
      "metadata": {
        "id": "view-in-github",
        "colab_type": "text"
      },
      "source": [
        "<a href=\"https://colab.research.google.com/github/lucassant0s/data-science/blob/main/science/_7DaysOfCode_Despesas_CEAPS.ipynb\" target=\"_parent\"><img src=\"https://colab.research.google.com/assets/colab-badge.svg\" alt=\"Open In Colab\"/></a>"
      ]
    },
    {
      "cell_type": "code",
      "source": [
        "!pip install plotly"
      ],
      "metadata": {
        "colab": {
          "base_uri": "https://localhost:8080/"
        },
        "id": "6p8KEKfi-Ymj",
        "outputId": "712f0711-fe12-4e62-9995-ea849f7e1e6f"
      },
      "execution_count": null,
      "outputs": [
        {
          "output_type": "stream",
          "name": "stdout",
          "text": [
            "Requirement already satisfied: plotly in /usr/local/lib/python3.7/dist-packages (5.5.0)\n",
            "Requirement already satisfied: six in /usr/local/lib/python3.7/dist-packages (from plotly) (1.15.0)\n",
            "Requirement already satisfied: tenacity>=6.2.0 in /usr/local/lib/python3.7/dist-packages (from plotly) (8.0.1)\n"
          ]
        }
      ]
    },
    {
      "cell_type": "code",
      "execution_count": null,
      "metadata": {
        "id": "iTlFAt4mxsKh",
        "colab": {
          "base_uri": "https://localhost:8080/",
          "height": 17
        },
        "outputId": "86147fc4-e92a-4c3d-e539-287404a4ea10"
      },
      "outputs": [
        {
          "output_type": "display_data",
          "data": {
            "text/html": [
              "        <script type=\"text/javascript\">\n",
              "        window.PlotlyConfig = {MathJaxConfig: 'local'};\n",
              "        if (window.MathJax) {MathJax.Hub.Config({SVG: {font: \"STIX-Web\"}});}\n",
              "        if (typeof require !== 'undefined') {\n",
              "        require.undef(\"plotly\");\n",
              "        requirejs.config({\n",
              "            paths: {\n",
              "                'plotly': ['https://cdn.plot.ly/plotly-2.8.3.min']\n",
              "            }\n",
              "        });\n",
              "        require(['plotly'], function(Plotly) {\n",
              "            window._Plotly = Plotly;\n",
              "        });\n",
              "        }\n",
              "        </script>\n",
              "        "
            ]
          },
          "metadata": {}
        },
        {
          "output_type": "display_data",
          "data": {
            "text/html": [
              "        <script type=\"text/javascript\">\n",
              "        window.PlotlyConfig = {MathJaxConfig: 'local'};\n",
              "        if (window.MathJax) {MathJax.Hub.Config({SVG: {font: \"STIX-Web\"}});}\n",
              "        if (typeof require !== 'undefined') {\n",
              "        require.undef(\"plotly\");\n",
              "        requirejs.config({\n",
              "            paths: {\n",
              "                'plotly': ['https://cdn.plot.ly/plotly-2.8.3.min']\n",
              "            }\n",
              "        });\n",
              "        require(['plotly'], function(Plotly) {\n",
              "            window._Plotly = Plotly;\n",
              "        });\n",
              "        }\n",
              "        </script>\n",
              "        "
            ]
          },
          "metadata": {}
        }
      ],
      "source": [
        "import pandas as pd\n",
        "import numpy as np\n",
        "import seaborn as sns\n",
        "import matplotlib.pyplot as plt\n",
        "import matplotlib.ticker as ticker\n",
        "from functools import reduce\n",
        "import os\n",
        "import requests\n",
        "import csv\n",
        "import glob\n",
        "import plotly\n",
        "import plotly.offline as py\n",
        "import plotly.graph_objs as go\n",
        "from plotly.offline import plot, iplot\n",
        "import plotly.express as px\n",
        "import cufflinks as cf # para conectar o plotly ao pandas\n",
        "from plotly.subplots import make_subplots\n",
        "cf.go_offline()\n",
        "plotly.offline.init_notebook_mode(connected = True)"
      ]
    },
    {
      "cell_type": "markdown",
      "source": [
        "### Criação das URLs com base na lista de anos (assim poderemos fazer o download das bases de dados de forma dinâmica)"
      ],
      "metadata": {
        "id": "_-zofE7A3ya9"
      }
    },
    {
      "cell_type": "markdown",
      "source": [
        "#### Removendo arquivos existentes"
      ],
      "metadata": {
        "id": "IqCvuuXwMfMR"
      }
    },
    {
      "cell_type": "code",
      "source": [
        "files = glob.glob('/content/drive/MyDrive/estudo-data-science/7-days-of-code/*')\n",
        "for f in files:\n",
        "  os.remove(f)"
      ],
      "metadata": {
        "id": "MPvZ0t8BMi-5"
      },
      "execution_count": null,
      "outputs": []
    },
    {
      "cell_type": "markdown",
      "source": [
        "#### Download das bases de dados, savando no Google Drive dentro"
      ],
      "metadata": {
        "id": "q6KSWENE4AFn"
      }
    },
    {
      "cell_type": "code",
      "source": [
        "years = [2022, 2021, 2020, 2019, 2018]\n",
        "\n",
        "for year in years:\n",
        "  req = requests.get('https://www.senado.gov.br/transparencia/LAI/verba/despesa_ceaps_{}.csv'.format(year))\n",
        "  # Convert to iterator by splitting on \\n chars\n",
        "  lines = req.text.splitlines()\n",
        "  # Parse as CSV object\n",
        "  reader = csv.reader(lines, delimiter=';')\n",
        "  next(reader)\n",
        "  with open('/content/drive/MyDrive/estudo-data-science/7-days-of-code/despesa_ceaps_{}.csv'.format(year), mode='w') as file:\n",
        "    writer = csv.writer(file, delimiter=';')\n",
        "    for row in reader:\n",
        "      writer.writerow(row)"
      ],
      "metadata": {
        "id": "uIyBqCcr5_cT"
      },
      "execution_count": null,
      "outputs": []
    },
    {
      "cell_type": "markdown",
      "source": [
        "#### Carregar todas as bases de dados"
      ],
      "metadata": {
        "id": "Z9YzxpkFCXEX"
      }
    },
    {
      "cell_type": "code",
      "source": [
        "files_list = []\n",
        "df_years = []\n",
        "\n",
        "for dirname, _, filenames in os.walk('/content/drive/MyDrive/estudo-data-science/7-days-of-code/'):\n",
        "  for filename in filenames:\n",
        "    print(os.path.join(dirname, filename))\n",
        "    \n",
        "    file = os.path.join(dirname, filename)\n",
        "    fileExt = file[58:-4]\n",
        "    print(fileExt)\n",
        "    #read each file in their variable name\n",
        "    exec('data_{:s} = pd.read_csv(\"{:s}\", delimiter=\";\")'.format(fileExt, file))\n",
        "    exec('df_years.append(pd.read_csv(\"{:s}\", delimiter=\";\"))'.format(file))\n",
        "    \n",
        "    #append list of files\n",
        "    files_list.append('data_{:s}'.format(fileExt))\n",
        "\n",
        "    # -- Display the files that will be loaded and the varible names\n",
        "    # print('data_{}'.format(fileExt))\n",
        "\n",
        "files_list\n",
        "df_years"
      ],
      "metadata": {
        "id": "1Mq0xzLzCWJU",
        "colab": {
          "base_uri": "https://localhost:8080/"
        },
        "outputId": "34442d2e-1c04-4a63-d40f-39452b11f6cc"
      },
      "execution_count": null,
      "outputs": [
        {
          "output_type": "stream",
          "name": "stdout",
          "text": [
            "/content/drive/MyDrive/estudo-data-science/7-days-of-code/despesa_ceaps_2022.csv\n",
            "despesa_ceaps_2022\n",
            "/content/drive/MyDrive/estudo-data-science/7-days-of-code/despesa_ceaps_2021.csv\n",
            "despesa_ceaps_2021\n",
            "/content/drive/MyDrive/estudo-data-science/7-days-of-code/despesa_ceaps_2020.csv\n",
            "despesa_ceaps_2020\n",
            "/content/drive/MyDrive/estudo-data-science/7-days-of-code/despesa_ceaps_2019.csv\n",
            "despesa_ceaps_2019\n",
            "/content/drive/MyDrive/estudo-data-science/7-days-of-code/despesa_ceaps_2018.csv\n",
            "despesa_ceaps_2018\n"
          ]
        },
        {
          "output_type": "execute_result",
          "data": {
            "text/plain": [
              "[       ANO  MES           SENADOR  \\\n",
              " 0     2022    1      ACIR GURGACZ   \n",
              " 1     2022    1      ACIR GURGACZ   \n",
              " 2     2022    1      ACIR GURGACZ   \n",
              " 3     2022    1      ACIR GURGACZ   \n",
              " 4     2022    1      ACIR GURGACZ   \n",
              " ...    ...  ...               ...   \n",
              " 5268  2022    4  ZEQUINHA MARINHO   \n",
              " 5269  2022    4  ZEQUINHA MARINHO   \n",
              " 5270  2022    4  ZEQUINHA MARINHO   \n",
              " 5271  2022    4  ZEQUINHA MARINHO   \n",
              " 5272  2022    4  ZEQUINHA MARINHO   \n",
              " \n",
              "                                            TIPO_DESPESA            CNPJ_CPF  \\\n",
              " 0     Aluguel de imóveis para escritório político, c...      004.948.028-63   \n",
              " 1                   Divulgação da atividade parlamentar  26.320.603/0001-64   \n",
              " 2                   Divulgação da atividade parlamentar  13.659.201/0001-47   \n",
              " 3                   Divulgação da atividade parlamentar  23.652.846/0001-01   \n",
              " 4                   Divulgação da atividade parlamentar  08.941.827/0001-01   \n",
              " ...                                                 ...                 ...   \n",
              " 5268  Passagens aéreas, aquáticas e terrestres nacio...  22.052.777/0001-32   \n",
              " 5269  Passagens aéreas, aquáticas e terrestres nacio...  22.052.777/0001-32   \n",
              " 5270  Passagens aéreas, aquáticas e terrestres nacio...  22.052.777/0001-32   \n",
              " 5271  Passagens aéreas, aquáticas e terrestres nacio...  22.052.777/0001-32   \n",
              " 5272  Passagens aéreas, aquáticas e terrestres nacio...  22.052.777/0001-32   \n",
              " \n",
              "                                              FORNECEDOR          DOCUMENTO  \\\n",
              " 0                         GILBERTO PISELO DO NASCIMENTO             001/22   \n",
              " 1                                         INFORMANAHORA  000000000000310/A   \n",
              " 2                       LINHA PURPURA FOTO E VIDEO LTDA                107   \n",
              " 3                     ROBERTO GUTIERREZ DA ROCHA M.E.I.                187   \n",
              " 4     RONDONIA DINÂMICA COM. E SERV. DE INFORMÁTICA ...  000000000001772/A   \n",
              " ...                                                 ...                ...   \n",
              " 5268                                      Exceller Tour             FRFFFI   \n",
              " 5269                                      Exceller Tour             KBL62Y   \n",
              " 5270                                      Exceller Tour             CGDOUM   \n",
              " 5271                                      Exceller Tour             ZFBHVF   \n",
              " 5272                                      Exceller Tour             WXVTQZ   \n",
              " \n",
              "             DATA                                       DETALHAMENTO  \\\n",
              " 0     03/01/2022  Despesa com pagamento de aluguel de imóvel par...   \n",
              " 1     04/01/2022  Despesa com divulgação da atividade parlamenta...   \n",
              " 2     14/01/2022  Despesa com produção de texto e edição de víde...   \n",
              " 3     18/01/2022                Divulgação da atividade parlamentar   \n",
              " 4     17/01/2022                Divulgação da atividade parlamentar   \n",
              " ...          ...                                                ...   \n",
              " 5268  06/04/2022  Companhia Aérea: LATAM, Localizador: FRFFFI. P...   \n",
              " 5269  11/04/2022  Companhia Aérea: AZUL, Localizador: KBL62Y. Pa...   \n",
              " 5270  11/04/2022  Companhia Aérea: GOL, Localizador: CGDOUM. Pas...   \n",
              " 5271  20/04/2022  Companhia Aérea: AZUL, Localizador: ZFBHVF. Pa...   \n",
              " 5272  20/04/2022  Companhia Aérea: GOL, Localizador: WXVTQZ. Pas...   \n",
              " \n",
              "      VALOR_REEMBOLSADO  COD_DOCUMENTO  \n",
              " 0                 6000        2173614  \n",
              " 1                 1500        2173615  \n",
              " 2                 6000        2173616  \n",
              " 3                 1000        2173618  \n",
              " 4                 2000        2173617  \n",
              " ...                ...            ...  \n",
              " 5268              2324        2177912  \n",
              " 5269           1081,85        2178549  \n",
              " 5270           2083,02        2178550  \n",
              " 5271            1810,9        2179253  \n",
              " 5272           3127,81        2179251  \n",
              " \n",
              " [5273 rows x 11 columns],         ANO  MES           SENADOR  \\\n",
              " 0      2021    1      ACIR GURGACZ   \n",
              " 1      2021    1      ACIR GURGACZ   \n",
              " 2      2021    1      ACIR GURGACZ   \n",
              " 3      2021    1      ACIR GURGACZ   \n",
              " 4      2021    1      ACIR GURGACZ   \n",
              " ...     ...  ...               ...   \n",
              " 16822  2021   12  ZEQUINHA MARINHO   \n",
              " 16823  2021   12  ZEQUINHA MARINHO   \n",
              " 16824  2021   12  ZEQUINHA MARINHO   \n",
              " 16825  2021   12  ZEQUINHA MARINHO   \n",
              " 16826  2021   12  ZEQUINHA MARINHO   \n",
              " \n",
              "                                             TIPO_DESPESA            CNPJ_CPF  \\\n",
              " 0      Aluguel de imóveis para escritório político, c...  05.914.650/0001-66   \n",
              " 1      Aluguel de imóveis para escritório político, c...      062.135.728-64   \n",
              " 2      Aluguel de imóveis para escritório político, c...      004.948.028-63   \n",
              " 3                    Divulgação da atividade parlamentar  26.320.603/0001-64   \n",
              " 4                    Divulgação da atividade parlamentar  13.659.201/0001-47   \n",
              " ...                                                  ...                 ...   \n",
              " 16822  Passagens aéreas, aquáticas e terrestres nacio...  22.052.777/0001-32   \n",
              " 16823  Passagens aéreas, aquáticas e terrestres nacio...  22.052.777/0001-32   \n",
              " 16824  Passagens aéreas, aquáticas e terrestres nacio...  22.052.777/0001-32   \n",
              " 16825  Passagens aéreas, aquáticas e terrestres nacio...  22.052.777/0001-32   \n",
              " 16826  Passagens aéreas, aquáticas e terrestres nacio...  22.052.777/0001-32   \n",
              " \n",
              "                                               FORNECEDOR    DOCUMENTO  \\\n",
              " 0                                               ENERGISA  023.489.627   \n",
              " 1      FERNANDO WALDEIR PACINI e ANA LUCIA DA SILVA S...      01/2021   \n",
              " 2                          GILBERTO PISELO DO NASCIMENTO       001/21   \n",
              " 3                                          INFORMANAHORA           10   \n",
              " 4                        LINHA PURPURA FOTO E VIDEO LTDA           44   \n",
              " ...                                                  ...          ...   \n",
              " 16822                                      Exceller Tour       GDAONA   \n",
              " 16823                                      Exceller Tour       JFQVZP   \n",
              " 16824                                      Exceller Tour       SSKEOB   \n",
              " 16825                                      Exceller Tour       ZICCEX   \n",
              " 16826                                      Exceller Tour       LM6FSK   \n",
              " \n",
              "              DATA                                       DETALHAMENTO  \\\n",
              " 0      21/01/2021  Pagamento de energia elétrica para uso do escr...   \n",
              " 1      05/01/2021  Despesa com pagamento de aluguel de imóvel par...   \n",
              " 2      06/01/2021  Despesa com aluguel de imóvel para uso do escr...   \n",
              " 3      25/01/2021                Divulgação da atividade parlamentar   \n",
              " 4      07/01/2021                Divulgação da atividade parlamentar   \n",
              " ...           ...                                                ...   \n",
              " 16822  01/12/2021  Companhia Aérea: GOL, Localizador: GDAONA. Pas...   \n",
              " 16823  15/12/2021  Companhia Aérea: LATAM, Localizador: JFQVZP. P...   \n",
              " 16824  17/12/2021  Companhia Aérea: GOL, Localizador: SSKEOB. Pas...   \n",
              " 16825  27/12/2021  Companhia Aérea: LATAM, Localizador: ZICCEX. P...   \n",
              " 16826  29/12/2021  Companhia Aérea: AZUL, Localizador: LM6FSK. Pa...   \n",
              " \n",
              "       VALOR_REEMBOLSADO  COD_DOCUMENTO  \n",
              " 0                 75,29        2158003  \n",
              " 1                  1000        2157367  \n",
              " 2                  6000        2156383  \n",
              " 3                  1500        2154509  \n",
              " 4                  6000        2154507  \n",
              " ...                 ...            ...  \n",
              " 16822           1715,45        2170983  \n",
              " 16823           2489,29        2172263  \n",
              " 16824           1486,66        2172717  \n",
              " 16825           2515,56        2173239  \n",
              " 16826           1510,75        2173238  \n",
              " \n",
              " [16827 rows x 11 columns],         ANO  MES           SENADOR  \\\n",
              " 0      2020    1      ACIR GURGACZ   \n",
              " 1      2020    1      ACIR GURGACZ   \n",
              " 2      2020    1      ACIR GURGACZ   \n",
              " 3      2020    1      ACIR GURGACZ   \n",
              " 4      2020    1      ACIR GURGACZ   \n",
              " ...     ...  ...               ...   \n",
              " 14085  2020   12  ZEQUINHA MARINHO   \n",
              " 14086  2020   12  ZEQUINHA MARINHO   \n",
              " 14087  2020   12  ZEQUINHA MARINHO   \n",
              " 14088  2020   12  ZEQUINHA MARINHO   \n",
              " 14089  2020   12  ZEQUINHA MARINHO   \n",
              " \n",
              "                                             TIPO_DESPESA            CNPJ_CPF  \\\n",
              " 0      Aluguel de imóveis para escritório político, c...  05.914.650/0001-66   \n",
              " 1      Aluguel de imóveis para escritório político, c...  05.914.650/0001-66   \n",
              " 2      Aluguel de imóveis para escritório político, c...      062.135.728-64   \n",
              " 3      Aluguel de imóveis para escritório político, c...      004.948.028-63   \n",
              " 4      Aluguel de imóveis para escritório político, c...  05.423.963/0001-11   \n",
              " ...                                                  ...                 ...   \n",
              " 14085  Passagens aéreas, aquáticas e terrestres nacio...  22.052.777/0001-32   \n",
              " 14086  Passagens aéreas, aquáticas e terrestres nacio...  22.052.777/0001-32   \n",
              " 14087  Passagens aéreas, aquáticas e terrestres nacio...  22.052.777/0001-32   \n",
              " 14088  Passagens aéreas, aquáticas e terrestres nacio...  22.052.777/0001-32   \n",
              " 14089  Passagens aéreas, aquáticas e terrestres nacio...  22.052.777/0001-32   \n",
              " \n",
              "                                               FORNECEDOR  DOCUMENTO  \\\n",
              " 0                                               ENERGISA   14764742   \n",
              " 1                                               ENERGISA   14764741   \n",
              " 2      FERNANDO WALDEIR PACINI e ANA LUCIA DA SILVA S...   001/2020   \n",
              " 3                          GILBERTO PISELO DO NASCIMENTO     001/20   \n",
              " 4                                          OI MÓVEL S.A.  333871612   \n",
              " ...                                                  ...        ...   \n",
              " 14085                                      Exceller Tour     TJ9NGF   \n",
              " 14086                                      Exceller Tour     QN9KHE   \n",
              " 14087                                      Exceller Tour     QIGVKT   \n",
              " 14088                                      Exceller Tour     QDHKYF   \n",
              " 14089                                      Exceller Tour     BQWCVK   \n",
              " \n",
              "              DATA                                       DETALHAMENTO  \\\n",
              " 0      06/01/2020  Despesa com energia elétrica para uso do escri...   \n",
              " 1      06/01/2020  Despesa com energia elétrica para uso do escri...   \n",
              " 2      06/01/2020  Despesa com pagamento de aluguel de imóvel par...   \n",
              " 3      02/01/2020  Despesa com pagamento de aluguel de imóvel par...   \n",
              " 4      25/12/2019  Despesa com pagamento de telefone para uso do ...   \n",
              " ...           ...                                                ...   \n",
              " 14085  08/12/2020  Companhia Aérea: GOL, Localizador: TJ9NGF. Pas...   \n",
              " 14086  09/12/2020  Companhia Aérea: AZUL, Localizador: QN9KHE. Pa...   \n",
              " 14087  14/12/2020  Companhia Aérea: AZUL, Localizador: QIGVKT. Pa...   \n",
              " 14088  14/12/2020  Companhia Aérea: AZUL, Localizador: QDHKYF. Pa...   \n",
              " 14089  18/12/2020  Companhia Aérea: GOL, Localizador: BQWCVK. Pas...   \n",
              " \n",
              "       VALOR_REEMBOLSADO  COD_DOCUMENTO  \n",
              " 0                122,62        2141820  \n",
              " 1                137,75        2141818  \n",
              " 2                  1000        2139025  \n",
              " 3                  6000        2139020  \n",
              " 4                323,95        2139044  \n",
              " ...                 ...            ...  \n",
              " 14085           1654,46        2152858  \n",
              " 14086           1121,83        2152859  \n",
              " 14087            549,47        2153157  \n",
              " 14088            831,05        2153152  \n",
              " 14089           2026,12        2153557  \n",
              " \n",
              " [14090 rows x 11 columns],         ANO  MES        SENADOR  \\\n",
              " 0      2019    1   ACIR GURGACZ   \n",
              " 1      2019    1   ACIR GURGACZ   \n",
              " 2      2019    1   ACIR GURGACZ   \n",
              " 3      2019    1   ACIR GURGACZ   \n",
              " 4      2019    2   ACIR GURGACZ   \n",
              " ...     ...  ...            ...   \n",
              " 21629  2019    1  ZEZÉ PERRELLA   \n",
              " 21630  2019    1  ZEZÉ PERRELLA   \n",
              " 21631  2019    1  ZEZÉ PERRELLA   \n",
              " 21632  2019    1  ZEZÉ PERRELLA   \n",
              " 21633  2019    1  ZEZÉ PERRELLA   \n",
              " \n",
              "                                             TIPO_DESPESA            CNPJ_CPF  \\\n",
              " 0      Aluguel de imóveis para escritório político, c...  05.914.650/0001-66   \n",
              " 1      Aluguel de imóveis para escritório político, c...  05.914.650/0001-66   \n",
              " 2      Aluguel de imóveis para escritório político, c...      004.948.028-63   \n",
              " 3      Aluguel de imóveis para escritório político, c...  05.423.963/0001-11   \n",
              " 4      Aluguel de imóveis para escritório político, c...  05.914.650/0001-66   \n",
              " ...                                                  ...                 ...   \n",
              " 21629  Passagens aéreas, aquáticas e terrestres nacio...  09.296.295/0001-60   \n",
              " 21630  Passagens aéreas, aquáticas e terrestres nacio...  09.296.295/0001-60   \n",
              " 21631  Passagens aéreas, aquáticas e terrestres nacio...  07.575.651/0001-59   \n",
              " 21632  Passagens aéreas, aquáticas e terrestres nacio...  33.937.681/0001-78   \n",
              " 21633  Passagens aéreas, aquáticas e terrestres nacio...  33.937.681/0001-78   \n",
              " \n",
              "                           FORNECEDOR  DOCUMENTO        DATA  \\\n",
              " 0                           ENERGISA  006582758  04/01/2019   \n",
              " 1                           ENERGISA  006582755  04/01/2019   \n",
              " 2      GILBERTO PISELO DO NASCIMENTO      00119  07/01/2019   \n",
              " 3                      OI MÓVEL S.A.   86161151  25/12/2018   \n",
              " 4                           ENERGISA  007236036  04/02/2019   \n",
              " ...                              ...        ...         ...   \n",
              " 21629                           Azul     O954UL  19/01/2019   \n",
              " 21630                           Azul     G9Z36V  24/01/2019   \n",
              " 21631                            GOL     WNQI4A  29/01/2019   \n",
              " 21632                          LATAM     NCCPIM  23/01/2019   \n",
              " 21633                          LATAM     MEYLWB  26/01/2019   \n",
              " \n",
              "                                             DETALHAMENTO VALOR_REEMBOLSADO  \\\n",
              " 0      Despesa com pagamento de energia elétrica do e...             66,02   \n",
              " 1      Despesa com pagamento de energia elétrica do e...            139,98   \n",
              " 2      Despesa com pagamento de aluguel de imóvel par...              6000   \n",
              " 3      Despesa com pagamento de telefonia para o escr...            316,39   \n",
              " 4      Despesa com pagamento de energia elétrica para...             99,45   \n",
              " ...                                                  ...               ...   \n",
              " 21629  Companhia Aérea: AZUL, Localizador: O954UL. Pa...            769,29   \n",
              " 21630  Companhia Aérea: AZUL, Localizador: G9Z36V. Pa...            310,62   \n",
              " 21631  Companhia Aérea: GOL, Localizador: WNQI4A. Pas...            1168,1   \n",
              " 21632  Companhia Aérea: LATAM, Localizador: NCCPIM. P...            772,05   \n",
              " 21633  Companhia Aérea: LATAM, Localizador: MEYLWB. P...           1755,17   \n",
              " \n",
              "        COD_DOCUMENTO  \n",
              " 0            2116543  \n",
              " 1            2116546  \n",
              " 2            2113817  \n",
              " 3            2116541  \n",
              " 4            2116550  \n",
              " ...              ...  \n",
              " 21629        2113825  \n",
              " 21630        2113828  \n",
              " 21631        2114101  \n",
              " 21632        2113826  \n",
              " 21633        2113830  \n",
              " \n",
              " [21634 rows x 11 columns],         ANO  MES        SENADOR  \\\n",
              " 0      2018    1   ACIR GURGACZ   \n",
              " 1      2018    1   ACIR GURGACZ   \n",
              " 2      2018    1   ACIR GURGACZ   \n",
              " 3      2018    1   ACIR GURGACZ   \n",
              " 4      2018    2   ACIR GURGACZ   \n",
              " ...     ...  ...            ...   \n",
              " 24487  2018   12  ZEZÉ PERRELLA   \n",
              " 24488  2018   12  ZEZÉ PERRELLA   \n",
              " 24489  2018   12  ZEZÉ PERRELLA   \n",
              " 24490  2018   12  ZEZÉ PERRELLA   \n",
              " 24491  2018   12  ZEZÉ PERRELLA   \n",
              " \n",
              "                                             TIPO_DESPESA            CNPJ_CPF  \\\n",
              " 0      Aluguel de imóveis para escritório político, c...      004.948.028-63   \n",
              " 1      Passagens aéreas, aquáticas e terrestres nacio...  63.764.211/0001-10   \n",
              " 2      Passagens aéreas, aquáticas e terrestres nacio...  63.764.211/0001-10   \n",
              " 3      Passagens aéreas, aquáticas e terrestres nacio...  63.764.211/0001-10   \n",
              " 4      Aluguel de imóveis para escritório político, c...      004.948.028-63   \n",
              " ...                                                  ...                 ...   \n",
              " 24487  Locomoção, hospedagem, alimentação, combustíve...  16.979.906/0001-30   \n",
              " 24488  Locomoção, hospedagem, alimentação, combustíve...  16.979.906/0001-30   \n",
              " 24489  Locomoção, hospedagem, alimentação, combustíve...  16.979.906/0001-30   \n",
              " 24490  Passagens aéreas, aquáticas e terrestres nacio...  16.978.175/0001-08   \n",
              " 24491  Passagens aéreas, aquáticas e terrestres nacio...  16.978.175/0001-08   \n",
              " \n",
              "                                      FORNECEDOR DOCUMENTO        DATA  \\\n",
              " 0                 GILBERTO PISELO DO NASCIMENTO       NaN  02/01/2018   \n",
              " 1      TRANSCONTINENTAL AGÊNCIA DE VIAGENS LTDA    M2CJMM  02/01/2018   \n",
              " 2      TRANSCONTINENTAL AGÊNCIA DE VIAGENS LTDA    SFEXYF  02/01/2018   \n",
              " 3      TRANSCONTINENTAL AGÊNCIA DE VIAGENS LTDA    V64HTR  24/01/2018   \n",
              " 4                 GILBERTO PISELO DO NASCIMENTO    002/18  01/02/2018   \n",
              " ...                                         ...       ...         ...   \n",
              " 24487                  Posto Vila da Serra Ltda    398003  13/12/2018   \n",
              " 24488                  Posto Vila da Serra Ltda    401813  19/12/2018   \n",
              " 24489                  Posto Vila da Serra Ltda    401714  19/12/2018   \n",
              " 24490              Adria Viagens e Turismo Ltda    CI5PSK  05/12/2018   \n",
              " 24491              Adria Viagens e Turismo Ltda    OHNRAG  17/12/2018   \n",
              " \n",
              "                                             DETALHAMENTO VALOR_REEMBOLSADO  \\\n",
              " 0      Despesa com pagamento de aluguel de imóvel par...              6000   \n",
              " 1      Companhia Aérea: AVIANCA, Localizador: M2CJMM....            274,99   \n",
              " 2      Companhia Aérea: LATAM, Localizador: SFEXYF. P...           1094,29   \n",
              " 3      Companhia Aérea: AZUL, Localizador: V64HTR. Pa...           1553,99   \n",
              " 4      Despesa com pagamento de aluguel de imóvel par...              6000   \n",
              " ...                                                  ...               ...   \n",
              " 24487                                                NaN            220,05   \n",
              " 24488                                                NaN             73,02   \n",
              " 24489                                                NaN            232,01   \n",
              " 24490  Companhia Aérea: AZUL, Localizador: CI5PSK. Pa...           1132,69   \n",
              " 24491  Companhia Aérea: LATAM, Localizador: OHNRAG. P...           1260,45   \n",
              " \n",
              "        COD_DOCUMENTO  \n",
              " 0            2088462  \n",
              " 1            2088476  \n",
              " 2            2088528  \n",
              " 3            2088475  \n",
              " 4            2088477  \n",
              " ...              ...  \n",
              " 24487        2113727  \n",
              " 24488        2113729  \n",
              " 24489        2113732  \n",
              " 24490        2111612  \n",
              " 24491        2113823  \n",
              " \n",
              " [24492 rows x 11 columns]]"
            ]
          },
          "metadata": {},
          "execution_count": 5
        }
      ]
    },
    {
      "cell_type": "markdown",
      "source": [
        "#### Vamos juntar todos os datasets que nos criamos sobre as despesas da CEAPS"
      ],
      "metadata": {
        "id": "hLIafqHItJ1f"
      }
    },
    {
      "cell_type": "code",
      "source": [
        "df_despesa_ceaps = pd.concat(df_years)"
      ],
      "metadata": {
        "id": "w_uvB58IY-GR"
      },
      "execution_count": null,
      "outputs": []
    },
    {
      "cell_type": "markdown",
      "source": [
        "Verificando a quantidade total dos dataframes"
      ],
      "metadata": {
        "id": "bnIBkPZ1pxKU"
      }
    },
    {
      "cell_type": "code",
      "source": [
        "data_despesa_ceaps_2022.shape[0] + data_despesa_ceaps_2021.shape[0] + data_despesa_ceaps_2020.shape[0] + data_despesa_ceaps_2019.shape[0] + data_despesa_ceaps_2018.shape[0]"
      ],
      "metadata": {
        "colab": {
          "base_uri": "https://localhost:8080/"
        },
        "id": "Yjo4wTvIp4VZ",
        "outputId": "3db3aa97-e95a-44ee-b969-c4d10f1b2dc4"
      },
      "execution_count": null,
      "outputs": [
        {
          "output_type": "execute_result",
          "data": {
            "text/plain": [
              "82316"
            ]
          },
          "metadata": {},
          "execution_count": 7
        }
      ]
    },
    {
      "cell_type": "markdown",
      "source": [
        "Verificando o total do dataframe concatenando todos os outros dataframes separados por ANOS"
      ],
      "metadata": {
        "id": "cAYqDfWcqmW0"
      }
    },
    {
      "cell_type": "code",
      "source": [
        "df_despesa_ceaps.shape[0]"
      ],
      "metadata": {
        "colab": {
          "base_uri": "https://localhost:8080/"
        },
        "id": "4FYpI-aRZCeX",
        "outputId": "91329a9c-447e-4aa1-8506-0d8a88cbb14f"
      },
      "execution_count": null,
      "outputs": [
        {
          "output_type": "execute_result",
          "data": {
            "text/plain": [
              "82316"
            ]
          },
          "metadata": {},
          "execution_count": 8
        }
      ]
    },
    {
      "cell_type": "markdown",
      "source": [
        "#### Imprimindo os primeiros registro do nosso dataframe"
      ],
      "metadata": {
        "id": "wNPCiNKZrGBa"
      }
    },
    {
      "cell_type": "code",
      "source": [
        "df_despesa_ceaps.head()"
      ],
      "metadata": {
        "colab": {
          "base_uri": "https://localhost:8080/",
          "height": 337
        },
        "id": "fpX0KI1sZNzQ",
        "outputId": "f19dd2bb-0ede-4028-a31c-d36e25c042b2"
      },
      "execution_count": null,
      "outputs": [
        {
          "output_type": "execute_result",
          "data": {
            "text/plain": [
              "    ANO  MES       SENADOR                                       TIPO_DESPESA  \\\n",
              "0  2022    1  ACIR GURGACZ  Aluguel de imóveis para escritório político, c...   \n",
              "1  2022    1  ACIR GURGACZ                Divulgação da atividade parlamentar   \n",
              "2  2022    1  ACIR GURGACZ                Divulgação da atividade parlamentar   \n",
              "3  2022    1  ACIR GURGACZ                Divulgação da atividade parlamentar   \n",
              "4  2022    1  ACIR GURGACZ                Divulgação da atividade parlamentar   \n",
              "\n",
              "             CNPJ_CPF                                         FORNECEDOR  \\\n",
              "0      004.948.028-63                      GILBERTO PISELO DO NASCIMENTO   \n",
              "1  26.320.603/0001-64                                      INFORMANAHORA   \n",
              "2  13.659.201/0001-47                    LINHA PURPURA FOTO E VIDEO LTDA   \n",
              "3  23.652.846/0001-01                  ROBERTO GUTIERREZ DA ROCHA M.E.I.   \n",
              "4  08.941.827/0001-01  RONDONIA DINÂMICA COM. E SERV. DE INFORMÁTICA ...   \n",
              "\n",
              "           DOCUMENTO        DATA  \\\n",
              "0             001/22  03/01/2022   \n",
              "1  000000000000310/A  04/01/2022   \n",
              "2                107  14/01/2022   \n",
              "3                187  18/01/2022   \n",
              "4  000000000001772/A  17/01/2022   \n",
              "\n",
              "                                        DETALHAMENTO VALOR_REEMBOLSADO  \\\n",
              "0  Despesa com pagamento de aluguel de imóvel par...              6000   \n",
              "1  Despesa com divulgação da atividade parlamenta...              1500   \n",
              "2  Despesa com produção de texto e edição de víde...              6000   \n",
              "3                Divulgação da atividade parlamentar              1000   \n",
              "4                Divulgação da atividade parlamentar              2000   \n",
              "\n",
              "   COD_DOCUMENTO  \n",
              "0        2173614  \n",
              "1        2173615  \n",
              "2        2173616  \n",
              "3        2173618  \n",
              "4        2173617  "
            ],
            "text/html": [
              "\n",
              "  <div id=\"df-f0987679-dbf8-4737-9700-5ac5d620e6a2\">\n",
              "    <div class=\"colab-df-container\">\n",
              "      <div>\n",
              "<style scoped>\n",
              "    .dataframe tbody tr th:only-of-type {\n",
              "        vertical-align: middle;\n",
              "    }\n",
              "\n",
              "    .dataframe tbody tr th {\n",
              "        vertical-align: top;\n",
              "    }\n",
              "\n",
              "    .dataframe thead th {\n",
              "        text-align: right;\n",
              "    }\n",
              "</style>\n",
              "<table border=\"1\" class=\"dataframe\">\n",
              "  <thead>\n",
              "    <tr style=\"text-align: right;\">\n",
              "      <th></th>\n",
              "      <th>ANO</th>\n",
              "      <th>MES</th>\n",
              "      <th>SENADOR</th>\n",
              "      <th>TIPO_DESPESA</th>\n",
              "      <th>CNPJ_CPF</th>\n",
              "      <th>FORNECEDOR</th>\n",
              "      <th>DOCUMENTO</th>\n",
              "      <th>DATA</th>\n",
              "      <th>DETALHAMENTO</th>\n",
              "      <th>VALOR_REEMBOLSADO</th>\n",
              "      <th>COD_DOCUMENTO</th>\n",
              "    </tr>\n",
              "  </thead>\n",
              "  <tbody>\n",
              "    <tr>\n",
              "      <th>0</th>\n",
              "      <td>2022</td>\n",
              "      <td>1</td>\n",
              "      <td>ACIR GURGACZ</td>\n",
              "      <td>Aluguel de imóveis para escritório político, c...</td>\n",
              "      <td>004.948.028-63</td>\n",
              "      <td>GILBERTO PISELO DO NASCIMENTO</td>\n",
              "      <td>001/22</td>\n",
              "      <td>03/01/2022</td>\n",
              "      <td>Despesa com pagamento de aluguel de imóvel par...</td>\n",
              "      <td>6000</td>\n",
              "      <td>2173614</td>\n",
              "    </tr>\n",
              "    <tr>\n",
              "      <th>1</th>\n",
              "      <td>2022</td>\n",
              "      <td>1</td>\n",
              "      <td>ACIR GURGACZ</td>\n",
              "      <td>Divulgação da atividade parlamentar</td>\n",
              "      <td>26.320.603/0001-64</td>\n",
              "      <td>INFORMANAHORA</td>\n",
              "      <td>000000000000310/A</td>\n",
              "      <td>04/01/2022</td>\n",
              "      <td>Despesa com divulgação da atividade parlamenta...</td>\n",
              "      <td>1500</td>\n",
              "      <td>2173615</td>\n",
              "    </tr>\n",
              "    <tr>\n",
              "      <th>2</th>\n",
              "      <td>2022</td>\n",
              "      <td>1</td>\n",
              "      <td>ACIR GURGACZ</td>\n",
              "      <td>Divulgação da atividade parlamentar</td>\n",
              "      <td>13.659.201/0001-47</td>\n",
              "      <td>LINHA PURPURA FOTO E VIDEO LTDA</td>\n",
              "      <td>107</td>\n",
              "      <td>14/01/2022</td>\n",
              "      <td>Despesa com produção de texto e edição de víde...</td>\n",
              "      <td>6000</td>\n",
              "      <td>2173616</td>\n",
              "    </tr>\n",
              "    <tr>\n",
              "      <th>3</th>\n",
              "      <td>2022</td>\n",
              "      <td>1</td>\n",
              "      <td>ACIR GURGACZ</td>\n",
              "      <td>Divulgação da atividade parlamentar</td>\n",
              "      <td>23.652.846/0001-01</td>\n",
              "      <td>ROBERTO GUTIERREZ DA ROCHA M.E.I.</td>\n",
              "      <td>187</td>\n",
              "      <td>18/01/2022</td>\n",
              "      <td>Divulgação da atividade parlamentar</td>\n",
              "      <td>1000</td>\n",
              "      <td>2173618</td>\n",
              "    </tr>\n",
              "    <tr>\n",
              "      <th>4</th>\n",
              "      <td>2022</td>\n",
              "      <td>1</td>\n",
              "      <td>ACIR GURGACZ</td>\n",
              "      <td>Divulgação da atividade parlamentar</td>\n",
              "      <td>08.941.827/0001-01</td>\n",
              "      <td>RONDONIA DINÂMICA COM. E SERV. DE INFORMÁTICA ...</td>\n",
              "      <td>000000000001772/A</td>\n",
              "      <td>17/01/2022</td>\n",
              "      <td>Divulgação da atividade parlamentar</td>\n",
              "      <td>2000</td>\n",
              "      <td>2173617</td>\n",
              "    </tr>\n",
              "  </tbody>\n",
              "</table>\n",
              "</div>\n",
              "      <button class=\"colab-df-convert\" onclick=\"convertToInteractive('df-f0987679-dbf8-4737-9700-5ac5d620e6a2')\"\n",
              "              title=\"Convert this dataframe to an interactive table.\"\n",
              "              style=\"display:none;\">\n",
              "        \n",
              "  <svg xmlns=\"http://www.w3.org/2000/svg\" height=\"24px\"viewBox=\"0 0 24 24\"\n",
              "       width=\"24px\">\n",
              "    <path d=\"M0 0h24v24H0V0z\" fill=\"none\"/>\n",
              "    <path d=\"M18.56 5.44l.94 2.06.94-2.06 2.06-.94-2.06-.94-.94-2.06-.94 2.06-2.06.94zm-11 1L8.5 8.5l.94-2.06 2.06-.94-2.06-.94L8.5 2.5l-.94 2.06-2.06.94zm10 10l.94 2.06.94-2.06 2.06-.94-2.06-.94-.94-2.06-.94 2.06-2.06.94z\"/><path d=\"M17.41 7.96l-1.37-1.37c-.4-.4-.92-.59-1.43-.59-.52 0-1.04.2-1.43.59L10.3 9.45l-7.72 7.72c-.78.78-.78 2.05 0 2.83L4 21.41c.39.39.9.59 1.41.59.51 0 1.02-.2 1.41-.59l7.78-7.78 2.81-2.81c.8-.78.8-2.07 0-2.86zM5.41 20L4 18.59l7.72-7.72 1.47 1.35L5.41 20z\"/>\n",
              "  </svg>\n",
              "      </button>\n",
              "      \n",
              "  <style>\n",
              "    .colab-df-container {\n",
              "      display:flex;\n",
              "      flex-wrap:wrap;\n",
              "      gap: 12px;\n",
              "    }\n",
              "\n",
              "    .colab-df-convert {\n",
              "      background-color: #E8F0FE;\n",
              "      border: none;\n",
              "      border-radius: 50%;\n",
              "      cursor: pointer;\n",
              "      display: none;\n",
              "      fill: #1967D2;\n",
              "      height: 32px;\n",
              "      padding: 0 0 0 0;\n",
              "      width: 32px;\n",
              "    }\n",
              "\n",
              "    .colab-df-convert:hover {\n",
              "      background-color: #E2EBFA;\n",
              "      box-shadow: 0px 1px 2px rgba(60, 64, 67, 0.3), 0px 1px 3px 1px rgba(60, 64, 67, 0.15);\n",
              "      fill: #174EA6;\n",
              "    }\n",
              "\n",
              "    [theme=dark] .colab-df-convert {\n",
              "      background-color: #3B4455;\n",
              "      fill: #D2E3FC;\n",
              "    }\n",
              "\n",
              "    [theme=dark] .colab-df-convert:hover {\n",
              "      background-color: #434B5C;\n",
              "      box-shadow: 0px 1px 3px 1px rgba(0, 0, 0, 0.15);\n",
              "      filter: drop-shadow(0px 1px 2px rgba(0, 0, 0, 0.3));\n",
              "      fill: #FFFFFF;\n",
              "    }\n",
              "  </style>\n",
              "\n",
              "      <script>\n",
              "        const buttonEl =\n",
              "          document.querySelector('#df-f0987679-dbf8-4737-9700-5ac5d620e6a2 button.colab-df-convert');\n",
              "        buttonEl.style.display =\n",
              "          google.colab.kernel.accessAllowed ? 'block' : 'none';\n",
              "\n",
              "        async function convertToInteractive(key) {\n",
              "          const element = document.querySelector('#df-f0987679-dbf8-4737-9700-5ac5d620e6a2');\n",
              "          const dataTable =\n",
              "            await google.colab.kernel.invokeFunction('convertToInteractive',\n",
              "                                                     [key], {});\n",
              "          if (!dataTable) return;\n",
              "\n",
              "          const docLinkHtml = 'Like what you see? Visit the ' +\n",
              "            '<a target=\"_blank\" href=https://colab.research.google.com/notebooks/data_table.ipynb>data table notebook</a>'\n",
              "            + ' to learn more about interactive tables.';\n",
              "          element.innerHTML = '';\n",
              "          dataTable['output_type'] = 'display_data';\n",
              "          await google.colab.output.renderOutput(dataTable, element);\n",
              "          const docLink = document.createElement('div');\n",
              "          docLink.innerHTML = docLinkHtml;\n",
              "          element.appendChild(docLink);\n",
              "        }\n",
              "      </script>\n",
              "    </div>\n",
              "  </div>\n",
              "  "
            ]
          },
          "metadata": {},
          "execution_count": 9
        }
      ]
    },
    {
      "cell_type": "markdown",
      "source": [
        "#### Verificando todos os nossos tipos de dados"
      ],
      "metadata": {
        "id": "Vm85Zs3PrNDx"
      }
    },
    {
      "cell_type": "code",
      "source": [
        "df_despesa_ceaps.info()"
      ],
      "metadata": {
        "colab": {
          "base_uri": "https://localhost:8080/"
        },
        "id": "pgmvW21YrTXn",
        "outputId": "179c7e43-d070-47dd-dad9-9448bc7396a8"
      },
      "execution_count": null,
      "outputs": [
        {
          "output_type": "stream",
          "name": "stdout",
          "text": [
            "<class 'pandas.core.frame.DataFrame'>\n",
            "Int64Index: 82316 entries, 0 to 24491\n",
            "Data columns (total 11 columns):\n",
            " #   Column             Non-Null Count  Dtype \n",
            "---  ------             --------------  ----- \n",
            " 0   ANO                82316 non-null  int64 \n",
            " 1   MES                82316 non-null  int64 \n",
            " 2   SENADOR            82316 non-null  object\n",
            " 3   TIPO_DESPESA       82316 non-null  object\n",
            " 4   CNPJ_CPF           82316 non-null  object\n",
            " 5   FORNECEDOR         82316 non-null  object\n",
            " 6   DOCUMENTO          79018 non-null  object\n",
            " 7   DATA               82316 non-null  object\n",
            " 8   DETALHAMENTO       51167 non-null  object\n",
            " 9   VALOR_REEMBOLSADO  82316 non-null  object\n",
            " 10  COD_DOCUMENTO      82316 non-null  int64 \n",
            "dtypes: int64(3), object(8)\n",
            "memory usage: 7.5+ MB\n"
          ]
        }
      ]
    },
    {
      "cell_type": "markdown",
      "source": [
        "### Data Wrangling\n",
        "\n",
        "#### TO-DO\n",
        "\n",
        "- Converter valores com tipos incorretos (datas e valores monetários)\n",
        "- Remover registros com valores nulos ou inexistentes\n",
        "- Remover valores duplicados\n",
        "- Remover formatação da coluna de CPNJ_CPF\n",
        "- Renomear o nome coluna de CPNJ_CPF para um nome das generico\n",
        "- Criar uma coluna para identificar o tipo de documento (CPNJ OU CPF)"
      ],
      "metadata": {
        "id": "yQ7tN9DP2kol"
      }
    },
    {
      "cell_type": "markdown",
      "source": [
        "#### Verificando e removendo dados nulos"
      ],
      "metadata": {
        "id": "_NTBb4yQNP3F"
      }
    },
    {
      "cell_type": "code",
      "source": [
        "df_despesa_ceaps.isnull().sum()"
      ],
      "metadata": {
        "colab": {
          "base_uri": "https://localhost:8080/"
        },
        "id": "SK9_lS74NVTg",
        "outputId": "3c6b2d37-0f13-48c5-8a72-ae8fdbe20349"
      },
      "execution_count": null,
      "outputs": [
        {
          "output_type": "execute_result",
          "data": {
            "text/plain": [
              "ANO                      0\n",
              "MES                      0\n",
              "SENADOR                  0\n",
              "TIPO_DESPESA             0\n",
              "CNPJ_CPF                 0\n",
              "FORNECEDOR               0\n",
              "DOCUMENTO             3298\n",
              "DATA                     0\n",
              "DETALHAMENTO         31149\n",
              "VALOR_REEMBOLSADO        0\n",
              "COD_DOCUMENTO            0\n",
              "dtype: int64"
            ]
          },
          "metadata": {},
          "execution_count": 11
        }
      ]
    },
    {
      "cell_type": "markdown",
      "source": [
        "#### Como só encontramos dados nulos nas colunas Documento e Detalhamento, podemos adicionar uma label \"Unknown\" nesses registro faltantes"
      ],
      "metadata": {
        "id": "C8Xs_QQHPCc_"
      }
    },
    {
      "cell_type": "code",
      "source": [
        "df_despesa_ceaps.fillna('Unknown', inplace=True)"
      ],
      "metadata": {
        "id": "RJrDJ4_VP3pr"
      },
      "execution_count": null,
      "outputs": []
    },
    {
      "cell_type": "markdown",
      "source": [
        "#### Agora verificaremos se ainda temos registros com valores nulos depois do processo de substituição"
      ],
      "metadata": {
        "id": "Q52_IXAFSkLm"
      }
    },
    {
      "cell_type": "code",
      "source": [
        "df_despesa_ceaps.isnull().sum()"
      ],
      "metadata": {
        "colab": {
          "base_uri": "https://localhost:8080/"
        },
        "id": "VrYY31VSSuWb",
        "outputId": "c33029e1-803e-4607-b4e3-9269a24a89ac"
      },
      "execution_count": null,
      "outputs": [
        {
          "output_type": "execute_result",
          "data": {
            "text/plain": [
              "ANO                  0\n",
              "MES                  0\n",
              "SENADOR              0\n",
              "TIPO_DESPESA         0\n",
              "CNPJ_CPF             0\n",
              "FORNECEDOR           0\n",
              "DOCUMENTO            0\n",
              "DATA                 0\n",
              "DETALHAMENTO         0\n",
              "VALOR_REEMBOLSADO    0\n",
              "COD_DOCUMENTO        0\n",
              "dtype: int64"
            ]
          },
          "metadata": {},
          "execution_count": 13
        }
      ]
    },
    {
      "cell_type": "markdown",
      "source": [
        "#### Vamos verificar se temos registros duplicados em nosso dataframe"
      ],
      "metadata": {
        "id": "inSIGTCQWoV_"
      }
    },
    {
      "cell_type": "code",
      "source": [
        "print('Quantidade de valores duplicados = {}, pelo que podemos ver não temos a necessidade de remover valores duplicados.'.format(df_despesa_ceaps.duplicated(keep='first').sum()))"
      ],
      "metadata": {
        "colab": {
          "base_uri": "https://localhost:8080/"
        },
        "id": "bQQ20snPXN2r",
        "outputId": "a6833a19-e9e9-4c59-9561-7284a5674f3f"
      },
      "execution_count": null,
      "outputs": [
        {
          "output_type": "stream",
          "name": "stdout",
          "text": [
            "Quantidade de valores duplicados = 0, pelo que podemos ver não temos a necessidade de remover valores duplicados.\n"
          ]
        }
      ]
    },
    {
      "cell_type": "markdown",
      "source": [
        "#### Renomear os nomes das colunas para que fiquem mais acessíveis"
      ],
      "metadata": {
        "id": "ZRSWE5BaXuvD"
      }
    },
    {
      "cell_type": "code",
      "source": [
        "columns = [column.lower() for column in df_despesa_ceaps.columns]"
      ],
      "metadata": {
        "id": "yjVq5XdkX5Cn"
      },
      "execution_count": null,
      "outputs": []
    },
    {
      "cell_type": "code",
      "source": [
        "columns"
      ],
      "metadata": {
        "colab": {
          "base_uri": "https://localhost:8080/"
        },
        "id": "z7GPojgZbOIr",
        "outputId": "c8e228fe-0d90-4e8f-bc99-005add2c7844"
      },
      "execution_count": null,
      "outputs": [
        {
          "output_type": "execute_result",
          "data": {
            "text/plain": [
              "['ano',\n",
              " 'mes',\n",
              " 'senador',\n",
              " 'tipo_despesa',\n",
              " 'cnpj_cpf',\n",
              " 'fornecedor',\n",
              " 'documento',\n",
              " 'data',\n",
              " 'detalhamento',\n",
              " 'valor_reembolsado',\n",
              " 'cod_documento']"
            ]
          },
          "metadata": {},
          "execution_count": 16
        }
      ]
    },
    {
      "cell_type": "code",
      "source": [
        "df_despesa_ceaps.columns = columns"
      ],
      "metadata": {
        "id": "_lAJEnqVbP8N"
      },
      "execution_count": null,
      "outputs": []
    },
    {
      "cell_type": "code",
      "source": [
        "df_despesa_ceaps.head()"
      ],
      "metadata": {
        "colab": {
          "base_uri": "https://localhost:8080/",
          "height": 337
        },
        "id": "FWVY4oXLbUKv",
        "outputId": "6ea1cf43-e5d8-481c-bc03-deedc9c1b586"
      },
      "execution_count": null,
      "outputs": [
        {
          "output_type": "execute_result",
          "data": {
            "text/plain": [
              "    ano  mes       senador                                       tipo_despesa  \\\n",
              "0  2022    1  ACIR GURGACZ  Aluguel de imóveis para escritório político, c...   \n",
              "1  2022    1  ACIR GURGACZ                Divulgação da atividade parlamentar   \n",
              "2  2022    1  ACIR GURGACZ                Divulgação da atividade parlamentar   \n",
              "3  2022    1  ACIR GURGACZ                Divulgação da atividade parlamentar   \n",
              "4  2022    1  ACIR GURGACZ                Divulgação da atividade parlamentar   \n",
              "\n",
              "             cnpj_cpf                                         fornecedor  \\\n",
              "0      004.948.028-63                      GILBERTO PISELO DO NASCIMENTO   \n",
              "1  26.320.603/0001-64                                      INFORMANAHORA   \n",
              "2  13.659.201/0001-47                    LINHA PURPURA FOTO E VIDEO LTDA   \n",
              "3  23.652.846/0001-01                  ROBERTO GUTIERREZ DA ROCHA M.E.I.   \n",
              "4  08.941.827/0001-01  RONDONIA DINÂMICA COM. E SERV. DE INFORMÁTICA ...   \n",
              "\n",
              "           documento        data  \\\n",
              "0             001/22  03/01/2022   \n",
              "1  000000000000310/A  04/01/2022   \n",
              "2                107  14/01/2022   \n",
              "3                187  18/01/2022   \n",
              "4  000000000001772/A  17/01/2022   \n",
              "\n",
              "                                        detalhamento valor_reembolsado  \\\n",
              "0  Despesa com pagamento de aluguel de imóvel par...              6000   \n",
              "1  Despesa com divulgação da atividade parlamenta...              1500   \n",
              "2  Despesa com produção de texto e edição de víde...              6000   \n",
              "3                Divulgação da atividade parlamentar              1000   \n",
              "4                Divulgação da atividade parlamentar              2000   \n",
              "\n",
              "   cod_documento  \n",
              "0        2173614  \n",
              "1        2173615  \n",
              "2        2173616  \n",
              "3        2173618  \n",
              "4        2173617  "
            ],
            "text/html": [
              "\n",
              "  <div id=\"df-23677480-65d4-4cd9-91a8-3690c814c7bb\">\n",
              "    <div class=\"colab-df-container\">\n",
              "      <div>\n",
              "<style scoped>\n",
              "    .dataframe tbody tr th:only-of-type {\n",
              "        vertical-align: middle;\n",
              "    }\n",
              "\n",
              "    .dataframe tbody tr th {\n",
              "        vertical-align: top;\n",
              "    }\n",
              "\n",
              "    .dataframe thead th {\n",
              "        text-align: right;\n",
              "    }\n",
              "</style>\n",
              "<table border=\"1\" class=\"dataframe\">\n",
              "  <thead>\n",
              "    <tr style=\"text-align: right;\">\n",
              "      <th></th>\n",
              "      <th>ano</th>\n",
              "      <th>mes</th>\n",
              "      <th>senador</th>\n",
              "      <th>tipo_despesa</th>\n",
              "      <th>cnpj_cpf</th>\n",
              "      <th>fornecedor</th>\n",
              "      <th>documento</th>\n",
              "      <th>data</th>\n",
              "      <th>detalhamento</th>\n",
              "      <th>valor_reembolsado</th>\n",
              "      <th>cod_documento</th>\n",
              "    </tr>\n",
              "  </thead>\n",
              "  <tbody>\n",
              "    <tr>\n",
              "      <th>0</th>\n",
              "      <td>2022</td>\n",
              "      <td>1</td>\n",
              "      <td>ACIR GURGACZ</td>\n",
              "      <td>Aluguel de imóveis para escritório político, c...</td>\n",
              "      <td>004.948.028-63</td>\n",
              "      <td>GILBERTO PISELO DO NASCIMENTO</td>\n",
              "      <td>001/22</td>\n",
              "      <td>03/01/2022</td>\n",
              "      <td>Despesa com pagamento de aluguel de imóvel par...</td>\n",
              "      <td>6000</td>\n",
              "      <td>2173614</td>\n",
              "    </tr>\n",
              "    <tr>\n",
              "      <th>1</th>\n",
              "      <td>2022</td>\n",
              "      <td>1</td>\n",
              "      <td>ACIR GURGACZ</td>\n",
              "      <td>Divulgação da atividade parlamentar</td>\n",
              "      <td>26.320.603/0001-64</td>\n",
              "      <td>INFORMANAHORA</td>\n",
              "      <td>000000000000310/A</td>\n",
              "      <td>04/01/2022</td>\n",
              "      <td>Despesa com divulgação da atividade parlamenta...</td>\n",
              "      <td>1500</td>\n",
              "      <td>2173615</td>\n",
              "    </tr>\n",
              "    <tr>\n",
              "      <th>2</th>\n",
              "      <td>2022</td>\n",
              "      <td>1</td>\n",
              "      <td>ACIR GURGACZ</td>\n",
              "      <td>Divulgação da atividade parlamentar</td>\n",
              "      <td>13.659.201/0001-47</td>\n",
              "      <td>LINHA PURPURA FOTO E VIDEO LTDA</td>\n",
              "      <td>107</td>\n",
              "      <td>14/01/2022</td>\n",
              "      <td>Despesa com produção de texto e edição de víde...</td>\n",
              "      <td>6000</td>\n",
              "      <td>2173616</td>\n",
              "    </tr>\n",
              "    <tr>\n",
              "      <th>3</th>\n",
              "      <td>2022</td>\n",
              "      <td>1</td>\n",
              "      <td>ACIR GURGACZ</td>\n",
              "      <td>Divulgação da atividade parlamentar</td>\n",
              "      <td>23.652.846/0001-01</td>\n",
              "      <td>ROBERTO GUTIERREZ DA ROCHA M.E.I.</td>\n",
              "      <td>187</td>\n",
              "      <td>18/01/2022</td>\n",
              "      <td>Divulgação da atividade parlamentar</td>\n",
              "      <td>1000</td>\n",
              "      <td>2173618</td>\n",
              "    </tr>\n",
              "    <tr>\n",
              "      <th>4</th>\n",
              "      <td>2022</td>\n",
              "      <td>1</td>\n",
              "      <td>ACIR GURGACZ</td>\n",
              "      <td>Divulgação da atividade parlamentar</td>\n",
              "      <td>08.941.827/0001-01</td>\n",
              "      <td>RONDONIA DINÂMICA COM. E SERV. DE INFORMÁTICA ...</td>\n",
              "      <td>000000000001772/A</td>\n",
              "      <td>17/01/2022</td>\n",
              "      <td>Divulgação da atividade parlamentar</td>\n",
              "      <td>2000</td>\n",
              "      <td>2173617</td>\n",
              "    </tr>\n",
              "  </tbody>\n",
              "</table>\n",
              "</div>\n",
              "      <button class=\"colab-df-convert\" onclick=\"convertToInteractive('df-23677480-65d4-4cd9-91a8-3690c814c7bb')\"\n",
              "              title=\"Convert this dataframe to an interactive table.\"\n",
              "              style=\"display:none;\">\n",
              "        \n",
              "  <svg xmlns=\"http://www.w3.org/2000/svg\" height=\"24px\"viewBox=\"0 0 24 24\"\n",
              "       width=\"24px\">\n",
              "    <path d=\"M0 0h24v24H0V0z\" fill=\"none\"/>\n",
              "    <path d=\"M18.56 5.44l.94 2.06.94-2.06 2.06-.94-2.06-.94-.94-2.06-.94 2.06-2.06.94zm-11 1L8.5 8.5l.94-2.06 2.06-.94-2.06-.94L8.5 2.5l-.94 2.06-2.06.94zm10 10l.94 2.06.94-2.06 2.06-.94-2.06-.94-.94-2.06-.94 2.06-2.06.94z\"/><path d=\"M17.41 7.96l-1.37-1.37c-.4-.4-.92-.59-1.43-.59-.52 0-1.04.2-1.43.59L10.3 9.45l-7.72 7.72c-.78.78-.78 2.05 0 2.83L4 21.41c.39.39.9.59 1.41.59.51 0 1.02-.2 1.41-.59l7.78-7.78 2.81-2.81c.8-.78.8-2.07 0-2.86zM5.41 20L4 18.59l7.72-7.72 1.47 1.35L5.41 20z\"/>\n",
              "  </svg>\n",
              "      </button>\n",
              "      \n",
              "  <style>\n",
              "    .colab-df-container {\n",
              "      display:flex;\n",
              "      flex-wrap:wrap;\n",
              "      gap: 12px;\n",
              "    }\n",
              "\n",
              "    .colab-df-convert {\n",
              "      background-color: #E8F0FE;\n",
              "      border: none;\n",
              "      border-radius: 50%;\n",
              "      cursor: pointer;\n",
              "      display: none;\n",
              "      fill: #1967D2;\n",
              "      height: 32px;\n",
              "      padding: 0 0 0 0;\n",
              "      width: 32px;\n",
              "    }\n",
              "\n",
              "    .colab-df-convert:hover {\n",
              "      background-color: #E2EBFA;\n",
              "      box-shadow: 0px 1px 2px rgba(60, 64, 67, 0.3), 0px 1px 3px 1px rgba(60, 64, 67, 0.15);\n",
              "      fill: #174EA6;\n",
              "    }\n",
              "\n",
              "    [theme=dark] .colab-df-convert {\n",
              "      background-color: #3B4455;\n",
              "      fill: #D2E3FC;\n",
              "    }\n",
              "\n",
              "    [theme=dark] .colab-df-convert:hover {\n",
              "      background-color: #434B5C;\n",
              "      box-shadow: 0px 1px 3px 1px rgba(0, 0, 0, 0.15);\n",
              "      filter: drop-shadow(0px 1px 2px rgba(0, 0, 0, 0.3));\n",
              "      fill: #FFFFFF;\n",
              "    }\n",
              "  </style>\n",
              "\n",
              "      <script>\n",
              "        const buttonEl =\n",
              "          document.querySelector('#df-23677480-65d4-4cd9-91a8-3690c814c7bb button.colab-df-convert');\n",
              "        buttonEl.style.display =\n",
              "          google.colab.kernel.accessAllowed ? 'block' : 'none';\n",
              "\n",
              "        async function convertToInteractive(key) {\n",
              "          const element = document.querySelector('#df-23677480-65d4-4cd9-91a8-3690c814c7bb');\n",
              "          const dataTable =\n",
              "            await google.colab.kernel.invokeFunction('convertToInteractive',\n",
              "                                                     [key], {});\n",
              "          if (!dataTable) return;\n",
              "\n",
              "          const docLinkHtml = 'Like what you see? Visit the ' +\n",
              "            '<a target=\"_blank\" href=https://colab.research.google.com/notebooks/data_table.ipynb>data table notebook</a>'\n",
              "            + ' to learn more about interactive tables.';\n",
              "          element.innerHTML = '';\n",
              "          dataTable['output_type'] = 'display_data';\n",
              "          await google.colab.output.renderOutput(dataTable, element);\n",
              "          const docLink = document.createElement('div');\n",
              "          docLink.innerHTML = docLinkHtml;\n",
              "          element.appendChild(docLink);\n",
              "        }\n",
              "      </script>\n",
              "    </div>\n",
              "  </div>\n",
              "  "
            ]
          },
          "metadata": {},
          "execution_count": 18
        }
      ]
    },
    {
      "cell_type": "markdown",
      "source": [
        "#### Conversão de datas"
      ],
      "metadata": {
        "id": "0ankymivdWl1"
      }
    },
    {
      "cell_type": "code",
      "source": [
        "df_despesa_ceaps['data'] = pd.to_datetime(df_despesa_ceaps['data'], format='%d/%m/%Y', errors='coerce')"
      ],
      "metadata": {
        "id": "4sfHBBCHdbUe"
      },
      "execution_count": null,
      "outputs": []
    },
    {
      "cell_type": "code",
      "source": [
        "df_despesa_ceaps.info()"
      ],
      "metadata": {
        "colab": {
          "base_uri": "https://localhost:8080/"
        },
        "id": "6aa2i8-qgm8v",
        "outputId": "bc0a12ad-8a4e-4542-8b44-9d40763eff94"
      },
      "execution_count": null,
      "outputs": [
        {
          "output_type": "stream",
          "name": "stdout",
          "text": [
            "<class 'pandas.core.frame.DataFrame'>\n",
            "Int64Index: 82316 entries, 0 to 24491\n",
            "Data columns (total 11 columns):\n",
            " #   Column             Non-Null Count  Dtype         \n",
            "---  ------             --------------  -----         \n",
            " 0   ano                82316 non-null  int64         \n",
            " 1   mes                82316 non-null  int64         \n",
            " 2   senador            82316 non-null  object        \n",
            " 3   tipo_despesa       82316 non-null  object        \n",
            " 4   cnpj_cpf           82316 non-null  object        \n",
            " 5   fornecedor         82316 non-null  object        \n",
            " 6   documento          82316 non-null  object        \n",
            " 7   data               82311 non-null  datetime64[ns]\n",
            " 8   detalhamento       82316 non-null  object        \n",
            " 9   valor_reembolsado  82316 non-null  object        \n",
            " 10  cod_documento      82316 non-null  int64         \n",
            "dtypes: datetime64[ns](1), int64(3), object(7)\n",
            "memory usage: 7.5+ MB\n"
          ]
        }
      ]
    },
    {
      "cell_type": "code",
      "source": [
        "df_despesa_ceaps.head()"
      ],
      "metadata": {
        "colab": {
          "base_uri": "https://localhost:8080/",
          "height": 337
        },
        "id": "VjmK3IABgrWQ",
        "outputId": "fb6a625c-ee6c-432a-dc52-8441a5ef4eb3"
      },
      "execution_count": null,
      "outputs": [
        {
          "output_type": "execute_result",
          "data": {
            "text/plain": [
              "    ano  mes       senador                                       tipo_despesa  \\\n",
              "0  2022    1  ACIR GURGACZ  Aluguel de imóveis para escritório político, c...   \n",
              "1  2022    1  ACIR GURGACZ                Divulgação da atividade parlamentar   \n",
              "2  2022    1  ACIR GURGACZ                Divulgação da atividade parlamentar   \n",
              "3  2022    1  ACIR GURGACZ                Divulgação da atividade parlamentar   \n",
              "4  2022    1  ACIR GURGACZ                Divulgação da atividade parlamentar   \n",
              "\n",
              "             cnpj_cpf                                         fornecedor  \\\n",
              "0      004.948.028-63                      GILBERTO PISELO DO NASCIMENTO   \n",
              "1  26.320.603/0001-64                                      INFORMANAHORA   \n",
              "2  13.659.201/0001-47                    LINHA PURPURA FOTO E VIDEO LTDA   \n",
              "3  23.652.846/0001-01                  ROBERTO GUTIERREZ DA ROCHA M.E.I.   \n",
              "4  08.941.827/0001-01  RONDONIA DINÂMICA COM. E SERV. DE INFORMÁTICA ...   \n",
              "\n",
              "           documento       data  \\\n",
              "0             001/22 2022-01-03   \n",
              "1  000000000000310/A 2022-01-04   \n",
              "2                107 2022-01-14   \n",
              "3                187 2022-01-18   \n",
              "4  000000000001772/A 2022-01-17   \n",
              "\n",
              "                                        detalhamento valor_reembolsado  \\\n",
              "0  Despesa com pagamento de aluguel de imóvel par...              6000   \n",
              "1  Despesa com divulgação da atividade parlamenta...              1500   \n",
              "2  Despesa com produção de texto e edição de víde...              6000   \n",
              "3                Divulgação da atividade parlamentar              1000   \n",
              "4                Divulgação da atividade parlamentar              2000   \n",
              "\n",
              "   cod_documento  \n",
              "0        2173614  \n",
              "1        2173615  \n",
              "2        2173616  \n",
              "3        2173618  \n",
              "4        2173617  "
            ],
            "text/html": [
              "\n",
              "  <div id=\"df-7662f2fa-b8e1-42fd-b5fd-99f551b50599\">\n",
              "    <div class=\"colab-df-container\">\n",
              "      <div>\n",
              "<style scoped>\n",
              "    .dataframe tbody tr th:only-of-type {\n",
              "        vertical-align: middle;\n",
              "    }\n",
              "\n",
              "    .dataframe tbody tr th {\n",
              "        vertical-align: top;\n",
              "    }\n",
              "\n",
              "    .dataframe thead th {\n",
              "        text-align: right;\n",
              "    }\n",
              "</style>\n",
              "<table border=\"1\" class=\"dataframe\">\n",
              "  <thead>\n",
              "    <tr style=\"text-align: right;\">\n",
              "      <th></th>\n",
              "      <th>ano</th>\n",
              "      <th>mes</th>\n",
              "      <th>senador</th>\n",
              "      <th>tipo_despesa</th>\n",
              "      <th>cnpj_cpf</th>\n",
              "      <th>fornecedor</th>\n",
              "      <th>documento</th>\n",
              "      <th>data</th>\n",
              "      <th>detalhamento</th>\n",
              "      <th>valor_reembolsado</th>\n",
              "      <th>cod_documento</th>\n",
              "    </tr>\n",
              "  </thead>\n",
              "  <tbody>\n",
              "    <tr>\n",
              "      <th>0</th>\n",
              "      <td>2022</td>\n",
              "      <td>1</td>\n",
              "      <td>ACIR GURGACZ</td>\n",
              "      <td>Aluguel de imóveis para escritório político, c...</td>\n",
              "      <td>004.948.028-63</td>\n",
              "      <td>GILBERTO PISELO DO NASCIMENTO</td>\n",
              "      <td>001/22</td>\n",
              "      <td>2022-01-03</td>\n",
              "      <td>Despesa com pagamento de aluguel de imóvel par...</td>\n",
              "      <td>6000</td>\n",
              "      <td>2173614</td>\n",
              "    </tr>\n",
              "    <tr>\n",
              "      <th>1</th>\n",
              "      <td>2022</td>\n",
              "      <td>1</td>\n",
              "      <td>ACIR GURGACZ</td>\n",
              "      <td>Divulgação da atividade parlamentar</td>\n",
              "      <td>26.320.603/0001-64</td>\n",
              "      <td>INFORMANAHORA</td>\n",
              "      <td>000000000000310/A</td>\n",
              "      <td>2022-01-04</td>\n",
              "      <td>Despesa com divulgação da atividade parlamenta...</td>\n",
              "      <td>1500</td>\n",
              "      <td>2173615</td>\n",
              "    </tr>\n",
              "    <tr>\n",
              "      <th>2</th>\n",
              "      <td>2022</td>\n",
              "      <td>1</td>\n",
              "      <td>ACIR GURGACZ</td>\n",
              "      <td>Divulgação da atividade parlamentar</td>\n",
              "      <td>13.659.201/0001-47</td>\n",
              "      <td>LINHA PURPURA FOTO E VIDEO LTDA</td>\n",
              "      <td>107</td>\n",
              "      <td>2022-01-14</td>\n",
              "      <td>Despesa com produção de texto e edição de víde...</td>\n",
              "      <td>6000</td>\n",
              "      <td>2173616</td>\n",
              "    </tr>\n",
              "    <tr>\n",
              "      <th>3</th>\n",
              "      <td>2022</td>\n",
              "      <td>1</td>\n",
              "      <td>ACIR GURGACZ</td>\n",
              "      <td>Divulgação da atividade parlamentar</td>\n",
              "      <td>23.652.846/0001-01</td>\n",
              "      <td>ROBERTO GUTIERREZ DA ROCHA M.E.I.</td>\n",
              "      <td>187</td>\n",
              "      <td>2022-01-18</td>\n",
              "      <td>Divulgação da atividade parlamentar</td>\n",
              "      <td>1000</td>\n",
              "      <td>2173618</td>\n",
              "    </tr>\n",
              "    <tr>\n",
              "      <th>4</th>\n",
              "      <td>2022</td>\n",
              "      <td>1</td>\n",
              "      <td>ACIR GURGACZ</td>\n",
              "      <td>Divulgação da atividade parlamentar</td>\n",
              "      <td>08.941.827/0001-01</td>\n",
              "      <td>RONDONIA DINÂMICA COM. E SERV. DE INFORMÁTICA ...</td>\n",
              "      <td>000000000001772/A</td>\n",
              "      <td>2022-01-17</td>\n",
              "      <td>Divulgação da atividade parlamentar</td>\n",
              "      <td>2000</td>\n",
              "      <td>2173617</td>\n",
              "    </tr>\n",
              "  </tbody>\n",
              "</table>\n",
              "</div>\n",
              "      <button class=\"colab-df-convert\" onclick=\"convertToInteractive('df-7662f2fa-b8e1-42fd-b5fd-99f551b50599')\"\n",
              "              title=\"Convert this dataframe to an interactive table.\"\n",
              "              style=\"display:none;\">\n",
              "        \n",
              "  <svg xmlns=\"http://www.w3.org/2000/svg\" height=\"24px\"viewBox=\"0 0 24 24\"\n",
              "       width=\"24px\">\n",
              "    <path d=\"M0 0h24v24H0V0z\" fill=\"none\"/>\n",
              "    <path d=\"M18.56 5.44l.94 2.06.94-2.06 2.06-.94-2.06-.94-.94-2.06-.94 2.06-2.06.94zm-11 1L8.5 8.5l.94-2.06 2.06-.94-2.06-.94L8.5 2.5l-.94 2.06-2.06.94zm10 10l.94 2.06.94-2.06 2.06-.94-2.06-.94-.94-2.06-.94 2.06-2.06.94z\"/><path d=\"M17.41 7.96l-1.37-1.37c-.4-.4-.92-.59-1.43-.59-.52 0-1.04.2-1.43.59L10.3 9.45l-7.72 7.72c-.78.78-.78 2.05 0 2.83L4 21.41c.39.39.9.59 1.41.59.51 0 1.02-.2 1.41-.59l7.78-7.78 2.81-2.81c.8-.78.8-2.07 0-2.86zM5.41 20L4 18.59l7.72-7.72 1.47 1.35L5.41 20z\"/>\n",
              "  </svg>\n",
              "      </button>\n",
              "      \n",
              "  <style>\n",
              "    .colab-df-container {\n",
              "      display:flex;\n",
              "      flex-wrap:wrap;\n",
              "      gap: 12px;\n",
              "    }\n",
              "\n",
              "    .colab-df-convert {\n",
              "      background-color: #E8F0FE;\n",
              "      border: none;\n",
              "      border-radius: 50%;\n",
              "      cursor: pointer;\n",
              "      display: none;\n",
              "      fill: #1967D2;\n",
              "      height: 32px;\n",
              "      padding: 0 0 0 0;\n",
              "      width: 32px;\n",
              "    }\n",
              "\n",
              "    .colab-df-convert:hover {\n",
              "      background-color: #E2EBFA;\n",
              "      box-shadow: 0px 1px 2px rgba(60, 64, 67, 0.3), 0px 1px 3px 1px rgba(60, 64, 67, 0.15);\n",
              "      fill: #174EA6;\n",
              "    }\n",
              "\n",
              "    [theme=dark] .colab-df-convert {\n",
              "      background-color: #3B4455;\n",
              "      fill: #D2E3FC;\n",
              "    }\n",
              "\n",
              "    [theme=dark] .colab-df-convert:hover {\n",
              "      background-color: #434B5C;\n",
              "      box-shadow: 0px 1px 3px 1px rgba(0, 0, 0, 0.15);\n",
              "      filter: drop-shadow(0px 1px 2px rgba(0, 0, 0, 0.3));\n",
              "      fill: #FFFFFF;\n",
              "    }\n",
              "  </style>\n",
              "\n",
              "      <script>\n",
              "        const buttonEl =\n",
              "          document.querySelector('#df-7662f2fa-b8e1-42fd-b5fd-99f551b50599 button.colab-df-convert');\n",
              "        buttonEl.style.display =\n",
              "          google.colab.kernel.accessAllowed ? 'block' : 'none';\n",
              "\n",
              "        async function convertToInteractive(key) {\n",
              "          const element = document.querySelector('#df-7662f2fa-b8e1-42fd-b5fd-99f551b50599');\n",
              "          const dataTable =\n",
              "            await google.colab.kernel.invokeFunction('convertToInteractive',\n",
              "                                                     [key], {});\n",
              "          if (!dataTable) return;\n",
              "\n",
              "          const docLinkHtml = 'Like what you see? Visit the ' +\n",
              "            '<a target=\"_blank\" href=https://colab.research.google.com/notebooks/data_table.ipynb>data table notebook</a>'\n",
              "            + ' to learn more about interactive tables.';\n",
              "          element.innerHTML = '';\n",
              "          dataTable['output_type'] = 'display_data';\n",
              "          await google.colab.output.renderOutput(dataTable, element);\n",
              "          const docLink = document.createElement('div');\n",
              "          docLink.innerHTML = docLinkHtml;\n",
              "          element.appendChild(docLink);\n",
              "        }\n",
              "      </script>\n",
              "    </div>\n",
              "  </div>\n",
              "  "
            ]
          },
          "metadata": {},
          "execution_count": 21
        }
      ]
    },
    {
      "cell_type": "markdown",
      "source": [
        "#### Convertendo valores reembolsados **str => int**"
      ],
      "metadata": {
        "id": "DI08JqjSll3T"
      }
    },
    {
      "cell_type": "code",
      "source": [
        "valor_reembolsado = df_despesa_ceaps['valor_reembolsado']"
      ],
      "metadata": {
        "id": "aVajmG_Ilpb8"
      },
      "execution_count": null,
      "outputs": []
    },
    {
      "cell_type": "code",
      "source": [
        "valor_reembolsado = valor_reembolsado.replace(r'[^\\w\\s]|_', '.', regex=True)"
      ],
      "metadata": {
        "id": "Ps8W2ZX1j3vF"
      },
      "execution_count": null,
      "outputs": []
    },
    {
      "cell_type": "code",
      "source": [
        "df_despesa_ceaps['valor_reembolsado'] = valor_reembolsado.astype('float')"
      ],
      "metadata": {
        "id": "eNvJexpakCEE"
      },
      "execution_count": null,
      "outputs": []
    },
    {
      "cell_type": "code",
      "source": [
        "df_despesa_ceaps['valor_reembolsado'].astype('float')"
      ],
      "metadata": {
        "colab": {
          "base_uri": "https://localhost:8080/"
        },
        "id": "6kyKTLF9kRcN",
        "outputId": "a67134b5-8e53-4828-b187-0a24d9dd4aec"
      },
      "execution_count": null,
      "outputs": [
        {
          "output_type": "execute_result",
          "data": {
            "text/plain": [
              "0        6000.00\n",
              "1        1500.00\n",
              "2        6000.00\n",
              "3        1000.00\n",
              "4        2000.00\n",
              "          ...   \n",
              "24487     220.05\n",
              "24488      73.02\n",
              "24489     232.01\n",
              "24490    1132.69\n",
              "24491    1260.45\n",
              "Name: valor_reembolsado, Length: 82316, dtype: float64"
            ]
          },
          "metadata": {},
          "execution_count": 25
        }
      ]
    },
    {
      "cell_type": "markdown",
      "source": [
        "Vamos remover as macaras dos dados de CPF e CNPJ, depois vamos renomear o nome da coluna e adicionar uma coluna para identificamos o que é CPF e CNPJ"
      ],
      "metadata": {
        "id": "k4LvoaCWk_gn"
      }
    },
    {
      "cell_type": "code",
      "source": [
        "cnpj_cpf = df_despesa_ceaps['cnpj_cpf']"
      ],
      "metadata": {
        "id": "JhYvjUiZlTSd"
      },
      "execution_count": null,
      "outputs": []
    },
    {
      "cell_type": "code",
      "source": [
        "cnpj_cpf = cnpj_cpf.replace(r'[^\\w\\s]|_', '', regex=True)\n",
        "cnpj_cpf"
      ],
      "metadata": {
        "colab": {
          "base_uri": "https://localhost:8080/"
        },
        "id": "B-B6ySJZljLW",
        "outputId": "815fe9a3-209d-4536-9667-4e45f062de9e"
      },
      "execution_count": null,
      "outputs": [
        {
          "output_type": "execute_result",
          "data": {
            "text/plain": [
              "0           00494802863\n",
              "1        26320603000164\n",
              "2        13659201000147\n",
              "3        23652846000101\n",
              "4        08941827000101\n",
              "              ...      \n",
              "24487    16979906000130\n",
              "24488    16979906000130\n",
              "24489    16979906000130\n",
              "24490    16978175000108\n",
              "24491    16978175000108\n",
              "Name: cnpj_cpf, Length: 82316, dtype: object"
            ]
          },
          "metadata": {},
          "execution_count": 27
        }
      ]
    },
    {
      "cell_type": "code",
      "source": [
        "df_despesa_ceaps['cnpj_cpf'] = cnpj_cpf"
      ],
      "metadata": {
        "id": "4PlYka2Und8H"
      },
      "execution_count": null,
      "outputs": []
    },
    {
      "cell_type": "code",
      "source": [
        "cnpj_cpf_length = df_despesa_ceaps['cnpj_cpf'].str.len()"
      ],
      "metadata": {
        "id": "ipuIrL7TpSe0"
      },
      "execution_count": null,
      "outputs": []
    },
    {
      "cell_type": "markdown",
      "source": [
        "Criação da coluna \"tipo_documento\""
      ],
      "metadata": {
        "id": "ZWXgtlxqoFwH"
      }
    },
    {
      "cell_type": "code",
      "source": [
        "df_despesa_ceaps['tipo_documento'] = cnpj_cpf_length.map(lambda value: 'cpf' if value == 11 else 'cnpj')"
      ],
      "metadata": {
        "id": "neQ6tZdzoPZO"
      },
      "execution_count": null,
      "outputs": []
    },
    {
      "cell_type": "markdown",
      "source": [
        "Removendo colunas que não contém informações relevantes"
      ],
      "metadata": {
        "id": "oT_gmxzzu5VJ"
      }
    },
    {
      "cell_type": "code",
      "source": [
        "df_despesa_ceaps.drop(columns=['ano', 'mes', 'documento', 'cod_documento'], inplace=True)"
      ],
      "metadata": {
        "id": "KdUcUOIuvBwz"
      },
      "execution_count": null,
      "outputs": []
    },
    {
      "cell_type": "markdown",
      "source": [
        "Renomeando a coluna \"cnpj_cpf\" => \"documento\""
      ],
      "metadata": {
        "id": "cXtmtcEkvX0h"
      }
    },
    {
      "cell_type": "code",
      "source": [
        "df_despesa_ceaps.rename(columns={'cnpj_cpf': 'documento'}, inplace=True)"
      ],
      "metadata": {
        "id": "y1qUt3qGvh8i"
      },
      "execution_count": null,
      "outputs": []
    },
    {
      "cell_type": "code",
      "source": [
        "df_despesa_ceaps.head()"
      ],
      "metadata": {
        "colab": {
          "base_uri": "https://localhost:8080/",
          "height": 206
        },
        "id": "6uTqcRnBvx8C",
        "outputId": "6c305717-5634-46d2-c2d7-32fc08f5f336"
      },
      "execution_count": null,
      "outputs": [
        {
          "output_type": "execute_result",
          "data": {
            "text/plain": [
              "        senador                                       tipo_despesa  \\\n",
              "0  ACIR GURGACZ  Aluguel de imóveis para escritório político, c...   \n",
              "1  ACIR GURGACZ                Divulgação da atividade parlamentar   \n",
              "2  ACIR GURGACZ                Divulgação da atividade parlamentar   \n",
              "3  ACIR GURGACZ                Divulgação da atividade parlamentar   \n",
              "4  ACIR GURGACZ                Divulgação da atividade parlamentar   \n",
              "\n",
              "        documento                                         fornecedor  \\\n",
              "0     00494802863                      GILBERTO PISELO DO NASCIMENTO   \n",
              "1  26320603000164                                      INFORMANAHORA   \n",
              "2  13659201000147                    LINHA PURPURA FOTO E VIDEO LTDA   \n",
              "3  23652846000101                  ROBERTO GUTIERREZ DA ROCHA M.E.I.   \n",
              "4  08941827000101  RONDONIA DINÂMICA COM. E SERV. DE INFORMÁTICA ...   \n",
              "\n",
              "        data                                       detalhamento  \\\n",
              "0 2022-01-03  Despesa com pagamento de aluguel de imóvel par...   \n",
              "1 2022-01-04  Despesa com divulgação da atividade parlamenta...   \n",
              "2 2022-01-14  Despesa com produção de texto e edição de víde...   \n",
              "3 2022-01-18                Divulgação da atividade parlamentar   \n",
              "4 2022-01-17                Divulgação da atividade parlamentar   \n",
              "\n",
              "   valor_reembolsado tipo_documento  \n",
              "0             6000.0            cpf  \n",
              "1             1500.0           cnpj  \n",
              "2             6000.0           cnpj  \n",
              "3             1000.0           cnpj  \n",
              "4             2000.0           cnpj  "
            ],
            "text/html": [
              "\n",
              "  <div id=\"df-fea05537-1b57-4b52-b762-987d7e291086\">\n",
              "    <div class=\"colab-df-container\">\n",
              "      <div>\n",
              "<style scoped>\n",
              "    .dataframe tbody tr th:only-of-type {\n",
              "        vertical-align: middle;\n",
              "    }\n",
              "\n",
              "    .dataframe tbody tr th {\n",
              "        vertical-align: top;\n",
              "    }\n",
              "\n",
              "    .dataframe thead th {\n",
              "        text-align: right;\n",
              "    }\n",
              "</style>\n",
              "<table border=\"1\" class=\"dataframe\">\n",
              "  <thead>\n",
              "    <tr style=\"text-align: right;\">\n",
              "      <th></th>\n",
              "      <th>senador</th>\n",
              "      <th>tipo_despesa</th>\n",
              "      <th>documento</th>\n",
              "      <th>fornecedor</th>\n",
              "      <th>data</th>\n",
              "      <th>detalhamento</th>\n",
              "      <th>valor_reembolsado</th>\n",
              "      <th>tipo_documento</th>\n",
              "    </tr>\n",
              "  </thead>\n",
              "  <tbody>\n",
              "    <tr>\n",
              "      <th>0</th>\n",
              "      <td>ACIR GURGACZ</td>\n",
              "      <td>Aluguel de imóveis para escritório político, c...</td>\n",
              "      <td>00494802863</td>\n",
              "      <td>GILBERTO PISELO DO NASCIMENTO</td>\n",
              "      <td>2022-01-03</td>\n",
              "      <td>Despesa com pagamento de aluguel de imóvel par...</td>\n",
              "      <td>6000.0</td>\n",
              "      <td>cpf</td>\n",
              "    </tr>\n",
              "    <tr>\n",
              "      <th>1</th>\n",
              "      <td>ACIR GURGACZ</td>\n",
              "      <td>Divulgação da atividade parlamentar</td>\n",
              "      <td>26320603000164</td>\n",
              "      <td>INFORMANAHORA</td>\n",
              "      <td>2022-01-04</td>\n",
              "      <td>Despesa com divulgação da atividade parlamenta...</td>\n",
              "      <td>1500.0</td>\n",
              "      <td>cnpj</td>\n",
              "    </tr>\n",
              "    <tr>\n",
              "      <th>2</th>\n",
              "      <td>ACIR GURGACZ</td>\n",
              "      <td>Divulgação da atividade parlamentar</td>\n",
              "      <td>13659201000147</td>\n",
              "      <td>LINHA PURPURA FOTO E VIDEO LTDA</td>\n",
              "      <td>2022-01-14</td>\n",
              "      <td>Despesa com produção de texto e edição de víde...</td>\n",
              "      <td>6000.0</td>\n",
              "      <td>cnpj</td>\n",
              "    </tr>\n",
              "    <tr>\n",
              "      <th>3</th>\n",
              "      <td>ACIR GURGACZ</td>\n",
              "      <td>Divulgação da atividade parlamentar</td>\n",
              "      <td>23652846000101</td>\n",
              "      <td>ROBERTO GUTIERREZ DA ROCHA M.E.I.</td>\n",
              "      <td>2022-01-18</td>\n",
              "      <td>Divulgação da atividade parlamentar</td>\n",
              "      <td>1000.0</td>\n",
              "      <td>cnpj</td>\n",
              "    </tr>\n",
              "    <tr>\n",
              "      <th>4</th>\n",
              "      <td>ACIR GURGACZ</td>\n",
              "      <td>Divulgação da atividade parlamentar</td>\n",
              "      <td>08941827000101</td>\n",
              "      <td>RONDONIA DINÂMICA COM. E SERV. DE INFORMÁTICA ...</td>\n",
              "      <td>2022-01-17</td>\n",
              "      <td>Divulgação da atividade parlamentar</td>\n",
              "      <td>2000.0</td>\n",
              "      <td>cnpj</td>\n",
              "    </tr>\n",
              "  </tbody>\n",
              "</table>\n",
              "</div>\n",
              "      <button class=\"colab-df-convert\" onclick=\"convertToInteractive('df-fea05537-1b57-4b52-b762-987d7e291086')\"\n",
              "              title=\"Convert this dataframe to an interactive table.\"\n",
              "              style=\"display:none;\">\n",
              "        \n",
              "  <svg xmlns=\"http://www.w3.org/2000/svg\" height=\"24px\"viewBox=\"0 0 24 24\"\n",
              "       width=\"24px\">\n",
              "    <path d=\"M0 0h24v24H0V0z\" fill=\"none\"/>\n",
              "    <path d=\"M18.56 5.44l.94 2.06.94-2.06 2.06-.94-2.06-.94-.94-2.06-.94 2.06-2.06.94zm-11 1L8.5 8.5l.94-2.06 2.06-.94-2.06-.94L8.5 2.5l-.94 2.06-2.06.94zm10 10l.94 2.06.94-2.06 2.06-.94-2.06-.94-.94-2.06-.94 2.06-2.06.94z\"/><path d=\"M17.41 7.96l-1.37-1.37c-.4-.4-.92-.59-1.43-.59-.52 0-1.04.2-1.43.59L10.3 9.45l-7.72 7.72c-.78.78-.78 2.05 0 2.83L4 21.41c.39.39.9.59 1.41.59.51 0 1.02-.2 1.41-.59l7.78-7.78 2.81-2.81c.8-.78.8-2.07 0-2.86zM5.41 20L4 18.59l7.72-7.72 1.47 1.35L5.41 20z\"/>\n",
              "  </svg>\n",
              "      </button>\n",
              "      \n",
              "  <style>\n",
              "    .colab-df-container {\n",
              "      display:flex;\n",
              "      flex-wrap:wrap;\n",
              "      gap: 12px;\n",
              "    }\n",
              "\n",
              "    .colab-df-convert {\n",
              "      background-color: #E8F0FE;\n",
              "      border: none;\n",
              "      border-radius: 50%;\n",
              "      cursor: pointer;\n",
              "      display: none;\n",
              "      fill: #1967D2;\n",
              "      height: 32px;\n",
              "      padding: 0 0 0 0;\n",
              "      width: 32px;\n",
              "    }\n",
              "\n",
              "    .colab-df-convert:hover {\n",
              "      background-color: #E2EBFA;\n",
              "      box-shadow: 0px 1px 2px rgba(60, 64, 67, 0.3), 0px 1px 3px 1px rgba(60, 64, 67, 0.15);\n",
              "      fill: #174EA6;\n",
              "    }\n",
              "\n",
              "    [theme=dark] .colab-df-convert {\n",
              "      background-color: #3B4455;\n",
              "      fill: #D2E3FC;\n",
              "    }\n",
              "\n",
              "    [theme=dark] .colab-df-convert:hover {\n",
              "      background-color: #434B5C;\n",
              "      box-shadow: 0px 1px 3px 1px rgba(0, 0, 0, 0.15);\n",
              "      filter: drop-shadow(0px 1px 2px rgba(0, 0, 0, 0.3));\n",
              "      fill: #FFFFFF;\n",
              "    }\n",
              "  </style>\n",
              "\n",
              "      <script>\n",
              "        const buttonEl =\n",
              "          document.querySelector('#df-fea05537-1b57-4b52-b762-987d7e291086 button.colab-df-convert');\n",
              "        buttonEl.style.display =\n",
              "          google.colab.kernel.accessAllowed ? 'block' : 'none';\n",
              "\n",
              "        async function convertToInteractive(key) {\n",
              "          const element = document.querySelector('#df-fea05537-1b57-4b52-b762-987d7e291086');\n",
              "          const dataTable =\n",
              "            await google.colab.kernel.invokeFunction('convertToInteractive',\n",
              "                                                     [key], {});\n",
              "          if (!dataTable) return;\n",
              "\n",
              "          const docLinkHtml = 'Like what you see? Visit the ' +\n",
              "            '<a target=\"_blank\" href=https://colab.research.google.com/notebooks/data_table.ipynb>data table notebook</a>'\n",
              "            + ' to learn more about interactive tables.';\n",
              "          element.innerHTML = '';\n",
              "          dataTable['output_type'] = 'display_data';\n",
              "          await google.colab.output.renderOutput(dataTable, element);\n",
              "          const docLink = document.createElement('div');\n",
              "          docLink.innerHTML = docLinkHtml;\n",
              "          element.appendChild(docLink);\n",
              "        }\n",
              "      </script>\n",
              "    </div>\n",
              "  </div>\n",
              "  "
            ]
          },
          "metadata": {},
          "execution_count": 33
        }
      ]
    },
    {
      "cell_type": "markdown",
      "source": [
        "Notamos que temos valores fora dos ranges especificado em cada CSV, removeremos esses valores para que eles não desbaleem as nossas análises"
      ],
      "metadata": {
        "id": "IE3EVCmxSlgh"
      }
    },
    {
      "cell_type": "code",
      "source": [
        "df_despesa_ceaps[df_despesa_ceaps['data'].dt.year < 2019].count()"
      ],
      "metadata": {
        "colab": {
          "base_uri": "https://localhost:8080/"
        },
        "id": "H7yE4SaCSPV2",
        "outputId": "7bd2aff1-3060-478f-dedb-9a4541cdb06a"
      },
      "execution_count": null,
      "outputs": [
        {
          "output_type": "execute_result",
          "data": {
            "text/plain": [
              "senador              24482\n",
              "tipo_despesa         24482\n",
              "documento            24482\n",
              "fornecedor           24482\n",
              "data                 24482\n",
              "detalhamento         24482\n",
              "valor_reembolsado    24482\n",
              "tipo_documento       24482\n",
              "dtype: int64"
            ]
          },
          "metadata": {},
          "execution_count": 34
        }
      ]
    },
    {
      "cell_type": "markdown",
      "source": [
        "Verificando o tamanho atual do DataFrame"
      ],
      "metadata": {
        "id": "xtnRnjaCTgeB"
      }
    },
    {
      "cell_type": "code",
      "source": [
        "df_despesa_ceaps.shape[0]"
      ],
      "metadata": {
        "colab": {
          "base_uri": "https://localhost:8080/"
        },
        "id": "LCWDjGYFTcIA",
        "outputId": "b49f0d9a-afb1-4c4c-8e56-47297c515d86"
      },
      "execution_count": null,
      "outputs": [
        {
          "output_type": "execute_result",
          "data": {
            "text/plain": [
              "82316"
            ]
          },
          "metadata": {},
          "execution_count": 35
        }
      ]
    },
    {
      "cell_type": "markdown",
      "source": [
        "Removemos valores fora do escopo da análise"
      ],
      "metadata": {
        "id": "XzUn9j8FTs9H"
      }
    },
    {
      "cell_type": "code",
      "source": [
        "df_despesa_ceaps.drop(df_despesa_ceaps[df_despesa_ceaps['data'].dt.year < 2018].index, inplace=True)\n",
        "df_despesa_ceaps.shape[0]"
      ],
      "metadata": {
        "colab": {
          "base_uri": "https://localhost:8080/"
        },
        "id": "3R9Ie1ePTU4m",
        "outputId": "c1a2b20b-c153-4478-94fe-537e93263119"
      },
      "execution_count": null,
      "outputs": [
        {
          "output_type": "execute_result",
          "data": {
            "text/plain": [
              "81583"
            ]
          },
          "metadata": {},
          "execution_count": 36
        }
      ]
    },
    {
      "cell_type": "markdown",
      "source": [
        "### DataFrame com ESTADOS, COTAS e nome dos SENADORES"
      ],
      "metadata": {
        "id": "ilsQHLYmB8fT"
      }
    },
    {
      "cell_type": "markdown",
      "source": [
        "#### DataFrame dos estados brasileiros\n",
        "\n",
        "Informações sobre as cotas foram encontradas no site https://www12.senado.leg.br/transparencia/leg/pdf/CotaExercicioAtivParlamSenadores.pdf"
      ],
      "metadata": {
        "id": "mDS_Rb8pEf6W"
      }
    },
    {
      "cell_type": "code",
      "source": [
        "states = {\n",
        "  'uf': ['AC','AL','AP','AM','BA','CE','DF','ES','GO','MA','MT','MS','MG','PA','PB','PR','PE','PI','RJ','RN','RS','RO','RR','SC','SP','SE','TO'],\n",
        "  'estados': ['Acre','Alagoas','Amapá','Amazonas','Bahia','Ceará','Distrito Federal','Espírito Santo','Goiás','Maranhão','Mato Grosso','Mato Grosso do Sul','Minas Gerais','Pará','Paraíba','Paraná','Pernambuco','Piauí','Rio de Janeiro','Rio Grande do Norte','Rio Grande do Sul','Rondônia','Roraima','Santa Catarina','São Paulo','Sergipe','Tocantins'],\n",
        "  'cotas': [38854.45,35056.20,42855.20, 44276.60, 35416.20, 38186.60, 21045.20, 33176.60, 21045.20,37396.60,34934.45,32905.20,28496.20,40426.20,35555.20,32586.60,36266.60,38834.45,31816.20,35976.20,35886.60,34615.20,40724.45,32871.32,30226.20,41844.45,25215.20]\n",
        "}\n",
        "df_states = pd.DataFrame(states)\n",
        "df_states.head(5)"
      ],
      "metadata": {
        "colab": {
          "base_uri": "https://localhost:8080/",
          "height": 206
        },
        "id": "61dX9jXeB8DO",
        "outputId": "b1316fc1-bc72-4908-e7fc-5248333ea807"
      },
      "execution_count": null,
      "outputs": [
        {
          "output_type": "execute_result",
          "data": {
            "text/plain": [
              "   uf   estados     cotas\n",
              "0  AC      Acre  38854.45\n",
              "1  AL   Alagoas  35056.20\n",
              "2  AP     Amapá  42855.20\n",
              "3  AM  Amazonas  44276.60\n",
              "4  BA     Bahia  35416.20"
            ],
            "text/html": [
              "\n",
              "  <div id=\"df-dcbc3f23-6cda-4608-955f-336745b72a46\">\n",
              "    <div class=\"colab-df-container\">\n",
              "      <div>\n",
              "<style scoped>\n",
              "    .dataframe tbody tr th:only-of-type {\n",
              "        vertical-align: middle;\n",
              "    }\n",
              "\n",
              "    .dataframe tbody tr th {\n",
              "        vertical-align: top;\n",
              "    }\n",
              "\n",
              "    .dataframe thead th {\n",
              "        text-align: right;\n",
              "    }\n",
              "</style>\n",
              "<table border=\"1\" class=\"dataframe\">\n",
              "  <thead>\n",
              "    <tr style=\"text-align: right;\">\n",
              "      <th></th>\n",
              "      <th>uf</th>\n",
              "      <th>estados</th>\n",
              "      <th>cotas</th>\n",
              "    </tr>\n",
              "  </thead>\n",
              "  <tbody>\n",
              "    <tr>\n",
              "      <th>0</th>\n",
              "      <td>AC</td>\n",
              "      <td>Acre</td>\n",
              "      <td>38854.45</td>\n",
              "    </tr>\n",
              "    <tr>\n",
              "      <th>1</th>\n",
              "      <td>AL</td>\n",
              "      <td>Alagoas</td>\n",
              "      <td>35056.20</td>\n",
              "    </tr>\n",
              "    <tr>\n",
              "      <th>2</th>\n",
              "      <td>AP</td>\n",
              "      <td>Amapá</td>\n",
              "      <td>42855.20</td>\n",
              "    </tr>\n",
              "    <tr>\n",
              "      <th>3</th>\n",
              "      <td>AM</td>\n",
              "      <td>Amazonas</td>\n",
              "      <td>44276.60</td>\n",
              "    </tr>\n",
              "    <tr>\n",
              "      <th>4</th>\n",
              "      <td>BA</td>\n",
              "      <td>Bahia</td>\n",
              "      <td>35416.20</td>\n",
              "    </tr>\n",
              "  </tbody>\n",
              "</table>\n",
              "</div>\n",
              "      <button class=\"colab-df-convert\" onclick=\"convertToInteractive('df-dcbc3f23-6cda-4608-955f-336745b72a46')\"\n",
              "              title=\"Convert this dataframe to an interactive table.\"\n",
              "              style=\"display:none;\">\n",
              "        \n",
              "  <svg xmlns=\"http://www.w3.org/2000/svg\" height=\"24px\"viewBox=\"0 0 24 24\"\n",
              "       width=\"24px\">\n",
              "    <path d=\"M0 0h24v24H0V0z\" fill=\"none\"/>\n",
              "    <path d=\"M18.56 5.44l.94 2.06.94-2.06 2.06-.94-2.06-.94-.94-2.06-.94 2.06-2.06.94zm-11 1L8.5 8.5l.94-2.06 2.06-.94-2.06-.94L8.5 2.5l-.94 2.06-2.06.94zm10 10l.94 2.06.94-2.06 2.06-.94-2.06-.94-.94-2.06-.94 2.06-2.06.94z\"/><path d=\"M17.41 7.96l-1.37-1.37c-.4-.4-.92-.59-1.43-.59-.52 0-1.04.2-1.43.59L10.3 9.45l-7.72 7.72c-.78.78-.78 2.05 0 2.83L4 21.41c.39.39.9.59 1.41.59.51 0 1.02-.2 1.41-.59l7.78-7.78 2.81-2.81c.8-.78.8-2.07 0-2.86zM5.41 20L4 18.59l7.72-7.72 1.47 1.35L5.41 20z\"/>\n",
              "  </svg>\n",
              "      </button>\n",
              "      \n",
              "  <style>\n",
              "    .colab-df-container {\n",
              "      display:flex;\n",
              "      flex-wrap:wrap;\n",
              "      gap: 12px;\n",
              "    }\n",
              "\n",
              "    .colab-df-convert {\n",
              "      background-color: #E8F0FE;\n",
              "      border: none;\n",
              "      border-radius: 50%;\n",
              "      cursor: pointer;\n",
              "      display: none;\n",
              "      fill: #1967D2;\n",
              "      height: 32px;\n",
              "      padding: 0 0 0 0;\n",
              "      width: 32px;\n",
              "    }\n",
              "\n",
              "    .colab-df-convert:hover {\n",
              "      background-color: #E2EBFA;\n",
              "      box-shadow: 0px 1px 2px rgba(60, 64, 67, 0.3), 0px 1px 3px 1px rgba(60, 64, 67, 0.15);\n",
              "      fill: #174EA6;\n",
              "    }\n",
              "\n",
              "    [theme=dark] .colab-df-convert {\n",
              "      background-color: #3B4455;\n",
              "      fill: #D2E3FC;\n",
              "    }\n",
              "\n",
              "    [theme=dark] .colab-df-convert:hover {\n",
              "      background-color: #434B5C;\n",
              "      box-shadow: 0px 1px 3px 1px rgba(0, 0, 0, 0.15);\n",
              "      filter: drop-shadow(0px 1px 2px rgba(0, 0, 0, 0.3));\n",
              "      fill: #FFFFFF;\n",
              "    }\n",
              "  </style>\n",
              "\n",
              "      <script>\n",
              "        const buttonEl =\n",
              "          document.querySelector('#df-dcbc3f23-6cda-4608-955f-336745b72a46 button.colab-df-convert');\n",
              "        buttonEl.style.display =\n",
              "          google.colab.kernel.accessAllowed ? 'block' : 'none';\n",
              "\n",
              "        async function convertToInteractive(key) {\n",
              "          const element = document.querySelector('#df-dcbc3f23-6cda-4608-955f-336745b72a46');\n",
              "          const dataTable =\n",
              "            await google.colab.kernel.invokeFunction('convertToInteractive',\n",
              "                                                     [key], {});\n",
              "          if (!dataTable) return;\n",
              "\n",
              "          const docLinkHtml = 'Like what you see? Visit the ' +\n",
              "            '<a target=\"_blank\" href=https://colab.research.google.com/notebooks/data_table.ipynb>data table notebook</a>'\n",
              "            + ' to learn more about interactive tables.';\n",
              "          element.innerHTML = '';\n",
              "          dataTable['output_type'] = 'display_data';\n",
              "          await google.colab.output.renderOutput(dataTable, element);\n",
              "          const docLink = document.createElement('div');\n",
              "          docLink.innerHTML = docLinkHtml;\n",
              "          element.appendChild(docLink);\n",
              "        }\n",
              "      </script>\n",
              "    </div>\n",
              "  </div>\n",
              "  "
            ]
          },
          "metadata": {},
          "execution_count": 37
        }
      ]
    },
    {
      "cell_type": "code",
      "source": [
        "df_states['cotas_ano'] = df_states['cotas'] * 12\n",
        "df_states.head(5)"
      ],
      "metadata": {
        "colab": {
          "base_uri": "https://localhost:8080/",
          "height": 206
        },
        "id": "-rlnmTlZIHLu",
        "outputId": "82b9c2a7-b79d-4504-b121-c28971c2ed4c"
      },
      "execution_count": null,
      "outputs": [
        {
          "output_type": "execute_result",
          "data": {
            "text/plain": [
              "   uf   estados     cotas  cotas_ano\n",
              "0  AC      Acre  38854.45   466253.4\n",
              "1  AL   Alagoas  35056.20   420674.4\n",
              "2  AP     Amapá  42855.20   514262.4\n",
              "3  AM  Amazonas  44276.60   531319.2\n",
              "4  BA     Bahia  35416.20   424994.4"
            ],
            "text/html": [
              "\n",
              "  <div id=\"df-ce46ff23-0491-4a8a-b140-426e104b4c9f\">\n",
              "    <div class=\"colab-df-container\">\n",
              "      <div>\n",
              "<style scoped>\n",
              "    .dataframe tbody tr th:only-of-type {\n",
              "        vertical-align: middle;\n",
              "    }\n",
              "\n",
              "    .dataframe tbody tr th {\n",
              "        vertical-align: top;\n",
              "    }\n",
              "\n",
              "    .dataframe thead th {\n",
              "        text-align: right;\n",
              "    }\n",
              "</style>\n",
              "<table border=\"1\" class=\"dataframe\">\n",
              "  <thead>\n",
              "    <tr style=\"text-align: right;\">\n",
              "      <th></th>\n",
              "      <th>uf</th>\n",
              "      <th>estados</th>\n",
              "      <th>cotas</th>\n",
              "      <th>cotas_ano</th>\n",
              "    </tr>\n",
              "  </thead>\n",
              "  <tbody>\n",
              "    <tr>\n",
              "      <th>0</th>\n",
              "      <td>AC</td>\n",
              "      <td>Acre</td>\n",
              "      <td>38854.45</td>\n",
              "      <td>466253.4</td>\n",
              "    </tr>\n",
              "    <tr>\n",
              "      <th>1</th>\n",
              "      <td>AL</td>\n",
              "      <td>Alagoas</td>\n",
              "      <td>35056.20</td>\n",
              "      <td>420674.4</td>\n",
              "    </tr>\n",
              "    <tr>\n",
              "      <th>2</th>\n",
              "      <td>AP</td>\n",
              "      <td>Amapá</td>\n",
              "      <td>42855.20</td>\n",
              "      <td>514262.4</td>\n",
              "    </tr>\n",
              "    <tr>\n",
              "      <th>3</th>\n",
              "      <td>AM</td>\n",
              "      <td>Amazonas</td>\n",
              "      <td>44276.60</td>\n",
              "      <td>531319.2</td>\n",
              "    </tr>\n",
              "    <tr>\n",
              "      <th>4</th>\n",
              "      <td>BA</td>\n",
              "      <td>Bahia</td>\n",
              "      <td>35416.20</td>\n",
              "      <td>424994.4</td>\n",
              "    </tr>\n",
              "  </tbody>\n",
              "</table>\n",
              "</div>\n",
              "      <button class=\"colab-df-convert\" onclick=\"convertToInteractive('df-ce46ff23-0491-4a8a-b140-426e104b4c9f')\"\n",
              "              title=\"Convert this dataframe to an interactive table.\"\n",
              "              style=\"display:none;\">\n",
              "        \n",
              "  <svg xmlns=\"http://www.w3.org/2000/svg\" height=\"24px\"viewBox=\"0 0 24 24\"\n",
              "       width=\"24px\">\n",
              "    <path d=\"M0 0h24v24H0V0z\" fill=\"none\"/>\n",
              "    <path d=\"M18.56 5.44l.94 2.06.94-2.06 2.06-.94-2.06-.94-.94-2.06-.94 2.06-2.06.94zm-11 1L8.5 8.5l.94-2.06 2.06-.94-2.06-.94L8.5 2.5l-.94 2.06-2.06.94zm10 10l.94 2.06.94-2.06 2.06-.94-2.06-.94-.94-2.06-.94 2.06-2.06.94z\"/><path d=\"M17.41 7.96l-1.37-1.37c-.4-.4-.92-.59-1.43-.59-.52 0-1.04.2-1.43.59L10.3 9.45l-7.72 7.72c-.78.78-.78 2.05 0 2.83L4 21.41c.39.39.9.59 1.41.59.51 0 1.02-.2 1.41-.59l7.78-7.78 2.81-2.81c.8-.78.8-2.07 0-2.86zM5.41 20L4 18.59l7.72-7.72 1.47 1.35L5.41 20z\"/>\n",
              "  </svg>\n",
              "      </button>\n",
              "      \n",
              "  <style>\n",
              "    .colab-df-container {\n",
              "      display:flex;\n",
              "      flex-wrap:wrap;\n",
              "      gap: 12px;\n",
              "    }\n",
              "\n",
              "    .colab-df-convert {\n",
              "      background-color: #E8F0FE;\n",
              "      border: none;\n",
              "      border-radius: 50%;\n",
              "      cursor: pointer;\n",
              "      display: none;\n",
              "      fill: #1967D2;\n",
              "      height: 32px;\n",
              "      padding: 0 0 0 0;\n",
              "      width: 32px;\n",
              "    }\n",
              "\n",
              "    .colab-df-convert:hover {\n",
              "      background-color: #E2EBFA;\n",
              "      box-shadow: 0px 1px 2px rgba(60, 64, 67, 0.3), 0px 1px 3px 1px rgba(60, 64, 67, 0.15);\n",
              "      fill: #174EA6;\n",
              "    }\n",
              "\n",
              "    [theme=dark] .colab-df-convert {\n",
              "      background-color: #3B4455;\n",
              "      fill: #D2E3FC;\n",
              "    }\n",
              "\n",
              "    [theme=dark] .colab-df-convert:hover {\n",
              "      background-color: #434B5C;\n",
              "      box-shadow: 0px 1px 3px 1px rgba(0, 0, 0, 0.15);\n",
              "      filter: drop-shadow(0px 1px 2px rgba(0, 0, 0, 0.3));\n",
              "      fill: #FFFFFF;\n",
              "    }\n",
              "  </style>\n",
              "\n",
              "      <script>\n",
              "        const buttonEl =\n",
              "          document.querySelector('#df-ce46ff23-0491-4a8a-b140-426e104b4c9f button.colab-df-convert');\n",
              "        buttonEl.style.display =\n",
              "          google.colab.kernel.accessAllowed ? 'block' : 'none';\n",
              "\n",
              "        async function convertToInteractive(key) {\n",
              "          const element = document.querySelector('#df-ce46ff23-0491-4a8a-b140-426e104b4c9f');\n",
              "          const dataTable =\n",
              "            await google.colab.kernel.invokeFunction('convertToInteractive',\n",
              "                                                     [key], {});\n",
              "          if (!dataTable) return;\n",
              "\n",
              "          const docLinkHtml = 'Like what you see? Visit the ' +\n",
              "            '<a target=\"_blank\" href=https://colab.research.google.com/notebooks/data_table.ipynb>data table notebook</a>'\n",
              "            + ' to learn more about interactive tables.';\n",
              "          element.innerHTML = '';\n",
              "          dataTable['output_type'] = 'display_data';\n",
              "          await google.colab.output.renderOutput(dataTable, element);\n",
              "          const docLink = document.createElement('div');\n",
              "          docLink.innerHTML = docLinkHtml;\n",
              "          element.appendChild(docLink);\n",
              "        }\n",
              "      </script>\n",
              "    </div>\n",
              "  </div>\n",
              "  "
            ]
          },
          "metadata": {},
          "execution_count": 38
        }
      ]
    },
    {
      "cell_type": "markdown",
      "source": [
        "#### DataFrame com nomes dos senadores e seus estados\n",
        "\n",
        "Por algum motivo a função **drop** não reconheceu a coluna **endereco**, então usando uma segunda estratégia para fazer o slice do DataFrame"
      ],
      "metadata": {
        "id": "j9pwmD0gEkqC"
      }
    },
    {
      "cell_type": "code",
      "source": [
        "df_parla_inter = pd.read_csv('/content/drive/MyDrive/estudo-data-science/parla_inter_csv.csv', delimiter=';', encoding='ISO-8859-1')\n",
        "columns_parla_inter = [column.lower() for column in df_parla_inter.columns]\n",
        "df_parla_inter.columns = columns_parla_inter\n",
        "df_parla_inter.drop(columns=['partido', 'titularidade', 'mandato', 'telefones', 'dtnasc', 'email', 'chefe_gab'], inplace=True)\n",
        "df_parla_inter = df_parla_inter[['nome_parlamentar', 'uf']]\n",
        "df_parla_inter.columns = ['senador', 'uf']\n",
        "df_parla_inter.head(5)"
      ],
      "metadata": {
        "colab": {
          "base_uri": "https://localhost:8080/",
          "height": 206
        },
        "id": "JZAuHO1IHv96",
        "outputId": "c23a84f2-345a-482b-d81c-9335195f2787"
      },
      "execution_count": null,
      "outputs": [
        {
          "output_type": "execute_result",
          "data": {
            "text/plain": [
              "              senador  uf\n",
              "0        ACIR GURGACZ  RO\n",
              "1   ALESSANDRO VIEIRA  SE\n",
              "2  ALEXANDRE SILVEIRA  MG\n",
              "3         ALVARO DIAS  PR\n",
              "4      ANGELO CORONEL  BA"
            ],
            "text/html": [
              "\n",
              "  <div id=\"df-84a81576-bf58-4642-9009-1befa35a279c\">\n",
              "    <div class=\"colab-df-container\">\n",
              "      <div>\n",
              "<style scoped>\n",
              "    .dataframe tbody tr th:only-of-type {\n",
              "        vertical-align: middle;\n",
              "    }\n",
              "\n",
              "    .dataframe tbody tr th {\n",
              "        vertical-align: top;\n",
              "    }\n",
              "\n",
              "    .dataframe thead th {\n",
              "        text-align: right;\n",
              "    }\n",
              "</style>\n",
              "<table border=\"1\" class=\"dataframe\">\n",
              "  <thead>\n",
              "    <tr style=\"text-align: right;\">\n",
              "      <th></th>\n",
              "      <th>senador</th>\n",
              "      <th>uf</th>\n",
              "    </tr>\n",
              "  </thead>\n",
              "  <tbody>\n",
              "    <tr>\n",
              "      <th>0</th>\n",
              "      <td>ACIR GURGACZ</td>\n",
              "      <td>RO</td>\n",
              "    </tr>\n",
              "    <tr>\n",
              "      <th>1</th>\n",
              "      <td>ALESSANDRO VIEIRA</td>\n",
              "      <td>SE</td>\n",
              "    </tr>\n",
              "    <tr>\n",
              "      <th>2</th>\n",
              "      <td>ALEXANDRE SILVEIRA</td>\n",
              "      <td>MG</td>\n",
              "    </tr>\n",
              "    <tr>\n",
              "      <th>3</th>\n",
              "      <td>ALVARO DIAS</td>\n",
              "      <td>PR</td>\n",
              "    </tr>\n",
              "    <tr>\n",
              "      <th>4</th>\n",
              "      <td>ANGELO CORONEL</td>\n",
              "      <td>BA</td>\n",
              "    </tr>\n",
              "  </tbody>\n",
              "</table>\n",
              "</div>\n",
              "      <button class=\"colab-df-convert\" onclick=\"convertToInteractive('df-84a81576-bf58-4642-9009-1befa35a279c')\"\n",
              "              title=\"Convert this dataframe to an interactive table.\"\n",
              "              style=\"display:none;\">\n",
              "        \n",
              "  <svg xmlns=\"http://www.w3.org/2000/svg\" height=\"24px\"viewBox=\"0 0 24 24\"\n",
              "       width=\"24px\">\n",
              "    <path d=\"M0 0h24v24H0V0z\" fill=\"none\"/>\n",
              "    <path d=\"M18.56 5.44l.94 2.06.94-2.06 2.06-.94-2.06-.94-.94-2.06-.94 2.06-2.06.94zm-11 1L8.5 8.5l.94-2.06 2.06-.94-2.06-.94L8.5 2.5l-.94 2.06-2.06.94zm10 10l.94 2.06.94-2.06 2.06-.94-2.06-.94-.94-2.06-.94 2.06-2.06.94z\"/><path d=\"M17.41 7.96l-1.37-1.37c-.4-.4-.92-.59-1.43-.59-.52 0-1.04.2-1.43.59L10.3 9.45l-7.72 7.72c-.78.78-.78 2.05 0 2.83L4 21.41c.39.39.9.59 1.41.59.51 0 1.02-.2 1.41-.59l7.78-7.78 2.81-2.81c.8-.78.8-2.07 0-2.86zM5.41 20L4 18.59l7.72-7.72 1.47 1.35L5.41 20z\"/>\n",
              "  </svg>\n",
              "      </button>\n",
              "      \n",
              "  <style>\n",
              "    .colab-df-container {\n",
              "      display:flex;\n",
              "      flex-wrap:wrap;\n",
              "      gap: 12px;\n",
              "    }\n",
              "\n",
              "    .colab-df-convert {\n",
              "      background-color: #E8F0FE;\n",
              "      border: none;\n",
              "      border-radius: 50%;\n",
              "      cursor: pointer;\n",
              "      display: none;\n",
              "      fill: #1967D2;\n",
              "      height: 32px;\n",
              "      padding: 0 0 0 0;\n",
              "      width: 32px;\n",
              "    }\n",
              "\n",
              "    .colab-df-convert:hover {\n",
              "      background-color: #E2EBFA;\n",
              "      box-shadow: 0px 1px 2px rgba(60, 64, 67, 0.3), 0px 1px 3px 1px rgba(60, 64, 67, 0.15);\n",
              "      fill: #174EA6;\n",
              "    }\n",
              "\n",
              "    [theme=dark] .colab-df-convert {\n",
              "      background-color: #3B4455;\n",
              "      fill: #D2E3FC;\n",
              "    }\n",
              "\n",
              "    [theme=dark] .colab-df-convert:hover {\n",
              "      background-color: #434B5C;\n",
              "      box-shadow: 0px 1px 3px 1px rgba(0, 0, 0, 0.15);\n",
              "      filter: drop-shadow(0px 1px 2px rgba(0, 0, 0, 0.3));\n",
              "      fill: #FFFFFF;\n",
              "    }\n",
              "  </style>\n",
              "\n",
              "      <script>\n",
              "        const buttonEl =\n",
              "          document.querySelector('#df-84a81576-bf58-4642-9009-1befa35a279c button.colab-df-convert');\n",
              "        buttonEl.style.display =\n",
              "          google.colab.kernel.accessAllowed ? 'block' : 'none';\n",
              "\n",
              "        async function convertToInteractive(key) {\n",
              "          const element = document.querySelector('#df-84a81576-bf58-4642-9009-1befa35a279c');\n",
              "          const dataTable =\n",
              "            await google.colab.kernel.invokeFunction('convertToInteractive',\n",
              "                                                     [key], {});\n",
              "          if (!dataTable) return;\n",
              "\n",
              "          const docLinkHtml = 'Like what you see? Visit the ' +\n",
              "            '<a target=\"_blank\" href=https://colab.research.google.com/notebooks/data_table.ipynb>data table notebook</a>'\n",
              "            + ' to learn more about interactive tables.';\n",
              "          element.innerHTML = '';\n",
              "          dataTable['output_type'] = 'display_data';\n",
              "          await google.colab.output.renderOutput(dataTable, element);\n",
              "          const docLink = document.createElement('div');\n",
              "          docLink.innerHTML = docLinkHtml;\n",
              "          element.appendChild(docLink);\n",
              "        }\n",
              "      </script>\n",
              "    </div>\n",
              "  </div>\n",
              "  "
            ]
          },
          "metadata": {},
          "execution_count": 39
        }
      ]
    },
    {
      "cell_type": "markdown",
      "source": [
        "Agora temos uma possibilidade para verificar o quanto cada senador utilizou do limite das cotas disponibilizadas pelos por estado."
      ],
      "metadata": {
        "id": "FNBXS8IfQ42z"
      }
    },
    {
      "cell_type": "markdown",
      "source": [
        "### Data Visualization & Storytelling"
      ],
      "metadata": {
        "id": "VGWxebNeYLlk"
      }
    },
    {
      "cell_type": "markdown",
      "source": [
        "#### Qual foi o senador que mais declarou despesas?"
      ],
      "metadata": {
        "id": "9xF8kYhnUA8N"
      }
    },
    {
      "cell_type": "markdown",
      "source": [
        "Contagem durante todo o mandato (2019 - 2022) com os dados que nós temos até o presente momento"
      ],
      "metadata": {
        "id": "F096szCdSzW3"
      }
    },
    {
      "cell_type": "code",
      "source": [
        "df_despesa_ceaps['senador'].value_counts()"
      ],
      "metadata": {
        "colab": {
          "base_uri": "https://localhost:8080/"
        },
        "id": "RiXad8CkyScR",
        "outputId": "58a675da-cf72-43ad-ded7-25736f9006ce"
      },
      "execution_count": null,
      "outputs": [
        {
          "output_type": "execute_result",
          "data": {
            "text/plain": [
              "WELLINGTON FAGUNDES     2593\n",
              "HUMBERTO COSTA          2175\n",
              "PAULO PAIM              2047\n",
              "CARLOS VIANA            1849\n",
              "JOSÉ SERRA              1765\n",
              "                        ... \n",
              "NEY SUASSUNA              15\n",
              "SIQUEIRA CAMPOS            4\n",
              "FABIO GARCIA               4\n",
              "VIRGINIO DE CARVALHO       3\n",
              "NAILDE PANTA               1\n",
              "Name: senador, Length: 158, dtype: int64"
            ]
          },
          "metadata": {},
          "execution_count": 40
        }
      ]
    },
    {
      "cell_type": "code",
      "source": [
        "print('Os gastos do senador Carlos Viana representão {}% do total de gastos declarado durando o último mandato (2019 - 2022) até o presente momento dessa análise.'.format(((df_despesa_ceaps['senador'].value_counts()[0] / df_despesa_ceaps.shape[0]) * 100).round(2)))"
      ],
      "metadata": {
        "id": "Ihb6PDACUGby",
        "colab": {
          "base_uri": "https://localhost:8080/"
        },
        "outputId": "7a3fa5d6-1984-438b-a142-c65a2a7a65da"
      },
      "execution_count": null,
      "outputs": [
        {
          "output_type": "stream",
          "name": "stdout",
          "text": [
            "Os gastos do senador Carlos Viana representão 3.18% do total de gastos declarado durando o último mandato (2019 - 2022) até o presente momento dessa análise.\n"
          ]
        }
      ]
    },
    {
      "cell_type": "markdown",
      "source": [
        "#### Qual foi o percentual da cota que os senadores gastaram?"
      ],
      "metadata": {
        "id": "Ibu315tMDaUL"
      }
    },
    {
      "cell_type": "markdown",
      "source": [
        "Para fazer os calculos relacionados com as cotas de cada senador, tivemos que fazer mais uma etapa de Data Wrangling"
      ],
      "metadata": {
        "id": "Yk8dtu2A-PSS"
      }
    },
    {
      "cell_type": "code",
      "source": [
        "years\n",
        "\n",
        "for year in years:\n",
        "  exec('valor_total_{} = df_despesa_ceaps[df_despesa_ceaps[\"data\"].dt.year == {}][\"valor_reembolsado\"].sum()'.format(year, year))"
      ],
      "metadata": {
        "id": "J54VnOupG305"
      },
      "execution_count": null,
      "outputs": []
    },
    {
      "cell_type": "code",
      "source": [
        "years\n",
        "\n",
        "for year in years:\n",
        "  exec('valor_total_senador_{} = df_despesa_ceaps[df_despesa_ceaps[\"data\"].dt.year == {}].groupby(\"senador\")[\"valor_reembolsado\"].agg(valor_total=sum)'.format(year, year))\n",
        "  exec('valor_total_senador_{}.reset_index(inplace=True)'.format(year))"
      ],
      "metadata": {
        "id": "QYelKvEJ0zS4"
      },
      "execution_count": null,
      "outputs": []
    },
    {
      "cell_type": "code",
      "source": [
        "valor_total_senador_2021[valor_total_senador_2021['senador'] == 'DAVI ALCOLUMBRE'] = 512570.92"
      ],
      "metadata": {
        "id": "FRxET5D4z6sk"
      },
      "execution_count": null,
      "outputs": []
    },
    {
      "cell_type": "markdown",
      "source": [
        "#### Merge com os DataFrames de estados e cotas"
      ],
      "metadata": {
        "id": "7NW1WQcG_JYs"
      }
    },
    {
      "cell_type": "code",
      "source": [
        "years\n",
        "\n",
        "for year in years:\n",
        "  exec('valor_total_senador_{} = pd.merge(valor_total_senador_{}, df_parla_inter, how=\"left\", on=\"senador\")'.format(year, year))\n",
        "  exec('valor_total_senador_{} = pd.merge(valor_total_senador_{}, df_states, how=\"left\", on=\"uf\")'.format(year, year))"
      ],
      "metadata": {
        "id": "nZe9U_124IwR"
      },
      "execution_count": null,
      "outputs": []
    },
    {
      "cell_type": "code",
      "source": [
        "valor_total_senador_2021.head(5)"
      ],
      "metadata": {
        "colab": {
          "base_uri": "https://localhost:8080/",
          "height": 206
        },
        "id": "_pNz82G28Ixb",
        "outputId": "be32689a-1b69-4dee-e41a-9ca2fbc2242a"
      },
      "execution_count": null,
      "outputs": [
        {
          "output_type": "execute_result",
          "data": {
            "text/plain": [
              "             senador  valor_total   uf   estados     cotas  cotas_ano\n",
              "0       ACIR GURGACZ    404456.58   RO  Rondônia  34615.20   415382.4\n",
              "1  ALESSANDRO VIEIRA    420529.52   SE   Sergipe  41844.45   502133.4\n",
              "2        ALVARO DIAS     27231.37   PR    Paraná  32586.60   391039.2\n",
              "3     ANGELO CORONEL    438972.87   BA     Bahia  35416.20   424994.4\n",
              "4  ANTONIO ANASTASIA    292603.46  NaN       NaN       NaN        NaN"
            ],
            "text/html": [
              "\n",
              "  <div id=\"df-ae67bd9b-7423-4242-a4bd-95b2f951c8d6\">\n",
              "    <div class=\"colab-df-container\">\n",
              "      <div>\n",
              "<style scoped>\n",
              "    .dataframe tbody tr th:only-of-type {\n",
              "        vertical-align: middle;\n",
              "    }\n",
              "\n",
              "    .dataframe tbody tr th {\n",
              "        vertical-align: top;\n",
              "    }\n",
              "\n",
              "    .dataframe thead th {\n",
              "        text-align: right;\n",
              "    }\n",
              "</style>\n",
              "<table border=\"1\" class=\"dataframe\">\n",
              "  <thead>\n",
              "    <tr style=\"text-align: right;\">\n",
              "      <th></th>\n",
              "      <th>senador</th>\n",
              "      <th>valor_total</th>\n",
              "      <th>uf</th>\n",
              "      <th>estados</th>\n",
              "      <th>cotas</th>\n",
              "      <th>cotas_ano</th>\n",
              "    </tr>\n",
              "  </thead>\n",
              "  <tbody>\n",
              "    <tr>\n",
              "      <th>0</th>\n",
              "      <td>ACIR GURGACZ</td>\n",
              "      <td>404456.58</td>\n",
              "      <td>RO</td>\n",
              "      <td>Rondônia</td>\n",
              "      <td>34615.20</td>\n",
              "      <td>415382.4</td>\n",
              "    </tr>\n",
              "    <tr>\n",
              "      <th>1</th>\n",
              "      <td>ALESSANDRO VIEIRA</td>\n",
              "      <td>420529.52</td>\n",
              "      <td>SE</td>\n",
              "      <td>Sergipe</td>\n",
              "      <td>41844.45</td>\n",
              "      <td>502133.4</td>\n",
              "    </tr>\n",
              "    <tr>\n",
              "      <th>2</th>\n",
              "      <td>ALVARO DIAS</td>\n",
              "      <td>27231.37</td>\n",
              "      <td>PR</td>\n",
              "      <td>Paraná</td>\n",
              "      <td>32586.60</td>\n",
              "      <td>391039.2</td>\n",
              "    </tr>\n",
              "    <tr>\n",
              "      <th>3</th>\n",
              "      <td>ANGELO CORONEL</td>\n",
              "      <td>438972.87</td>\n",
              "      <td>BA</td>\n",
              "      <td>Bahia</td>\n",
              "      <td>35416.20</td>\n",
              "      <td>424994.4</td>\n",
              "    </tr>\n",
              "    <tr>\n",
              "      <th>4</th>\n",
              "      <td>ANTONIO ANASTASIA</td>\n",
              "      <td>292603.46</td>\n",
              "      <td>NaN</td>\n",
              "      <td>NaN</td>\n",
              "      <td>NaN</td>\n",
              "      <td>NaN</td>\n",
              "    </tr>\n",
              "  </tbody>\n",
              "</table>\n",
              "</div>\n",
              "      <button class=\"colab-df-convert\" onclick=\"convertToInteractive('df-ae67bd9b-7423-4242-a4bd-95b2f951c8d6')\"\n",
              "              title=\"Convert this dataframe to an interactive table.\"\n",
              "              style=\"display:none;\">\n",
              "        \n",
              "  <svg xmlns=\"http://www.w3.org/2000/svg\" height=\"24px\"viewBox=\"0 0 24 24\"\n",
              "       width=\"24px\">\n",
              "    <path d=\"M0 0h24v24H0V0z\" fill=\"none\"/>\n",
              "    <path d=\"M18.56 5.44l.94 2.06.94-2.06 2.06-.94-2.06-.94-.94-2.06-.94 2.06-2.06.94zm-11 1L8.5 8.5l.94-2.06 2.06-.94-2.06-.94L8.5 2.5l-.94 2.06-2.06.94zm10 10l.94 2.06.94-2.06 2.06-.94-2.06-.94-.94-2.06-.94 2.06-2.06.94z\"/><path d=\"M17.41 7.96l-1.37-1.37c-.4-.4-.92-.59-1.43-.59-.52 0-1.04.2-1.43.59L10.3 9.45l-7.72 7.72c-.78.78-.78 2.05 0 2.83L4 21.41c.39.39.9.59 1.41.59.51 0 1.02-.2 1.41-.59l7.78-7.78 2.81-2.81c.8-.78.8-2.07 0-2.86zM5.41 20L4 18.59l7.72-7.72 1.47 1.35L5.41 20z\"/>\n",
              "  </svg>\n",
              "      </button>\n",
              "      \n",
              "  <style>\n",
              "    .colab-df-container {\n",
              "      display:flex;\n",
              "      flex-wrap:wrap;\n",
              "      gap: 12px;\n",
              "    }\n",
              "\n",
              "    .colab-df-convert {\n",
              "      background-color: #E8F0FE;\n",
              "      border: none;\n",
              "      border-radius: 50%;\n",
              "      cursor: pointer;\n",
              "      display: none;\n",
              "      fill: #1967D2;\n",
              "      height: 32px;\n",
              "      padding: 0 0 0 0;\n",
              "      width: 32px;\n",
              "    }\n",
              "\n",
              "    .colab-df-convert:hover {\n",
              "      background-color: #E2EBFA;\n",
              "      box-shadow: 0px 1px 2px rgba(60, 64, 67, 0.3), 0px 1px 3px 1px rgba(60, 64, 67, 0.15);\n",
              "      fill: #174EA6;\n",
              "    }\n",
              "\n",
              "    [theme=dark] .colab-df-convert {\n",
              "      background-color: #3B4455;\n",
              "      fill: #D2E3FC;\n",
              "    }\n",
              "\n",
              "    [theme=dark] .colab-df-convert:hover {\n",
              "      background-color: #434B5C;\n",
              "      box-shadow: 0px 1px 3px 1px rgba(0, 0, 0, 0.15);\n",
              "      filter: drop-shadow(0px 1px 2px rgba(0, 0, 0, 0.3));\n",
              "      fill: #FFFFFF;\n",
              "    }\n",
              "  </style>\n",
              "\n",
              "      <script>\n",
              "        const buttonEl =\n",
              "          document.querySelector('#df-ae67bd9b-7423-4242-a4bd-95b2f951c8d6 button.colab-df-convert');\n",
              "        buttonEl.style.display =\n",
              "          google.colab.kernel.accessAllowed ? 'block' : 'none';\n",
              "\n",
              "        async function convertToInteractive(key) {\n",
              "          const element = document.querySelector('#df-ae67bd9b-7423-4242-a4bd-95b2f951c8d6');\n",
              "          const dataTable =\n",
              "            await google.colab.kernel.invokeFunction('convertToInteractive',\n",
              "                                                     [key], {});\n",
              "          if (!dataTable) return;\n",
              "\n",
              "          const docLinkHtml = 'Like what you see? Visit the ' +\n",
              "            '<a target=\"_blank\" href=https://colab.research.google.com/notebooks/data_table.ipynb>data table notebook</a>'\n",
              "            + ' to learn more about interactive tables.';\n",
              "          element.innerHTML = '';\n",
              "          dataTable['output_type'] = 'display_data';\n",
              "          await google.colab.output.renderOutput(dataTable, element);\n",
              "          const docLink = document.createElement('div');\n",
              "          docLink.innerHTML = docLinkHtml;\n",
              "          element.appendChild(docLink);\n",
              "        }\n",
              "      </script>\n",
              "    </div>\n",
              "  </div>\n",
              "  "
            ]
          },
          "metadata": {},
          "execution_count": 46
        }
      ]
    },
    {
      "cell_type": "markdown",
      "source": [
        "#### Removendo os senadores que estão sem informações de estado e cotas"
      ],
      "metadata": {
        "id": "gtPL15JB_GYz"
      }
    },
    {
      "cell_type": "code",
      "source": [
        "valor_total_senador_2021.isnull().sum()"
      ],
      "metadata": {
        "colab": {
          "base_uri": "https://localhost:8080/"
        },
        "id": "iTZ0K3zM9E28",
        "outputId": "5728938e-8171-4e19-d60c-01a761ddea2f"
      },
      "execution_count": null,
      "outputs": [
        {
          "output_type": "execute_result",
          "data": {
            "text/plain": [
              "senador         0\n",
              "valor_total     0\n",
              "uf             17\n",
              "estados        17\n",
              "cotas          17\n",
              "cotas_ano      17\n",
              "dtype: int64"
            ]
          },
          "metadata": {},
          "execution_count": 47
        }
      ]
    },
    {
      "cell_type": "code",
      "source": [
        "years\n",
        "\n",
        "for year in years:\n",
        "  exec('valor_total_senador_{}.dropna(inplace=True)'.format(year, year))"
      ],
      "metadata": {
        "id": "ONJuNZHp-NTI"
      },
      "execution_count": null,
      "outputs": []
    },
    {
      "cell_type": "code",
      "source": [
        "valor_total_senador_2021.isnull().sum()"
      ],
      "metadata": {
        "colab": {
          "base_uri": "https://localhost:8080/"
        },
        "id": "egvf0R2W-50S",
        "outputId": "d64ca3c7-f076-433b-93ad-7b719d9dd34e"
      },
      "execution_count": null,
      "outputs": [
        {
          "output_type": "execute_result",
          "data": {
            "text/plain": [
              "senador        0\n",
              "valor_total    0\n",
              "uf             0\n",
              "estados        0\n",
              "cotas          0\n",
              "cotas_ano      0\n",
              "dtype: int64"
            ]
          },
          "metadata": {},
          "execution_count": 49
        }
      ]
    },
    {
      "cell_type": "markdown",
      "source": [
        "#### Calculo de porcetagens das cotas que os senadores consumiram durante os anos dos seus mandatos"
      ],
      "metadata": {
        "id": "a8nN2776_Uzw"
      }
    },
    {
      "cell_type": "code",
      "source": [
        "years\n",
        "\n",
        "for year in years:\n",
        "  exec('valor_total_senador_{}[\"por_cota\"] = ((valor_total_senador_{}[\"valor_total\"] / valor_total_senador_{}[\"cotas_ano\"]) * 100).round(2)'.format(year, year, year))"
      ],
      "metadata": {
        "id": "11z7PEb3_cZd"
      },
      "execution_count": null,
      "outputs": []
    },
    {
      "cell_type": "code",
      "source": [
        "valor_total_senador_2021.sort_values(by='valor_total', ascending=False).head(5)"
      ],
      "metadata": {
        "colab": {
          "base_uri": "https://localhost:8080/",
          "height": 206
        },
        "id": "xM4WwTs7_6OX",
        "outputId": "1b789744-d030-4fbe-e542-ba22d0ff0b42"
      },
      "execution_count": null,
      "outputs": [
        {
          "output_type": "execute_result",
          "data": {
            "text/plain": [
              "             senador  valor_total  uf   estados     cotas  cotas_ano  por_cota\n",
              "59         OMAR AZIZ    527681.31  AM  Amazonas  44276.60   531319.2     99.32\n",
              "70  ROGÉRIO CARVALHO    504670.23  SE   Sergipe  41844.45   502133.4    100.51\n",
              "54   MECIAS DE JESUS    501632.05  RR   Roraima  40724.45   488693.4    102.65\n",
              "42     LUCAS BARRETO    493871.53  AP     Amapá  42855.20   514262.4     96.03\n",
              "78     TELMÁRIO MOTA    491701.38  RR   Roraima  40724.45   488693.4    100.62"
            ],
            "text/html": [
              "\n",
              "  <div id=\"df-d7970954-3ee5-44b5-8f84-e749c11a7238\">\n",
              "    <div class=\"colab-df-container\">\n",
              "      <div>\n",
              "<style scoped>\n",
              "    .dataframe tbody tr th:only-of-type {\n",
              "        vertical-align: middle;\n",
              "    }\n",
              "\n",
              "    .dataframe tbody tr th {\n",
              "        vertical-align: top;\n",
              "    }\n",
              "\n",
              "    .dataframe thead th {\n",
              "        text-align: right;\n",
              "    }\n",
              "</style>\n",
              "<table border=\"1\" class=\"dataframe\">\n",
              "  <thead>\n",
              "    <tr style=\"text-align: right;\">\n",
              "      <th></th>\n",
              "      <th>senador</th>\n",
              "      <th>valor_total</th>\n",
              "      <th>uf</th>\n",
              "      <th>estados</th>\n",
              "      <th>cotas</th>\n",
              "      <th>cotas_ano</th>\n",
              "      <th>por_cota</th>\n",
              "    </tr>\n",
              "  </thead>\n",
              "  <tbody>\n",
              "    <tr>\n",
              "      <th>59</th>\n",
              "      <td>OMAR AZIZ</td>\n",
              "      <td>527681.31</td>\n",
              "      <td>AM</td>\n",
              "      <td>Amazonas</td>\n",
              "      <td>44276.60</td>\n",
              "      <td>531319.2</td>\n",
              "      <td>99.32</td>\n",
              "    </tr>\n",
              "    <tr>\n",
              "      <th>70</th>\n",
              "      <td>ROGÉRIO CARVALHO</td>\n",
              "      <td>504670.23</td>\n",
              "      <td>SE</td>\n",
              "      <td>Sergipe</td>\n",
              "      <td>41844.45</td>\n",
              "      <td>502133.4</td>\n",
              "      <td>100.51</td>\n",
              "    </tr>\n",
              "    <tr>\n",
              "      <th>54</th>\n",
              "      <td>MECIAS DE JESUS</td>\n",
              "      <td>501632.05</td>\n",
              "      <td>RR</td>\n",
              "      <td>Roraima</td>\n",
              "      <td>40724.45</td>\n",
              "      <td>488693.4</td>\n",
              "      <td>102.65</td>\n",
              "    </tr>\n",
              "    <tr>\n",
              "      <th>42</th>\n",
              "      <td>LUCAS BARRETO</td>\n",
              "      <td>493871.53</td>\n",
              "      <td>AP</td>\n",
              "      <td>Amapá</td>\n",
              "      <td>42855.20</td>\n",
              "      <td>514262.4</td>\n",
              "      <td>96.03</td>\n",
              "    </tr>\n",
              "    <tr>\n",
              "      <th>78</th>\n",
              "      <td>TELMÁRIO MOTA</td>\n",
              "      <td>491701.38</td>\n",
              "      <td>RR</td>\n",
              "      <td>Roraima</td>\n",
              "      <td>40724.45</td>\n",
              "      <td>488693.4</td>\n",
              "      <td>100.62</td>\n",
              "    </tr>\n",
              "  </tbody>\n",
              "</table>\n",
              "</div>\n",
              "      <button class=\"colab-df-convert\" onclick=\"convertToInteractive('df-d7970954-3ee5-44b5-8f84-e749c11a7238')\"\n",
              "              title=\"Convert this dataframe to an interactive table.\"\n",
              "              style=\"display:none;\">\n",
              "        \n",
              "  <svg xmlns=\"http://www.w3.org/2000/svg\" height=\"24px\"viewBox=\"0 0 24 24\"\n",
              "       width=\"24px\">\n",
              "    <path d=\"M0 0h24v24H0V0z\" fill=\"none\"/>\n",
              "    <path d=\"M18.56 5.44l.94 2.06.94-2.06 2.06-.94-2.06-.94-.94-2.06-.94 2.06-2.06.94zm-11 1L8.5 8.5l.94-2.06 2.06-.94-2.06-.94L8.5 2.5l-.94 2.06-2.06.94zm10 10l.94 2.06.94-2.06 2.06-.94-2.06-.94-.94-2.06-.94 2.06-2.06.94z\"/><path d=\"M17.41 7.96l-1.37-1.37c-.4-.4-.92-.59-1.43-.59-.52 0-1.04.2-1.43.59L10.3 9.45l-7.72 7.72c-.78.78-.78 2.05 0 2.83L4 21.41c.39.39.9.59 1.41.59.51 0 1.02-.2 1.41-.59l7.78-7.78 2.81-2.81c.8-.78.8-2.07 0-2.86zM5.41 20L4 18.59l7.72-7.72 1.47 1.35L5.41 20z\"/>\n",
              "  </svg>\n",
              "      </button>\n",
              "      \n",
              "  <style>\n",
              "    .colab-df-container {\n",
              "      display:flex;\n",
              "      flex-wrap:wrap;\n",
              "      gap: 12px;\n",
              "    }\n",
              "\n",
              "    .colab-df-convert {\n",
              "      background-color: #E8F0FE;\n",
              "      border: none;\n",
              "      border-radius: 50%;\n",
              "      cursor: pointer;\n",
              "      display: none;\n",
              "      fill: #1967D2;\n",
              "      height: 32px;\n",
              "      padding: 0 0 0 0;\n",
              "      width: 32px;\n",
              "    }\n",
              "\n",
              "    .colab-df-convert:hover {\n",
              "      background-color: #E2EBFA;\n",
              "      box-shadow: 0px 1px 2px rgba(60, 64, 67, 0.3), 0px 1px 3px 1px rgba(60, 64, 67, 0.15);\n",
              "      fill: #174EA6;\n",
              "    }\n",
              "\n",
              "    [theme=dark] .colab-df-convert {\n",
              "      background-color: #3B4455;\n",
              "      fill: #D2E3FC;\n",
              "    }\n",
              "\n",
              "    [theme=dark] .colab-df-convert:hover {\n",
              "      background-color: #434B5C;\n",
              "      box-shadow: 0px 1px 3px 1px rgba(0, 0, 0, 0.15);\n",
              "      filter: drop-shadow(0px 1px 2px rgba(0, 0, 0, 0.3));\n",
              "      fill: #FFFFFF;\n",
              "    }\n",
              "  </style>\n",
              "\n",
              "      <script>\n",
              "        const buttonEl =\n",
              "          document.querySelector('#df-d7970954-3ee5-44b5-8f84-e749c11a7238 button.colab-df-convert');\n",
              "        buttonEl.style.display =\n",
              "          google.colab.kernel.accessAllowed ? 'block' : 'none';\n",
              "\n",
              "        async function convertToInteractive(key) {\n",
              "          const element = document.querySelector('#df-d7970954-3ee5-44b5-8f84-e749c11a7238');\n",
              "          const dataTable =\n",
              "            await google.colab.kernel.invokeFunction('convertToInteractive',\n",
              "                                                     [key], {});\n",
              "          if (!dataTable) return;\n",
              "\n",
              "          const docLinkHtml = 'Like what you see? Visit the ' +\n",
              "            '<a target=\"_blank\" href=https://colab.research.google.com/notebooks/data_table.ipynb>data table notebook</a>'\n",
              "            + ' to learn more about interactive tables.';\n",
              "          element.innerHTML = '';\n",
              "          dataTable['output_type'] = 'display_data';\n",
              "          await google.colab.output.renderOutput(dataTable, element);\n",
              "          const docLink = document.createElement('div');\n",
              "          docLink.innerHTML = docLinkHtml;\n",
              "          element.appendChild(docLink);\n",
              "        }\n",
              "      </script>\n",
              "    </div>\n",
              "  </div>\n",
              "  "
            ]
          },
          "metadata": {},
          "execution_count": 51
        }
      ]
    },
    {
      "cell_type": "code",
      "source": [
        "valor_total_senador_2018_contagem = valor_total_senador_2018[valor_total_senador_2018['por_cota'] >= 90]['por_cota'].count()\n",
        "valor_total_senador_2019_contagem = valor_total_senador_2019[valor_total_senador_2019['por_cota'] >= 90]['por_cota'].count()\n",
        "valor_total_senador_2020_contagem = valor_total_senador_2020[valor_total_senador_2020['por_cota'] >= 90]['por_cota'].count()\n",
        "valor_total_senador_2021_contagem = valor_total_senador_2021[valor_total_senador_2021['por_cota'] >= 90]['por_cota'].count()\n",
        "valor_total_senador_2022_contagem = valor_total_senador_2022[valor_total_senador_2022['por_cota'] >= 90]['por_cota'].count()"
      ],
      "metadata": {
        "id": "Y0teUHFEqr8Q"
      },
      "execution_count": null,
      "outputs": []
    },
    {
      "cell_type": "code",
      "source": [
        "print('Quantidade de senadores que gastaram mais de 90% da cota anual em 2018: {}, isso corresponde a {}% do nossa dataframe.'.format(valor_total_senador_2018_contagem, ((valor_total_senador_2018_contagem / valor_total_senador_2018.shape[0])*100).round(2)))\n",
        "print('Quantidade de senadores que gastaram mais de 90% da cota anual em 2019: {}, isso corresponde a {}% do nossa dataframe.'.format(valor_total_senador_2019_contagem, ((valor_total_senador_2019_contagem / valor_total_senador_2019.shape[0])*100).round(2)))\n",
        "print('Quantidade de senadores que gastaram mais de 90% da cota anual em 2020: {}, isso corresponde a {}% do nossa dataframe.'.format(valor_total_senador_2020_contagem, ((valor_total_senador_2019_contagem / valor_total_senador_2020.shape[0])*100).round(2)))\n",
        "print('Quantidade de senadores que gastaram mais de 90% da cota anual em 2021: {}, isso corresponde a {}% do nossa dataframe.'.format(valor_total_senador_2021_contagem, ((valor_total_senador_2019_contagem / valor_total_senador_2021.shape[0])*100).round(2)))\n",
        "print('Quantidade de senadores que gastaram mais de 90% da cota anual em 2022: {} // Estamos no mês de maio, logo, não temos como avaliar essa métrica.'.format(valor_total_senador_2022_contagem))"
      ],
      "metadata": {
        "id": "3drQXizCk19-",
        "colab": {
          "base_uri": "https://localhost:8080/"
        },
        "outputId": "a0dd4295-811d-4c3d-89be-2b69d76220dc"
      },
      "execution_count": null,
      "outputs": [
        {
          "output_type": "stream",
          "name": "stdout",
          "text": [
            "Quantidade de senadores que gastaram mais de 90% da cota anual em 2018: 8, isso corresponde a 25.81% do nossa dataframe.\n",
            "Quantidade de senadores que gastaram mais de 90% da cota anual em 2019: 26, isso corresponde a 40.0% do nossa dataframe.\n",
            "Quantidade de senadores que gastaram mais de 90% da cota anual em 2020: 14, isso corresponde a 39.39% do nossa dataframe.\n",
            "Quantidade de senadores que gastaram mais de 90% da cota anual em 2021: 28, isso corresponde a 37.68% do nossa dataframe.\n",
            "Quantidade de senadores que gastaram mais de 90% da cota anual em 2022: 0 // Estamos no mês de maio, logo, não temos como avaliar essa métrica.\n"
          ]
        }
      ]
    },
    {
      "cell_type": "markdown",
      "source": [
        "#### Quantidade de gastos declarados por anos, para avaliar se a quantidade de gastos declarados influência diretamente na proporção de senadores ultrapassando 90% das cotas anuais"
      ],
      "metadata": {
        "id": "51Y8lZizsN3V"
      }
    },
    {
      "cell_type": "code",
      "source": [
        "years\n",
        "\n",
        "for year in years:\n",
        "  exec('valor_total_{}_contagem_gastos = df_despesa_ceaps[df_despesa_ceaps[\"data\"].dt.year == {}].shape[0]'.format(year, year))\n",
        "\n",
        "print('Quantidade de gastos declarado no ano 2018: {}'.format(valor_total_2018_contagem_gastos))\n",
        "print('Quantidade de gastos declarado no ano 2019: {}'.format(valor_total_2019_contagem_gastos))\n",
        "print('Quantidade de gastos declarado no ano 2020: {}'.format(valor_total_2020_contagem_gastos))\n",
        "print('Quantidade de gastos declarado no ano 2021: {}'.format(valor_total_2021_contagem_gastos))\n",
        "print('Quantidade de gastos declarado no ano 2022: {}'.format(valor_total_2022_contagem_gastos))"
      ],
      "metadata": {
        "id": "fIyi4TZLsmpV",
        "colab": {
          "base_uri": "https://localhost:8080/"
        },
        "outputId": "1a684a51-1b12-4dbd-8c3e-eacd69eae5a4"
      },
      "execution_count": null,
      "outputs": [
        {
          "output_type": "stream",
          "name": "stdout",
          "text": [
            "Quantidade de gastos declarado no ano 2018: 24252\n",
            "Quantidade de gastos declarado no ano 2019: 21508\n",
            "Quantidade de gastos declarado no ano 2020: 13872\n",
            "Quantidade de gastos declarado no ano 2021: 16686\n",
            "Quantidade de gastos declarado no ano 2022: 5260\n"
          ]
        }
      ]
    },
    {
      "cell_type": "markdown",
      "source": [
        "#### Quais foram as categorias de gastos mais declaradas?"
      ],
      "metadata": {
        "id": "bWK9gRYVxlPC"
      }
    },
    {
      "cell_type": "code",
      "source": [
        "years\n",
        "\n",
        "for year in years:\n",
        "  exec('valor_total_{}_categoria = df_despesa_ceaps[df_despesa_ceaps[\"data\"].dt.year == {}][\"tipo_despesa\"].value_counts()'.format(year, year))"
      ],
      "metadata": {
        "id": "TOxdj_Q0xl5I"
      },
      "execution_count": null,
      "outputs": []
    },
    {
      "cell_type": "code",
      "source": [
        "valor_total_2018_categoria = valor_total_2018_categoria.to_frame().reset_index().rename(columns={'index': 'despesa'})\n",
        "valor_total_2019_categoria = valor_total_2019_categoria.to_frame().reset_index().rename(columns={'index': 'despesa'})\n",
        "valor_total_2020_categoria = valor_total_2020_categoria.to_frame().reset_index().rename(columns={'index': 'despesa'})\n",
        "valor_total_2021_categoria = valor_total_2021_categoria.to_frame().reset_index().rename(columns={'index': 'despesa'})\n",
        "valor_total_2022_categoria = valor_total_2022_categoria.to_frame().reset_index().rename(columns={'index': 'despesa'})"
      ],
      "metadata": {
        "id": "fe_rF7DSx4FX"
      },
      "execution_count": null,
      "outputs": []
    },
    {
      "cell_type": "markdown",
      "source": [
        "### Análise dos gastos por ano/mês"
      ],
      "metadata": {
        "id": "vck91eIiOo0P"
      }
    },
    {
      "cell_type": "markdown",
      "source": [
        "#### Criando DataFrame agrupados por ano / mês / despesa"
      ],
      "metadata": {
        "id": "yVcEul_YP-mC"
      }
    },
    {
      "cell_type": "code",
      "source": [
        "df_despesa_ceaps_by_ano_mes_despesa = df_despesa_ceaps.groupby([df_despesa_ceaps[\"data\"].dt.year.rename('ano'), df_despesa_ceaps[\"data\"].dt.month.rename('mes'), 'tipo_despesa'])['valor_reembolsado'].agg(valor_total=sum)\n",
        "df_despesa_ceaps_by_ano_mes_despesa = df_despesa_ceaps_by_ano_mes_despesa.reset_index()\n",
        "df_despesa_ceaps_by_ano_mes_despesa['ano'] = df_despesa_ceaps_by_ano_mes_despesa['ano'].astype('int')\n",
        "df_despesa_ceaps_by_ano_mes_despesa['mes'] = df_despesa_ceaps_by_ano_mes_despesa['mes'].astype('int')\n",
        "df_despesa_ceaps_by_ano_mes_despesa.head()"
      ],
      "metadata": {
        "id": "kQl9OKmyQFl3",
        "colab": {
          "base_uri": "https://localhost:8080/",
          "height": 206
        },
        "outputId": "ca405a55-7113-4c6d-eb8b-ae6b392d1400"
      },
      "execution_count": null,
      "outputs": [
        {
          "output_type": "execute_result",
          "data": {
            "text/plain": [
              "    ano  mes                                       tipo_despesa  valor_total\n",
              "0  2018    1  Aluguel de imóveis para escritório político, c...    327869.75\n",
              "1  2018    1  Aquisição de material de consumo para uso no e...     57264.06\n",
              "2  2018    1  Contratação de consultorias, assessorias, pesq...    189266.37\n",
              "3  2018    1                Divulgação da atividade parlamentar    172204.16\n",
              "4  2018    1  Locomoção, hospedagem, alimentação, combustíve...    333042.54"
            ],
            "text/html": [
              "\n",
              "  <div id=\"df-dd98f15b-b4b6-4d08-9873-fb8456a6a95d\">\n",
              "    <div class=\"colab-df-container\">\n",
              "      <div>\n",
              "<style scoped>\n",
              "    .dataframe tbody tr th:only-of-type {\n",
              "        vertical-align: middle;\n",
              "    }\n",
              "\n",
              "    .dataframe tbody tr th {\n",
              "        vertical-align: top;\n",
              "    }\n",
              "\n",
              "    .dataframe thead th {\n",
              "        text-align: right;\n",
              "    }\n",
              "</style>\n",
              "<table border=\"1\" class=\"dataframe\">\n",
              "  <thead>\n",
              "    <tr style=\"text-align: right;\">\n",
              "      <th></th>\n",
              "      <th>ano</th>\n",
              "      <th>mes</th>\n",
              "      <th>tipo_despesa</th>\n",
              "      <th>valor_total</th>\n",
              "    </tr>\n",
              "  </thead>\n",
              "  <tbody>\n",
              "    <tr>\n",
              "      <th>0</th>\n",
              "      <td>2018</td>\n",
              "      <td>1</td>\n",
              "      <td>Aluguel de imóveis para escritório político, c...</td>\n",
              "      <td>327869.75</td>\n",
              "    </tr>\n",
              "    <tr>\n",
              "      <th>1</th>\n",
              "      <td>2018</td>\n",
              "      <td>1</td>\n",
              "      <td>Aquisição de material de consumo para uso no e...</td>\n",
              "      <td>57264.06</td>\n",
              "    </tr>\n",
              "    <tr>\n",
              "      <th>2</th>\n",
              "      <td>2018</td>\n",
              "      <td>1</td>\n",
              "      <td>Contratação de consultorias, assessorias, pesq...</td>\n",
              "      <td>189266.37</td>\n",
              "    </tr>\n",
              "    <tr>\n",
              "      <th>3</th>\n",
              "      <td>2018</td>\n",
              "      <td>1</td>\n",
              "      <td>Divulgação da atividade parlamentar</td>\n",
              "      <td>172204.16</td>\n",
              "    </tr>\n",
              "    <tr>\n",
              "      <th>4</th>\n",
              "      <td>2018</td>\n",
              "      <td>1</td>\n",
              "      <td>Locomoção, hospedagem, alimentação, combustíve...</td>\n",
              "      <td>333042.54</td>\n",
              "    </tr>\n",
              "  </tbody>\n",
              "</table>\n",
              "</div>\n",
              "      <button class=\"colab-df-convert\" onclick=\"convertToInteractive('df-dd98f15b-b4b6-4d08-9873-fb8456a6a95d')\"\n",
              "              title=\"Convert this dataframe to an interactive table.\"\n",
              "              style=\"display:none;\">\n",
              "        \n",
              "  <svg xmlns=\"http://www.w3.org/2000/svg\" height=\"24px\"viewBox=\"0 0 24 24\"\n",
              "       width=\"24px\">\n",
              "    <path d=\"M0 0h24v24H0V0z\" fill=\"none\"/>\n",
              "    <path d=\"M18.56 5.44l.94 2.06.94-2.06 2.06-.94-2.06-.94-.94-2.06-.94 2.06-2.06.94zm-11 1L8.5 8.5l.94-2.06 2.06-.94-2.06-.94L8.5 2.5l-.94 2.06-2.06.94zm10 10l.94 2.06.94-2.06 2.06-.94-2.06-.94-.94-2.06-.94 2.06-2.06.94z\"/><path d=\"M17.41 7.96l-1.37-1.37c-.4-.4-.92-.59-1.43-.59-.52 0-1.04.2-1.43.59L10.3 9.45l-7.72 7.72c-.78.78-.78 2.05 0 2.83L4 21.41c.39.39.9.59 1.41.59.51 0 1.02-.2 1.41-.59l7.78-7.78 2.81-2.81c.8-.78.8-2.07 0-2.86zM5.41 20L4 18.59l7.72-7.72 1.47 1.35L5.41 20z\"/>\n",
              "  </svg>\n",
              "      </button>\n",
              "      \n",
              "  <style>\n",
              "    .colab-df-container {\n",
              "      display:flex;\n",
              "      flex-wrap:wrap;\n",
              "      gap: 12px;\n",
              "    }\n",
              "\n",
              "    .colab-df-convert {\n",
              "      background-color: #E8F0FE;\n",
              "      border: none;\n",
              "      border-radius: 50%;\n",
              "      cursor: pointer;\n",
              "      display: none;\n",
              "      fill: #1967D2;\n",
              "      height: 32px;\n",
              "      padding: 0 0 0 0;\n",
              "      width: 32px;\n",
              "    }\n",
              "\n",
              "    .colab-df-convert:hover {\n",
              "      background-color: #E2EBFA;\n",
              "      box-shadow: 0px 1px 2px rgba(60, 64, 67, 0.3), 0px 1px 3px 1px rgba(60, 64, 67, 0.15);\n",
              "      fill: #174EA6;\n",
              "    }\n",
              "\n",
              "    [theme=dark] .colab-df-convert {\n",
              "      background-color: #3B4455;\n",
              "      fill: #D2E3FC;\n",
              "    }\n",
              "\n",
              "    [theme=dark] .colab-df-convert:hover {\n",
              "      background-color: #434B5C;\n",
              "      box-shadow: 0px 1px 3px 1px rgba(0, 0, 0, 0.15);\n",
              "      filter: drop-shadow(0px 1px 2px rgba(0, 0, 0, 0.3));\n",
              "      fill: #FFFFFF;\n",
              "    }\n",
              "  </style>\n",
              "\n",
              "      <script>\n",
              "        const buttonEl =\n",
              "          document.querySelector('#df-dd98f15b-b4b6-4d08-9873-fb8456a6a95d button.colab-df-convert');\n",
              "        buttonEl.style.display =\n",
              "          google.colab.kernel.accessAllowed ? 'block' : 'none';\n",
              "\n",
              "        async function convertToInteractive(key) {\n",
              "          const element = document.querySelector('#df-dd98f15b-b4b6-4d08-9873-fb8456a6a95d');\n",
              "          const dataTable =\n",
              "            await google.colab.kernel.invokeFunction('convertToInteractive',\n",
              "                                                     [key], {});\n",
              "          if (!dataTable) return;\n",
              "\n",
              "          const docLinkHtml = 'Like what you see? Visit the ' +\n",
              "            '<a target=\"_blank\" href=https://colab.research.google.com/notebooks/data_table.ipynb>data table notebook</a>'\n",
              "            + ' to learn more about interactive tables.';\n",
              "          element.innerHTML = '';\n",
              "          dataTable['output_type'] = 'display_data';\n",
              "          await google.colab.output.renderOutput(dataTable, element);\n",
              "          const docLink = document.createElement('div');\n",
              "          docLink.innerHTML = docLinkHtml;\n",
              "          element.appendChild(docLink);\n",
              "        }\n",
              "      </script>\n",
              "    </div>\n",
              "  </div>\n",
              "  "
            ]
          },
          "metadata": {},
          "execution_count": 57
        }
      ]
    },
    {
      "cell_type": "code",
      "source": [
        "df_despesa_ceaps_by_ano_mes_despesa['mes'] = df_despesa_ceaps_by_ano_mes_despesa['mes'].map({ 1: 'Jan', 2: 'Feb', 3: 'Mar', 4: 'Abr', 5: 'Mai', 6: 'Jun', 7: 'Jul', 8: 'Ago', 9: 'Set', 10: 'Out', 11: 'Nov', 12: 'Des' })"
      ],
      "metadata": {
        "id": "u0pdxerBEPr6"
      },
      "execution_count": null,
      "outputs": []
    },
    {
      "cell_type": "markdown",
      "source": [
        "#### Criando DataFrame agrupados por ano / mês / senador"
      ],
      "metadata": {
        "id": "4a4Tnl0uUSRA"
      }
    },
    {
      "cell_type": "code",
      "source": [
        "df_despesa_ceaps_by_ano_mes_senador = df_despesa_ceaps.groupby([df_despesa_ceaps[\"data\"].dt.year.rename('ano'), df_despesa_ceaps[\"data\"].dt.month.rename('mes'), 'senador'])['valor_reembolsado'].agg(valor_total=sum)\n",
        "df_despesa_ceaps_by_ano_mes_senador = df_despesa_ceaps_by_ano_mes_senador.reset_index()\n",
        "df_despesa_ceaps_by_ano_mes_senador['ano'] = df_despesa_ceaps_by_ano_mes_senador['ano'].astype('int')\n",
        "df_despesa_ceaps_by_ano_mes_senador['mes'] = df_despesa_ceaps_by_ano_mes_senador['mes'].astype('int')\n",
        "df_despesa_ceaps_by_ano_mes_senador[df_despesa_ceaps_by_ano_mes_senador['ano'] == 2019].sort_values(by='valor_total', ascending=False).head()"
      ],
      "metadata": {
        "id": "kiWiwfWHUXT4",
        "colab": {
          "base_uri": "https://localhost:8080/",
          "height": 206
        },
        "outputId": "f325361d-6c95-442e-cc15-0cbb4b8538ce"
      },
      "execution_count": null,
      "outputs": [
        {
          "output_type": "execute_result",
          "data": {
            "text/plain": [
              "       ano  mes          senador  valor_total\n",
              "1826  2019   12   ANGELO CORONEL    286868.42\n",
              "1525  2019    8     DÁRIO BERGER    162962.15\n",
              "1189  2019    3  ROSE DE FREITAS    125095.07\n",
              "1814  2019   11   SÉRGIO PETECÃO     87680.48\n",
              "1135  2019    3  DAVI ALCOLUMBRE     85429.35"
            ],
            "text/html": [
              "\n",
              "  <div id=\"df-17bb375e-f50b-4354-8ea6-976b984c5b1f\">\n",
              "    <div class=\"colab-df-container\">\n",
              "      <div>\n",
              "<style scoped>\n",
              "    .dataframe tbody tr th:only-of-type {\n",
              "        vertical-align: middle;\n",
              "    }\n",
              "\n",
              "    .dataframe tbody tr th {\n",
              "        vertical-align: top;\n",
              "    }\n",
              "\n",
              "    .dataframe thead th {\n",
              "        text-align: right;\n",
              "    }\n",
              "</style>\n",
              "<table border=\"1\" class=\"dataframe\">\n",
              "  <thead>\n",
              "    <tr style=\"text-align: right;\">\n",
              "      <th></th>\n",
              "      <th>ano</th>\n",
              "      <th>mes</th>\n",
              "      <th>senador</th>\n",
              "      <th>valor_total</th>\n",
              "    </tr>\n",
              "  </thead>\n",
              "  <tbody>\n",
              "    <tr>\n",
              "      <th>1826</th>\n",
              "      <td>2019</td>\n",
              "      <td>12</td>\n",
              "      <td>ANGELO CORONEL</td>\n",
              "      <td>286868.42</td>\n",
              "    </tr>\n",
              "    <tr>\n",
              "      <th>1525</th>\n",
              "      <td>2019</td>\n",
              "      <td>8</td>\n",
              "      <td>DÁRIO BERGER</td>\n",
              "      <td>162962.15</td>\n",
              "    </tr>\n",
              "    <tr>\n",
              "      <th>1189</th>\n",
              "      <td>2019</td>\n",
              "      <td>3</td>\n",
              "      <td>ROSE DE FREITAS</td>\n",
              "      <td>125095.07</td>\n",
              "    </tr>\n",
              "    <tr>\n",
              "      <th>1814</th>\n",
              "      <td>2019</td>\n",
              "      <td>11</td>\n",
              "      <td>SÉRGIO PETECÃO</td>\n",
              "      <td>87680.48</td>\n",
              "    </tr>\n",
              "    <tr>\n",
              "      <th>1135</th>\n",
              "      <td>2019</td>\n",
              "      <td>3</td>\n",
              "      <td>DAVI ALCOLUMBRE</td>\n",
              "      <td>85429.35</td>\n",
              "    </tr>\n",
              "  </tbody>\n",
              "</table>\n",
              "</div>\n",
              "      <button class=\"colab-df-convert\" onclick=\"convertToInteractive('df-17bb375e-f50b-4354-8ea6-976b984c5b1f')\"\n",
              "              title=\"Convert this dataframe to an interactive table.\"\n",
              "              style=\"display:none;\">\n",
              "        \n",
              "  <svg xmlns=\"http://www.w3.org/2000/svg\" height=\"24px\"viewBox=\"0 0 24 24\"\n",
              "       width=\"24px\">\n",
              "    <path d=\"M0 0h24v24H0V0z\" fill=\"none\"/>\n",
              "    <path d=\"M18.56 5.44l.94 2.06.94-2.06 2.06-.94-2.06-.94-.94-2.06-.94 2.06-2.06.94zm-11 1L8.5 8.5l.94-2.06 2.06-.94-2.06-.94L8.5 2.5l-.94 2.06-2.06.94zm10 10l.94 2.06.94-2.06 2.06-.94-2.06-.94-.94-2.06-.94 2.06-2.06.94z\"/><path d=\"M17.41 7.96l-1.37-1.37c-.4-.4-.92-.59-1.43-.59-.52 0-1.04.2-1.43.59L10.3 9.45l-7.72 7.72c-.78.78-.78 2.05 0 2.83L4 21.41c.39.39.9.59 1.41.59.51 0 1.02-.2 1.41-.59l7.78-7.78 2.81-2.81c.8-.78.8-2.07 0-2.86zM5.41 20L4 18.59l7.72-7.72 1.47 1.35L5.41 20z\"/>\n",
              "  </svg>\n",
              "      </button>\n",
              "      \n",
              "  <style>\n",
              "    .colab-df-container {\n",
              "      display:flex;\n",
              "      flex-wrap:wrap;\n",
              "      gap: 12px;\n",
              "    }\n",
              "\n",
              "    .colab-df-convert {\n",
              "      background-color: #E8F0FE;\n",
              "      border: none;\n",
              "      border-radius: 50%;\n",
              "      cursor: pointer;\n",
              "      display: none;\n",
              "      fill: #1967D2;\n",
              "      height: 32px;\n",
              "      padding: 0 0 0 0;\n",
              "      width: 32px;\n",
              "    }\n",
              "\n",
              "    .colab-df-convert:hover {\n",
              "      background-color: #E2EBFA;\n",
              "      box-shadow: 0px 1px 2px rgba(60, 64, 67, 0.3), 0px 1px 3px 1px rgba(60, 64, 67, 0.15);\n",
              "      fill: #174EA6;\n",
              "    }\n",
              "\n",
              "    [theme=dark] .colab-df-convert {\n",
              "      background-color: #3B4455;\n",
              "      fill: #D2E3FC;\n",
              "    }\n",
              "\n",
              "    [theme=dark] .colab-df-convert:hover {\n",
              "      background-color: #434B5C;\n",
              "      box-shadow: 0px 1px 3px 1px rgba(0, 0, 0, 0.15);\n",
              "      filter: drop-shadow(0px 1px 2px rgba(0, 0, 0, 0.3));\n",
              "      fill: #FFFFFF;\n",
              "    }\n",
              "  </style>\n",
              "\n",
              "      <script>\n",
              "        const buttonEl =\n",
              "          document.querySelector('#df-17bb375e-f50b-4354-8ea6-976b984c5b1f button.colab-df-convert');\n",
              "        buttonEl.style.display =\n",
              "          google.colab.kernel.accessAllowed ? 'block' : 'none';\n",
              "\n",
              "        async function convertToInteractive(key) {\n",
              "          const element = document.querySelector('#df-17bb375e-f50b-4354-8ea6-976b984c5b1f');\n",
              "          const dataTable =\n",
              "            await google.colab.kernel.invokeFunction('convertToInteractive',\n",
              "                                                     [key], {});\n",
              "          if (!dataTable) return;\n",
              "\n",
              "          const docLinkHtml = 'Like what you see? Visit the ' +\n",
              "            '<a target=\"_blank\" href=https://colab.research.google.com/notebooks/data_table.ipynb>data table notebook</a>'\n",
              "            + ' to learn more about interactive tables.';\n",
              "          element.innerHTML = '';\n",
              "          dataTable['output_type'] = 'display_data';\n",
              "          await google.colab.output.renderOutput(dataTable, element);\n",
              "          const docLink = document.createElement('div');\n",
              "          docLink.innerHTML = docLinkHtml;\n",
              "          element.appendChild(docLink);\n",
              "        }\n",
              "      </script>\n",
              "    </div>\n",
              "  </div>\n",
              "  "
            ]
          },
          "metadata": {},
          "execution_count": 59
        }
      ]
    },
    {
      "cell_type": "markdown",
      "source": [
        "### Utilizando Potly"
      ],
      "metadata": {
        "id": "WI--1539UXLB"
      }
    },
    {
      "cell_type": "markdown",
      "source": [
        "#### Visualização dos GASTOS com DESPESAS"
      ],
      "metadata": {
        "id": "YD4LztYGZJHM"
      }
    },
    {
      "cell_type": "code",
      "source": [
        "df_despesa_ceaps.tail()"
      ],
      "metadata": {
        "id": "q0GEwUnXnn9u",
        "colab": {
          "base_uri": "https://localhost:8080/",
          "height": 206
        },
        "outputId": "3809bed0-e9c8-43e0-ae6d-4cf4fe8f1ae4"
      },
      "execution_count": null,
      "outputs": [
        {
          "output_type": "execute_result",
          "data": {
            "text/plain": [
              "             senador                                       tipo_despesa  \\\n",
              "24487  ZEZÉ PERRELLA  Locomoção, hospedagem, alimentação, combustíve...   \n",
              "24488  ZEZÉ PERRELLA  Locomoção, hospedagem, alimentação, combustíve...   \n",
              "24489  ZEZÉ PERRELLA  Locomoção, hospedagem, alimentação, combustíve...   \n",
              "24490  ZEZÉ PERRELLA  Passagens aéreas, aquáticas e terrestres nacio...   \n",
              "24491  ZEZÉ PERRELLA  Passagens aéreas, aquáticas e terrestres nacio...   \n",
              "\n",
              "            documento                    fornecedor       data  \\\n",
              "24487  16979906000130      Posto Vila da Serra Ltda 2018-12-13   \n",
              "24488  16979906000130      Posto Vila da Serra Ltda 2018-12-19   \n",
              "24489  16979906000130      Posto Vila da Serra Ltda 2018-12-19   \n",
              "24490  16978175000108  Adria Viagens e Turismo Ltda 2018-12-05   \n",
              "24491  16978175000108  Adria Viagens e Turismo Ltda 2018-12-17   \n",
              "\n",
              "                                            detalhamento  valor_reembolsado  \\\n",
              "24487                                            Unknown             220.05   \n",
              "24488                                            Unknown              73.02   \n",
              "24489                                            Unknown             232.01   \n",
              "24490  Companhia Aérea: AZUL, Localizador: CI5PSK. Pa...            1132.69   \n",
              "24491  Companhia Aérea: LATAM, Localizador: OHNRAG. P...            1260.45   \n",
              "\n",
              "      tipo_documento  \n",
              "24487           cnpj  \n",
              "24488           cnpj  \n",
              "24489           cnpj  \n",
              "24490           cnpj  \n",
              "24491           cnpj  "
            ],
            "text/html": [
              "\n",
              "  <div id=\"df-1fd065d4-62f4-48e6-91ef-3ac599855109\">\n",
              "    <div class=\"colab-df-container\">\n",
              "      <div>\n",
              "<style scoped>\n",
              "    .dataframe tbody tr th:only-of-type {\n",
              "        vertical-align: middle;\n",
              "    }\n",
              "\n",
              "    .dataframe tbody tr th {\n",
              "        vertical-align: top;\n",
              "    }\n",
              "\n",
              "    .dataframe thead th {\n",
              "        text-align: right;\n",
              "    }\n",
              "</style>\n",
              "<table border=\"1\" class=\"dataframe\">\n",
              "  <thead>\n",
              "    <tr style=\"text-align: right;\">\n",
              "      <th></th>\n",
              "      <th>senador</th>\n",
              "      <th>tipo_despesa</th>\n",
              "      <th>documento</th>\n",
              "      <th>fornecedor</th>\n",
              "      <th>data</th>\n",
              "      <th>detalhamento</th>\n",
              "      <th>valor_reembolsado</th>\n",
              "      <th>tipo_documento</th>\n",
              "    </tr>\n",
              "  </thead>\n",
              "  <tbody>\n",
              "    <tr>\n",
              "      <th>24487</th>\n",
              "      <td>ZEZÉ PERRELLA</td>\n",
              "      <td>Locomoção, hospedagem, alimentação, combustíve...</td>\n",
              "      <td>16979906000130</td>\n",
              "      <td>Posto Vila da Serra Ltda</td>\n",
              "      <td>2018-12-13</td>\n",
              "      <td>Unknown</td>\n",
              "      <td>220.05</td>\n",
              "      <td>cnpj</td>\n",
              "    </tr>\n",
              "    <tr>\n",
              "      <th>24488</th>\n",
              "      <td>ZEZÉ PERRELLA</td>\n",
              "      <td>Locomoção, hospedagem, alimentação, combustíve...</td>\n",
              "      <td>16979906000130</td>\n",
              "      <td>Posto Vila da Serra Ltda</td>\n",
              "      <td>2018-12-19</td>\n",
              "      <td>Unknown</td>\n",
              "      <td>73.02</td>\n",
              "      <td>cnpj</td>\n",
              "    </tr>\n",
              "    <tr>\n",
              "      <th>24489</th>\n",
              "      <td>ZEZÉ PERRELLA</td>\n",
              "      <td>Locomoção, hospedagem, alimentação, combustíve...</td>\n",
              "      <td>16979906000130</td>\n",
              "      <td>Posto Vila da Serra Ltda</td>\n",
              "      <td>2018-12-19</td>\n",
              "      <td>Unknown</td>\n",
              "      <td>232.01</td>\n",
              "      <td>cnpj</td>\n",
              "    </tr>\n",
              "    <tr>\n",
              "      <th>24490</th>\n",
              "      <td>ZEZÉ PERRELLA</td>\n",
              "      <td>Passagens aéreas, aquáticas e terrestres nacio...</td>\n",
              "      <td>16978175000108</td>\n",
              "      <td>Adria Viagens e Turismo Ltda</td>\n",
              "      <td>2018-12-05</td>\n",
              "      <td>Companhia Aérea: AZUL, Localizador: CI5PSK. Pa...</td>\n",
              "      <td>1132.69</td>\n",
              "      <td>cnpj</td>\n",
              "    </tr>\n",
              "    <tr>\n",
              "      <th>24491</th>\n",
              "      <td>ZEZÉ PERRELLA</td>\n",
              "      <td>Passagens aéreas, aquáticas e terrestres nacio...</td>\n",
              "      <td>16978175000108</td>\n",
              "      <td>Adria Viagens e Turismo Ltda</td>\n",
              "      <td>2018-12-17</td>\n",
              "      <td>Companhia Aérea: LATAM, Localizador: OHNRAG. P...</td>\n",
              "      <td>1260.45</td>\n",
              "      <td>cnpj</td>\n",
              "    </tr>\n",
              "  </tbody>\n",
              "</table>\n",
              "</div>\n",
              "      <button class=\"colab-df-convert\" onclick=\"convertToInteractive('df-1fd065d4-62f4-48e6-91ef-3ac599855109')\"\n",
              "              title=\"Convert this dataframe to an interactive table.\"\n",
              "              style=\"display:none;\">\n",
              "        \n",
              "  <svg xmlns=\"http://www.w3.org/2000/svg\" height=\"24px\"viewBox=\"0 0 24 24\"\n",
              "       width=\"24px\">\n",
              "    <path d=\"M0 0h24v24H0V0z\" fill=\"none\"/>\n",
              "    <path d=\"M18.56 5.44l.94 2.06.94-2.06 2.06-.94-2.06-.94-.94-2.06-.94 2.06-2.06.94zm-11 1L8.5 8.5l.94-2.06 2.06-.94-2.06-.94L8.5 2.5l-.94 2.06-2.06.94zm10 10l.94 2.06.94-2.06 2.06-.94-2.06-.94-.94-2.06-.94 2.06-2.06.94z\"/><path d=\"M17.41 7.96l-1.37-1.37c-.4-.4-.92-.59-1.43-.59-.52 0-1.04.2-1.43.59L10.3 9.45l-7.72 7.72c-.78.78-.78 2.05 0 2.83L4 21.41c.39.39.9.59 1.41.59.51 0 1.02-.2 1.41-.59l7.78-7.78 2.81-2.81c.8-.78.8-2.07 0-2.86zM5.41 20L4 18.59l7.72-7.72 1.47 1.35L5.41 20z\"/>\n",
              "  </svg>\n",
              "      </button>\n",
              "      \n",
              "  <style>\n",
              "    .colab-df-container {\n",
              "      display:flex;\n",
              "      flex-wrap:wrap;\n",
              "      gap: 12px;\n",
              "    }\n",
              "\n",
              "    .colab-df-convert {\n",
              "      background-color: #E8F0FE;\n",
              "      border: none;\n",
              "      border-radius: 50%;\n",
              "      cursor: pointer;\n",
              "      display: none;\n",
              "      fill: #1967D2;\n",
              "      height: 32px;\n",
              "      padding: 0 0 0 0;\n",
              "      width: 32px;\n",
              "    }\n",
              "\n",
              "    .colab-df-convert:hover {\n",
              "      background-color: #E2EBFA;\n",
              "      box-shadow: 0px 1px 2px rgba(60, 64, 67, 0.3), 0px 1px 3px 1px rgba(60, 64, 67, 0.15);\n",
              "      fill: #174EA6;\n",
              "    }\n",
              "\n",
              "    [theme=dark] .colab-df-convert {\n",
              "      background-color: #3B4455;\n",
              "      fill: #D2E3FC;\n",
              "    }\n",
              "\n",
              "    [theme=dark] .colab-df-convert:hover {\n",
              "      background-color: #434B5C;\n",
              "      box-shadow: 0px 1px 3px 1px rgba(0, 0, 0, 0.15);\n",
              "      filter: drop-shadow(0px 1px 2px rgba(0, 0, 0, 0.3));\n",
              "      fill: #FFFFFF;\n",
              "    }\n",
              "  </style>\n",
              "\n",
              "      <script>\n",
              "        const buttonEl =\n",
              "          document.querySelector('#df-1fd065d4-62f4-48e6-91ef-3ac599855109 button.colab-df-convert');\n",
              "        buttonEl.style.display =\n",
              "          google.colab.kernel.accessAllowed ? 'block' : 'none';\n",
              "\n",
              "        async function convertToInteractive(key) {\n",
              "          const element = document.querySelector('#df-1fd065d4-62f4-48e6-91ef-3ac599855109');\n",
              "          const dataTable =\n",
              "            await google.colab.kernel.invokeFunction('convertToInteractive',\n",
              "                                                     [key], {});\n",
              "          if (!dataTable) return;\n",
              "\n",
              "          const docLinkHtml = 'Like what you see? Visit the ' +\n",
              "            '<a target=\"_blank\" href=https://colab.research.google.com/notebooks/data_table.ipynb>data table notebook</a>'\n",
              "            + ' to learn more about interactive tables.';\n",
              "          element.innerHTML = '';\n",
              "          dataTable['output_type'] = 'display_data';\n",
              "          await google.colab.output.renderOutput(dataTable, element);\n",
              "          const docLink = document.createElement('div');\n",
              "          docLink.innerHTML = docLinkHtml;\n",
              "          element.appendChild(docLink);\n",
              "        }\n",
              "      </script>\n",
              "    </div>\n",
              "  </div>\n",
              "  "
            ]
          },
          "metadata": {},
          "execution_count": 60
        }
      ]
    },
    {
      "cell_type": "code",
      "source": [
        "fig_despesa = make_subplots(rows=5, cols=1, subplot_titles=('2018', '2019', '2020', '2021', '2022'))\n",
        "fig_despesa.add_trace(go.Scatter(x=df_despesa_ceaps_by_ano_mes_despesa.query('(ano == 2018) and (tipo_despesa.str.contains(\"Locomoção, hospedagem, alimentação, combustíveis e lubrificantes\"))', engine='python')['mes'],\n",
        "                    y=df_despesa_ceaps_by_ano_mes_despesa.query('(ano == 2018) and (tipo_despesa.str.contains(\"Locomoção, hospedagem, alimentação, combustíveis e lubrificantes\"))', engine='python')['valor_total'],\n",
        "                    line_shape='linear', hovertemplate='Total: R$ %{y:,.2f}'+'<br>Mês: %{x}', name=\"\"), row=1, col=1)\n",
        "fig_despesa.add_trace(go.Scatter(x=df_despesa_ceaps_by_ano_mes_despesa.query('(ano == 2019) and (tipo_despesa.str.contains(\"Locomoção, hospedagem, alimentação, combustíveis e lubrificantes\"))', engine='python')['mes'],\n",
        "                    y=df_despesa_ceaps_by_ano_mes_despesa.query('(ano == 2019) and (tipo_despesa.str.contains(\"Locomoção, hospedagem, alimentação, combustíveis e lubrificantes\"))', engine='python')['valor_total'],\n",
        "                    line_shape='linear', hovertemplate='Total: R$ %{y:,.2f}'+'<br>Mês: %{x}', name=\"\"), row=2, col=1)\n",
        "fig_despesa.add_trace(go.Scatter(x=df_despesa_ceaps_by_ano_mes_despesa.query('(ano == 2020) and (tipo_despesa.str.contains(\"Locomoção, hospedagem, alimentação, combustíveis e lubrificantes\"))', engine='python')['mes'],\n",
        "                    y=df_despesa_ceaps_by_ano_mes_despesa.query('(ano == 2020) and (tipo_despesa.str.contains(\"Locomoção, hospedagem, alimentação, combustíveis e lubrificantes\"))', engine='python')['valor_total'],\n",
        "                    line_shape='linear', hovertemplate='Total: R$ %{y:,.2f}'+'<br>Mês: %{x}', name=\"\"), row=3, col=1)\n",
        "fig_despesa.add_trace(go.Scatter(x=df_despesa_ceaps_by_ano_mes_despesa.query('(ano == 2021) and (tipo_despesa.str.contains(\"Locomoção, hospedagem, alimentação, combustíveis e lubrificantes\"))', engine='python')['mes'],\n",
        "                    y=df_despesa_ceaps_by_ano_mes_despesa.query('(ano == 2021) and (tipo_despesa.str.contains(\"Locomoção, hospedagem, alimentação, combustíveis e lubrificantes\"))', engine='python')['valor_total'],\n",
        "                    line_shape='linear', hovertemplate='Total: R$ %{y:,.2f}'+'<br>Mês: %{x}', name=\"\"), row=4, col=1)\n",
        "fig_despesa.add_trace(go.Scatter(x=df_despesa_ceaps_by_ano_mes_despesa.query('(ano == 2022) and (tipo_despesa.str.contains(\"Locomoção, hospedagem, alimentação, combustíveis e lubrificantes\"))', engine='python')['mes'],\n",
        "                    y=df_despesa_ceaps_by_ano_mes_despesa.query('(ano == 2022) and (tipo_despesa.str.contains(\"Locomoção, hospedagem, alimentação, combustíveis e lubrificantes\"))', engine='python')['valor_total'],\n",
        "                    line_shape='linear', hovertemplate='Total: R$ %{y:,.2f}'+'<br>Mês: %{x}', name=\"\"), row=5, col=1)\n",
        "\n",
        "fig_despesa.update_xaxes(title_font_size=18, tickfont_size=16)\n",
        "fig_despesa.update_yaxes(title_font_size=18, tickfont_size=16)\n",
        "fig_despesa.update_layout(\n",
        "    font_family=\"Arial\",\n",
        "    hoverlabel_font_family=\"Arial\",\n",
        "    title_text=\"Locomoção, hospedagem, alimentação, combustíveis e lubrificantes\",\n",
        "    hoverlabel_font_size=14,\n",
        "    showlegend=False,\n",
        "    height=700, \n",
        "    width=1000,\n",
        "    font=dict(\n",
        "        size=18,\n",
        "        color=\"RebeccaPurple\"\n",
        "    )\n",
        ")\n",
        "fig_despesa.show(renderer='colab')"
      ],
      "metadata": {
        "id": "afnm2cmunoh3",
        "colab": {
          "base_uri": "https://localhost:8080/",
          "height": 717
        },
        "outputId": "48aa0527-6cb4-4705-9f3e-83a48beb8c05"
      },
      "execution_count": null,
      "outputs": [
        {
          "output_type": "display_data",
          "data": {
            "text/html": [
              "<html>\n",
              "<head><meta charset=\"utf-8\" /></head>\n",
              "<body>\n",
              "    <div>            <script src=\"https://cdnjs.cloudflare.com/ajax/libs/mathjax/2.7.5/MathJax.js?config=TeX-AMS-MML_SVG\"></script><script type=\"text/javascript\">if (window.MathJax) {MathJax.Hub.Config({SVG: {font: \"STIX-Web\"}});}</script>                <script type=\"text/javascript\">window.PlotlyConfig = {MathJaxConfig: 'local'};</script>\n",
              "        <script src=\"https://cdn.plot.ly/plotly-2.8.3.min.js\"></script>                <div id=\"b89b498f-c860-4a95-8d7a-5567e82ff75e\" class=\"plotly-graph-div\" style=\"height:700px; width:1000px;\"></div>            <script type=\"text/javascript\">                                    window.PLOTLYENV=window.PLOTLYENV || {};                                    if (document.getElementById(\"b89b498f-c860-4a95-8d7a-5567e82ff75e\")) {                    Plotly.newPlot(                        \"b89b498f-c860-4a95-8d7a-5567e82ff75e\",                        [{\"hovertemplate\":\"Total: R$ %{y:,.2f}<br>M\\u00eas: %{x}\",\"line\":{\"shape\":\"linear\"},\"name\":\"\",\"x\":[\"Jan\",\"Feb\",\"Mar\",\"Abr\",\"Mai\",\"Jun\",\"Jul\",\"Ago\",\"Set\",\"Out\",\"Nov\",\"Des\"],\"y\":[333042.54,441712.58,546936.98,603553.77,529574.33,479695.54,607589.88,386611.78,213478.69,333426.74,582703.46,469409.25],\"type\":\"scatter\",\"xaxis\":\"x\",\"yaxis\":\"y\"},{\"hovertemplate\":\"Total: R$ %{y:,.2f}<br>M\\u00eas: %{x}\",\"line\":{\"shape\":\"linear\"},\"name\":\"\",\"x\":[\"Jan\",\"Feb\",\"Mar\",\"Abr\",\"Mai\",\"Jun\",\"Jul\",\"Ago\",\"Set\",\"Out\",\"Nov\",\"Des\"],\"y\":[420583.01,228011.16,405413.62,373150.32,400873.9,372227.36,421062.53,452876.69,403356.29,385899.16,346813.53,353550.1],\"type\":\"scatter\",\"xaxis\":\"x2\",\"yaxis\":\"y2\"},{\"hovertemplate\":\"Total: R$ %{y:,.2f}<br>M\\u00eas: %{x}\",\"line\":{\"shape\":\"linear\"},\"name\":\"\",\"x\":[\"Jan\",\"Feb\",\"Mar\",\"Abr\",\"Mai\",\"Jun\",\"Jul\",\"Ago\",\"Set\",\"Out\",\"Nov\",\"Des\"],\"y\":[318186.52,290528.69,376861.63,253683.87,216079.13,203142.44,202608.19,260538.4,327981.95,272841.26,341755.5,407185.89],\"type\":\"scatter\",\"xaxis\":\"x3\",\"yaxis\":\"y3\"},{\"hovertemplate\":\"Total: R$ %{y:,.2f}<br>M\\u00eas: %{x}\",\"line\":{\"shape\":\"linear\"},\"name\":\"\",\"x\":[\"Jan\",\"Feb\",\"Mar\",\"Abr\",\"Mai\",\"Jun\",\"Jul\",\"Ago\",\"Set\",\"Out\",\"Nov\",\"Des\"],\"y\":[284186.96,268239.9,374566.14,314130.83,378908.22,404735.36,384745.22,432303.57,399721.97,342652.96,436606.87,360978.42],\"type\":\"scatter\",\"xaxis\":\"x4\",\"yaxis\":\"y4\"},{\"hovertemplate\":\"Total: R$ %{y:,.2f}<br>M\\u00eas: %{x}\",\"line\":{\"shape\":\"linear\"},\"name\":\"\",\"x\":[\"Jan\",\"Feb\",\"Mar\",\"Abr\",\"Mai\",\"Out\",\"Des\"],\"y\":[312018.4,388072.96,464962.12,376518.18,93909.0,127.0,324.28],\"type\":\"scatter\",\"xaxis\":\"x5\",\"yaxis\":\"y5\"}],                        {\"template\":{\"data\":{\"bar\":[{\"error_x\":{\"color\":\"#2a3f5f\"},\"error_y\":{\"color\":\"#2a3f5f\"},\"marker\":{\"line\":{\"color\":\"#E5ECF6\",\"width\":0.5},\"pattern\":{\"fillmode\":\"overlay\",\"size\":10,\"solidity\":0.2}},\"type\":\"bar\"}],\"barpolar\":[{\"marker\":{\"line\":{\"color\":\"#E5ECF6\",\"width\":0.5},\"pattern\":{\"fillmode\":\"overlay\",\"size\":10,\"solidity\":0.2}},\"type\":\"barpolar\"}],\"carpet\":[{\"aaxis\":{\"endlinecolor\":\"#2a3f5f\",\"gridcolor\":\"white\",\"linecolor\":\"white\",\"minorgridcolor\":\"white\",\"startlinecolor\":\"#2a3f5f\"},\"baxis\":{\"endlinecolor\":\"#2a3f5f\",\"gridcolor\":\"white\",\"linecolor\":\"white\",\"minorgridcolor\":\"white\",\"startlinecolor\":\"#2a3f5f\"},\"type\":\"carpet\"}],\"choropleth\":[{\"colorbar\":{\"outlinewidth\":0,\"ticks\":\"\"},\"type\":\"choropleth\"}],\"contour\":[{\"colorbar\":{\"outlinewidth\":0,\"ticks\":\"\"},\"colorscale\":[[0.0,\"#0d0887\"],[0.1111111111111111,\"#46039f\"],[0.2222222222222222,\"#7201a8\"],[0.3333333333333333,\"#9c179e\"],[0.4444444444444444,\"#bd3786\"],[0.5555555555555556,\"#d8576b\"],[0.6666666666666666,\"#ed7953\"],[0.7777777777777778,\"#fb9f3a\"],[0.8888888888888888,\"#fdca26\"],[1.0,\"#f0f921\"]],\"type\":\"contour\"}],\"contourcarpet\":[{\"colorbar\":{\"outlinewidth\":0,\"ticks\":\"\"},\"type\":\"contourcarpet\"}],\"heatmap\":[{\"colorbar\":{\"outlinewidth\":0,\"ticks\":\"\"},\"colorscale\":[[0.0,\"#0d0887\"],[0.1111111111111111,\"#46039f\"],[0.2222222222222222,\"#7201a8\"],[0.3333333333333333,\"#9c179e\"],[0.4444444444444444,\"#bd3786\"],[0.5555555555555556,\"#d8576b\"],[0.6666666666666666,\"#ed7953\"],[0.7777777777777778,\"#fb9f3a\"],[0.8888888888888888,\"#fdca26\"],[1.0,\"#f0f921\"]],\"type\":\"heatmap\"}],\"heatmapgl\":[{\"colorbar\":{\"outlinewidth\":0,\"ticks\":\"\"},\"colorscale\":[[0.0,\"#0d0887\"],[0.1111111111111111,\"#46039f\"],[0.2222222222222222,\"#7201a8\"],[0.3333333333333333,\"#9c179e\"],[0.4444444444444444,\"#bd3786\"],[0.5555555555555556,\"#d8576b\"],[0.6666666666666666,\"#ed7953\"],[0.7777777777777778,\"#fb9f3a\"],[0.8888888888888888,\"#fdca26\"],[1.0,\"#f0f921\"]],\"type\":\"heatmapgl\"}],\"histogram\":[{\"marker\":{\"pattern\":{\"fillmode\":\"overlay\",\"size\":10,\"solidity\":0.2}},\"type\":\"histogram\"}],\"histogram2d\":[{\"colorbar\":{\"outlinewidth\":0,\"ticks\":\"\"},\"colorscale\":[[0.0,\"#0d0887\"],[0.1111111111111111,\"#46039f\"],[0.2222222222222222,\"#7201a8\"],[0.3333333333333333,\"#9c179e\"],[0.4444444444444444,\"#bd3786\"],[0.5555555555555556,\"#d8576b\"],[0.6666666666666666,\"#ed7953\"],[0.7777777777777778,\"#fb9f3a\"],[0.8888888888888888,\"#fdca26\"],[1.0,\"#f0f921\"]],\"type\":\"histogram2d\"}],\"histogram2dcontour\":[{\"colorbar\":{\"outlinewidth\":0,\"ticks\":\"\"},\"colorscale\":[[0.0,\"#0d0887\"],[0.1111111111111111,\"#46039f\"],[0.2222222222222222,\"#7201a8\"],[0.3333333333333333,\"#9c179e\"],[0.4444444444444444,\"#bd3786\"],[0.5555555555555556,\"#d8576b\"],[0.6666666666666666,\"#ed7953\"],[0.7777777777777778,\"#fb9f3a\"],[0.8888888888888888,\"#fdca26\"],[1.0,\"#f0f921\"]],\"type\":\"histogram2dcontour\"}],\"mesh3d\":[{\"colorbar\":{\"outlinewidth\":0,\"ticks\":\"\"},\"type\":\"mesh3d\"}],\"parcoords\":[{\"line\":{\"colorbar\":{\"outlinewidth\":0,\"ticks\":\"\"}},\"type\":\"parcoords\"}],\"pie\":[{\"automargin\":true,\"type\":\"pie\"}],\"scatter\":[{\"marker\":{\"colorbar\":{\"outlinewidth\":0,\"ticks\":\"\"}},\"type\":\"scatter\"}],\"scatter3d\":[{\"line\":{\"colorbar\":{\"outlinewidth\":0,\"ticks\":\"\"}},\"marker\":{\"colorbar\":{\"outlinewidth\":0,\"ticks\":\"\"}},\"type\":\"scatter3d\"}],\"scattercarpet\":[{\"marker\":{\"colorbar\":{\"outlinewidth\":0,\"ticks\":\"\"}},\"type\":\"scattercarpet\"}],\"scattergeo\":[{\"marker\":{\"colorbar\":{\"outlinewidth\":0,\"ticks\":\"\"}},\"type\":\"scattergeo\"}],\"scattergl\":[{\"marker\":{\"colorbar\":{\"outlinewidth\":0,\"ticks\":\"\"}},\"type\":\"scattergl\"}],\"scattermapbox\":[{\"marker\":{\"colorbar\":{\"outlinewidth\":0,\"ticks\":\"\"}},\"type\":\"scattermapbox\"}],\"scatterpolar\":[{\"marker\":{\"colorbar\":{\"outlinewidth\":0,\"ticks\":\"\"}},\"type\":\"scatterpolar\"}],\"scatterpolargl\":[{\"marker\":{\"colorbar\":{\"outlinewidth\":0,\"ticks\":\"\"}},\"type\":\"scatterpolargl\"}],\"scatterternary\":[{\"marker\":{\"colorbar\":{\"outlinewidth\":0,\"ticks\":\"\"}},\"type\":\"scatterternary\"}],\"surface\":[{\"colorbar\":{\"outlinewidth\":0,\"ticks\":\"\"},\"colorscale\":[[0.0,\"#0d0887\"],[0.1111111111111111,\"#46039f\"],[0.2222222222222222,\"#7201a8\"],[0.3333333333333333,\"#9c179e\"],[0.4444444444444444,\"#bd3786\"],[0.5555555555555556,\"#d8576b\"],[0.6666666666666666,\"#ed7953\"],[0.7777777777777778,\"#fb9f3a\"],[0.8888888888888888,\"#fdca26\"],[1.0,\"#f0f921\"]],\"type\":\"surface\"}],\"table\":[{\"cells\":{\"fill\":{\"color\":\"#EBF0F8\"},\"line\":{\"color\":\"white\"}},\"header\":{\"fill\":{\"color\":\"#C8D4E3\"},\"line\":{\"color\":\"white\"}},\"type\":\"table\"}]},\"layout\":{\"annotationdefaults\":{\"arrowcolor\":\"#2a3f5f\",\"arrowhead\":0,\"arrowwidth\":1},\"autotypenumbers\":\"strict\",\"coloraxis\":{\"colorbar\":{\"outlinewidth\":0,\"ticks\":\"\"}},\"colorscale\":{\"diverging\":[[0,\"#8e0152\"],[0.1,\"#c51b7d\"],[0.2,\"#de77ae\"],[0.3,\"#f1b6da\"],[0.4,\"#fde0ef\"],[0.5,\"#f7f7f7\"],[0.6,\"#e6f5d0\"],[0.7,\"#b8e186\"],[0.8,\"#7fbc41\"],[0.9,\"#4d9221\"],[1,\"#276419\"]],\"sequential\":[[0.0,\"#0d0887\"],[0.1111111111111111,\"#46039f\"],[0.2222222222222222,\"#7201a8\"],[0.3333333333333333,\"#9c179e\"],[0.4444444444444444,\"#bd3786\"],[0.5555555555555556,\"#d8576b\"],[0.6666666666666666,\"#ed7953\"],[0.7777777777777778,\"#fb9f3a\"],[0.8888888888888888,\"#fdca26\"],[1.0,\"#f0f921\"]],\"sequentialminus\":[[0.0,\"#0d0887\"],[0.1111111111111111,\"#46039f\"],[0.2222222222222222,\"#7201a8\"],[0.3333333333333333,\"#9c179e\"],[0.4444444444444444,\"#bd3786\"],[0.5555555555555556,\"#d8576b\"],[0.6666666666666666,\"#ed7953\"],[0.7777777777777778,\"#fb9f3a\"],[0.8888888888888888,\"#fdca26\"],[1.0,\"#f0f921\"]]},\"colorway\":[\"#636efa\",\"#EF553B\",\"#00cc96\",\"#ab63fa\",\"#FFA15A\",\"#19d3f3\",\"#FF6692\",\"#B6E880\",\"#FF97FF\",\"#FECB52\"],\"font\":{\"color\":\"#2a3f5f\"},\"geo\":{\"bgcolor\":\"white\",\"lakecolor\":\"white\",\"landcolor\":\"#E5ECF6\",\"showlakes\":true,\"showland\":true,\"subunitcolor\":\"white\"},\"hoverlabel\":{\"align\":\"left\"},\"hovermode\":\"closest\",\"mapbox\":{\"style\":\"light\"},\"paper_bgcolor\":\"white\",\"plot_bgcolor\":\"#E5ECF6\",\"polar\":{\"angularaxis\":{\"gridcolor\":\"white\",\"linecolor\":\"white\",\"ticks\":\"\"},\"bgcolor\":\"#E5ECF6\",\"radialaxis\":{\"gridcolor\":\"white\",\"linecolor\":\"white\",\"ticks\":\"\"}},\"scene\":{\"xaxis\":{\"backgroundcolor\":\"#E5ECF6\",\"gridcolor\":\"white\",\"gridwidth\":2,\"linecolor\":\"white\",\"showbackground\":true,\"ticks\":\"\",\"zerolinecolor\":\"white\"},\"yaxis\":{\"backgroundcolor\":\"#E5ECF6\",\"gridcolor\":\"white\",\"gridwidth\":2,\"linecolor\":\"white\",\"showbackground\":true,\"ticks\":\"\",\"zerolinecolor\":\"white\"},\"zaxis\":{\"backgroundcolor\":\"#E5ECF6\",\"gridcolor\":\"white\",\"gridwidth\":2,\"linecolor\":\"white\",\"showbackground\":true,\"ticks\":\"\",\"zerolinecolor\":\"white\"}},\"shapedefaults\":{\"line\":{\"color\":\"#2a3f5f\"}},\"ternary\":{\"aaxis\":{\"gridcolor\":\"white\",\"linecolor\":\"white\",\"ticks\":\"\"},\"baxis\":{\"gridcolor\":\"white\",\"linecolor\":\"white\",\"ticks\":\"\"},\"bgcolor\":\"#E5ECF6\",\"caxis\":{\"gridcolor\":\"white\",\"linecolor\":\"white\",\"ticks\":\"\"}},\"title\":{\"x\":0.05},\"xaxis\":{\"automargin\":true,\"gridcolor\":\"white\",\"linecolor\":\"white\",\"ticks\":\"\",\"title\":{\"standoff\":15},\"zerolinecolor\":\"white\",\"zerolinewidth\":2},\"yaxis\":{\"automargin\":true,\"gridcolor\":\"white\",\"linecolor\":\"white\",\"ticks\":\"\",\"title\":{\"standoff\":15},\"zerolinecolor\":\"white\",\"zerolinewidth\":2}}},\"xaxis\":{\"anchor\":\"y\",\"domain\":[0.0,1.0],\"title\":{\"font\":{\"size\":18}},\"tickfont\":{\"size\":16}},\"yaxis\":{\"anchor\":\"x\",\"domain\":[0.88,1.0],\"title\":{\"font\":{\"size\":18}},\"tickfont\":{\"size\":16}},\"xaxis2\":{\"anchor\":\"y2\",\"domain\":[0.0,1.0],\"title\":{\"font\":{\"size\":18}},\"tickfont\":{\"size\":16}},\"yaxis2\":{\"anchor\":\"x2\",\"domain\":[0.66,0.78],\"title\":{\"font\":{\"size\":18}},\"tickfont\":{\"size\":16}},\"xaxis3\":{\"anchor\":\"y3\",\"domain\":[0.0,1.0],\"title\":{\"font\":{\"size\":18}},\"tickfont\":{\"size\":16}},\"yaxis3\":{\"anchor\":\"x3\",\"domain\":[0.44,0.56],\"title\":{\"font\":{\"size\":18}},\"tickfont\":{\"size\":16}},\"xaxis4\":{\"anchor\":\"y4\",\"domain\":[0.0,1.0],\"title\":{\"font\":{\"size\":18}},\"tickfont\":{\"size\":16}},\"yaxis4\":{\"anchor\":\"x4\",\"domain\":[0.22,0.33999999999999997],\"title\":{\"font\":{\"size\":18}},\"tickfont\":{\"size\":16}},\"xaxis5\":{\"anchor\":\"y5\",\"domain\":[0.0,1.0],\"title\":{\"font\":{\"size\":18}},\"tickfont\":{\"size\":16}},\"yaxis5\":{\"anchor\":\"x5\",\"domain\":[0.0,0.12],\"title\":{\"font\":{\"size\":18}},\"tickfont\":{\"size\":16}},\"annotations\":[{\"font\":{\"size\":16},\"showarrow\":false,\"text\":\"2018\",\"x\":0.5,\"xanchor\":\"center\",\"xref\":\"paper\",\"y\":1.0,\"yanchor\":\"bottom\",\"yref\":\"paper\"},{\"font\":{\"size\":16},\"showarrow\":false,\"text\":\"2019\",\"x\":0.5,\"xanchor\":\"center\",\"xref\":\"paper\",\"y\":0.78,\"yanchor\":\"bottom\",\"yref\":\"paper\"},{\"font\":{\"size\":16},\"showarrow\":false,\"text\":\"2020\",\"x\":0.5,\"xanchor\":\"center\",\"xref\":\"paper\",\"y\":0.56,\"yanchor\":\"bottom\",\"yref\":\"paper\"},{\"font\":{\"size\":16},\"showarrow\":false,\"text\":\"2021\",\"x\":0.5,\"xanchor\":\"center\",\"xref\":\"paper\",\"y\":0.33999999999999997,\"yanchor\":\"bottom\",\"yref\":\"paper\"},{\"font\":{\"size\":16},\"showarrow\":false,\"text\":\"2022\",\"x\":0.5,\"xanchor\":\"center\",\"xref\":\"paper\",\"y\":0.12,\"yanchor\":\"bottom\",\"yref\":\"paper\"}],\"font\":{\"family\":\"Arial\",\"size\":18,\"color\":\"RebeccaPurple\"},\"hoverlabel\":{\"font\":{\"family\":\"Arial\",\"size\":14}},\"title\":{\"text\":\"Locomo\\u00e7\\u00e3o, hospedagem, alimenta\\u00e7\\u00e3o, combust\\u00edveis e lubrificantes\"},\"showlegend\":false,\"height\":700,\"width\":1000},                        {\"responsive\": true}                    ).then(function(){\n",
              "                            \n",
              "var gd = document.getElementById('b89b498f-c860-4a95-8d7a-5567e82ff75e');\n",
              "var x = new MutationObserver(function (mutations, observer) {{\n",
              "        var display = window.getComputedStyle(gd).display;\n",
              "        if (!display || display === 'none') {{\n",
              "            console.log([gd, 'removed!']);\n",
              "            Plotly.purge(gd);\n",
              "            observer.disconnect();\n",
              "        }}\n",
              "}});\n",
              "\n",
              "// Listen for the removal of the full notebook cells\n",
              "var notebookContainer = gd.closest('#notebook-container');\n",
              "if (notebookContainer) {{\n",
              "    x.observe(notebookContainer, {childList: true});\n",
              "}}\n",
              "\n",
              "// Listen for the clearing of the current output cell\n",
              "var outputEl = gd.closest('.output');\n",
              "if (outputEl) {{\n",
              "    x.observe(outputEl, {childList: true});\n",
              "}}\n",
              "\n",
              "                        })                };                            </script>        </div>\n",
              "</body>\n",
              "</html>"
            ]
          },
          "metadata": {}
        }
      ]
    },
    {
      "cell_type": "code",
      "source": [
        "fig_despesa = make_subplots(rows=5, cols=1, subplot_titles=('2018', '2019', '2020', '2021', '2022'))\n",
        "fig_despesa.add_trace(go.Scatter(x=df_despesa_ceaps_by_ano_mes_despesa.query('(ano == 2018) and (tipo_despesa.str.contains(\"Passagens aéreas, aquáticas e terrestres nacionais\"))', engine='python')['mes'],\n",
        "                    y=df_despesa_ceaps_by_ano_mes_despesa.query('(ano == 2018) and (tipo_despesa.str.contains(\"Passagens aéreas, aquáticas e terrestres nacionais\"))', engine='python')['valor_total'],\n",
        "                    line_shape='linear', hovertemplate='Total: R$ %{y:,.2f}'+'<br>Mês: %{x}', name=\"\"), row=1, col=1)\n",
        "fig_despesa.add_trace(go.Scatter(x=df_despesa_ceaps_by_ano_mes_despesa.query('(ano == 2019) and (tipo_despesa.str.contains(\"Passagens aéreas, aquáticas e terrestres nacionais\"))', engine='python')['mes'],\n",
        "                    y=df_despesa_ceaps_by_ano_mes_despesa.query('(ano == 2019) and (tipo_despesa.str.contains(\"Passagens aéreas, aquáticas e terrestres nacionais\"))', engine='python')['valor_total'],\n",
        "                    line_shape='linear', hovertemplate='Total: R$ %{y:,.2f}'+'<br>Mês: %{x}', name=\"\"), row=2, col=1)\n",
        "fig_despesa.add_trace(go.Scatter(x=df_despesa_ceaps_by_ano_mes_despesa.query('(ano == 2020) and (tipo_despesa.str.contains(\"Passagens aéreas, aquáticas e terrestres nacionais\"))', engine='python')['mes'],\n",
        "                    y=df_despesa_ceaps_by_ano_mes_despesa.query('(ano == 2020) and (tipo_despesa.str.contains(\"Passagens aéreas, aquáticas e terrestres nacionais\"))', engine='python')['valor_total'],\n",
        "                    line_shape='linear', hovertemplate='Total: R$ %{y:,.2f}'+'<br>Mês: %{x}', name=\"\"), row=3, col=1)\n",
        "fig_despesa.add_trace(go.Scatter(x=df_despesa_ceaps_by_ano_mes_despesa.query('(ano == 2021) and (tipo_despesa.str.contains(\"Passagens aéreas, aquáticas e terrestres nacionais\"))', engine='python')['mes'],\n",
        "                    y=df_despesa_ceaps_by_ano_mes_despesa.query('(ano == 2021) and (tipo_despesa.str.contains(\"Passagens aéreas, aquáticas e terrestres nacionais\"))', engine='python')['valor_total'],\n",
        "                    line_shape='linear', hovertemplate='Total: R$ %{y:,.2f}'+'<br>Mês: %{x}', name=\"\"), row=4, col=1)\n",
        "fig_despesa.add_trace(go.Scatter(x=df_despesa_ceaps_by_ano_mes_despesa.query('(ano == 2022) and (tipo_despesa.str.contains(\"Passagens aéreas, aquáticas e terrestres nacionais\"))', engine='python')['mes'],\n",
        "                    y=df_despesa_ceaps_by_ano_mes_despesa.query('(ano == 2022) and (tipo_despesa.str.contains(\"Passagens aéreas, aquáticas e terrestres nacionais\"))', engine='python')['valor_total'],\n",
        "                    line_shape='linear', hovertemplate='Total: R$ %{y:,.2f}'+'<br>Mês: %{x}', name=\"\"), row=5, col=1)\n",
        "\n",
        "fig_despesa.update_xaxes(title_font_size=18, tickfont_size=16)\n",
        "fig_despesa.update_yaxes(title_font_size=18, tickfont_size=16)\n",
        "fig_despesa.update_layout(\n",
        "    font_family=\"Arial\",\n",
        "    hoverlabel_font_family=\"Arial\",\n",
        "    title_text=\"Passagens aéreas, aquáticas e terrestres nacionais\",\n",
        "    hoverlabel_font_size=14,\n",
        "    showlegend=False,\n",
        "    height=700, \n",
        "    width=1000,\n",
        "    font=dict(\n",
        "        size=18,\n",
        "        color=\"RebeccaPurple\"\n",
        "    )\n",
        ")\n",
        "fig_despesa.show(renderer='colab')"
      ],
      "metadata": {
        "id": "i5igEY45EnAl",
        "colab": {
          "base_uri": "https://localhost:8080/",
          "height": 717
        },
        "outputId": "13627889-5034-44e2-81ce-87c8727d5ae4"
      },
      "execution_count": null,
      "outputs": [
        {
          "output_type": "display_data",
          "data": {
            "text/html": [
              "<html>\n",
              "<head><meta charset=\"utf-8\" /></head>\n",
              "<body>\n",
              "    <div>            <script src=\"https://cdnjs.cloudflare.com/ajax/libs/mathjax/2.7.5/MathJax.js?config=TeX-AMS-MML_SVG\"></script><script type=\"text/javascript\">if (window.MathJax) {MathJax.Hub.Config({SVG: {font: \"STIX-Web\"}});}</script>                <script type=\"text/javascript\">window.PlotlyConfig = {MathJaxConfig: 'local'};</script>\n",
              "        <script src=\"https://cdn.plot.ly/plotly-2.8.3.min.js\"></script>                <div id=\"ddfe616b-0c63-460c-8808-4b0c5b36c2fc\" class=\"plotly-graph-div\" style=\"height:700px; width:1000px;\"></div>            <script type=\"text/javascript\">                                    window.PLOTLYENV=window.PLOTLYENV || {};                                    if (document.getElementById(\"ddfe616b-0c63-460c-8808-4b0c5b36c2fc\")) {                    Plotly.newPlot(                        \"ddfe616b-0c63-460c-8808-4b0c5b36c2fc\",                        [{\"hovertemplate\":\"Total: R$ %{y:,.2f}<br>M\\u00eas: %{x}\",\"line\":{\"shape\":\"linear\"},\"name\":\"\",\"x\":[\"Jan\",\"Feb\",\"Mar\",\"Abr\",\"Mai\",\"Jun\",\"Jul\",\"Ago\",\"Set\",\"Out\",\"Nov\",\"Des\"],\"y\":[257359.6,427362.47,558409.4,621210.01,739413.34,639689.69,566944.36,478047.74,255922.43,614229.12,735605.38,413920.51],\"type\":\"scatter\",\"xaxis\":\"x\",\"yaxis\":\"y\"},{\"hovertemplate\":\"Total: R$ %{y:,.2f}<br>M\\u00eas: %{x}\",\"line\":{\"shape\":\"linear\"},\"name\":\"\",\"x\":[\"Jan\",\"Feb\",\"Mar\",\"Abr\",\"Mai\",\"Jun\",\"Jul\",\"Ago\",\"Set\",\"Out\",\"Nov\",\"Des\"],\"y\":[329849.62,651396.28,625679.98,641822.37,771780.99,682903.7,444084.18,713439.43,649993.43,860746.71,626850.86,348820.01],\"type\":\"scatter\",\"xaxis\":\"x2\",\"yaxis\":\"y2\"},{\"hovertemplate\":\"Total: R$ %{y:,.2f}<br>M\\u00eas: %{x}\",\"line\":{\"shape\":\"linear\"},\"name\":\"\",\"x\":[\"Jan\",\"Feb\",\"Mar\",\"Abr\",\"Mai\",\"Jun\",\"Jul\",\"Ago\",\"Set\",\"Out\",\"Nov\",\"Des\"],\"y\":[346716.92,550745.87,315112.74,18867.79,28454.01,41689.78,69116.54,146124.32,266510.55,272537.55,240212.11,317792.67],\"type\":\"scatter\",\"xaxis\":\"x3\",\"yaxis\":\"y3\"},{\"hovertemplate\":\"Total: R$ %{y:,.2f}<br>M\\u00eas: %{x}\",\"line\":{\"shape\":\"linear\"},\"name\":\"\",\"x\":[\"Jan\",\"Feb\",\"Mar\",\"Abr\",\"Mai\",\"Jun\",\"Jul\",\"Ago\",\"Set\",\"Out\",\"Nov\",\"Des\"],\"y\":[232772.31,304484.01,180980.84,253010.87,425721.5,431170.94,426967.35,723046.27,606784.71,606795.17,644796.7,451216.0],\"type\":\"scatter\",\"xaxis\":\"x4\",\"yaxis\":\"y4\"},{\"hovertemplate\":\"Total: R$ %{y:,.2f}<br>M\\u00eas: %{x}\",\"line\":{\"shape\":\"linear\"},\"name\":\"\",\"x\":[\"Jan\",\"Feb\",\"Mar\",\"Abr\",\"Mai\"],\"y\":[242665.55,445670.02,764502.86,526352.33,37754.63],\"type\":\"scatter\",\"xaxis\":\"x5\",\"yaxis\":\"y5\"}],                        {\"template\":{\"data\":{\"bar\":[{\"error_x\":{\"color\":\"#2a3f5f\"},\"error_y\":{\"color\":\"#2a3f5f\"},\"marker\":{\"line\":{\"color\":\"#E5ECF6\",\"width\":0.5},\"pattern\":{\"fillmode\":\"overlay\",\"size\":10,\"solidity\":0.2}},\"type\":\"bar\"}],\"barpolar\":[{\"marker\":{\"line\":{\"color\":\"#E5ECF6\",\"width\":0.5},\"pattern\":{\"fillmode\":\"overlay\",\"size\":10,\"solidity\":0.2}},\"type\":\"barpolar\"}],\"carpet\":[{\"aaxis\":{\"endlinecolor\":\"#2a3f5f\",\"gridcolor\":\"white\",\"linecolor\":\"white\",\"minorgridcolor\":\"white\",\"startlinecolor\":\"#2a3f5f\"},\"baxis\":{\"endlinecolor\":\"#2a3f5f\",\"gridcolor\":\"white\",\"linecolor\":\"white\",\"minorgridcolor\":\"white\",\"startlinecolor\":\"#2a3f5f\"},\"type\":\"carpet\"}],\"choropleth\":[{\"colorbar\":{\"outlinewidth\":0,\"ticks\":\"\"},\"type\":\"choropleth\"}],\"contour\":[{\"colorbar\":{\"outlinewidth\":0,\"ticks\":\"\"},\"colorscale\":[[0.0,\"#0d0887\"],[0.1111111111111111,\"#46039f\"],[0.2222222222222222,\"#7201a8\"],[0.3333333333333333,\"#9c179e\"],[0.4444444444444444,\"#bd3786\"],[0.5555555555555556,\"#d8576b\"],[0.6666666666666666,\"#ed7953\"],[0.7777777777777778,\"#fb9f3a\"],[0.8888888888888888,\"#fdca26\"],[1.0,\"#f0f921\"]],\"type\":\"contour\"}],\"contourcarpet\":[{\"colorbar\":{\"outlinewidth\":0,\"ticks\":\"\"},\"type\":\"contourcarpet\"}],\"heatmap\":[{\"colorbar\":{\"outlinewidth\":0,\"ticks\":\"\"},\"colorscale\":[[0.0,\"#0d0887\"],[0.1111111111111111,\"#46039f\"],[0.2222222222222222,\"#7201a8\"],[0.3333333333333333,\"#9c179e\"],[0.4444444444444444,\"#bd3786\"],[0.5555555555555556,\"#d8576b\"],[0.6666666666666666,\"#ed7953\"],[0.7777777777777778,\"#fb9f3a\"],[0.8888888888888888,\"#fdca26\"],[1.0,\"#f0f921\"]],\"type\":\"heatmap\"}],\"heatmapgl\":[{\"colorbar\":{\"outlinewidth\":0,\"ticks\":\"\"},\"colorscale\":[[0.0,\"#0d0887\"],[0.1111111111111111,\"#46039f\"],[0.2222222222222222,\"#7201a8\"],[0.3333333333333333,\"#9c179e\"],[0.4444444444444444,\"#bd3786\"],[0.5555555555555556,\"#d8576b\"],[0.6666666666666666,\"#ed7953\"],[0.7777777777777778,\"#fb9f3a\"],[0.8888888888888888,\"#fdca26\"],[1.0,\"#f0f921\"]],\"type\":\"heatmapgl\"}],\"histogram\":[{\"marker\":{\"pattern\":{\"fillmode\":\"overlay\",\"size\":10,\"solidity\":0.2}},\"type\":\"histogram\"}],\"histogram2d\":[{\"colorbar\":{\"outlinewidth\":0,\"ticks\":\"\"},\"colorscale\":[[0.0,\"#0d0887\"],[0.1111111111111111,\"#46039f\"],[0.2222222222222222,\"#7201a8\"],[0.3333333333333333,\"#9c179e\"],[0.4444444444444444,\"#bd3786\"],[0.5555555555555556,\"#d8576b\"],[0.6666666666666666,\"#ed7953\"],[0.7777777777777778,\"#fb9f3a\"],[0.8888888888888888,\"#fdca26\"],[1.0,\"#f0f921\"]],\"type\":\"histogram2d\"}],\"histogram2dcontour\":[{\"colorbar\":{\"outlinewidth\":0,\"ticks\":\"\"},\"colorscale\":[[0.0,\"#0d0887\"],[0.1111111111111111,\"#46039f\"],[0.2222222222222222,\"#7201a8\"],[0.3333333333333333,\"#9c179e\"],[0.4444444444444444,\"#bd3786\"],[0.5555555555555556,\"#d8576b\"],[0.6666666666666666,\"#ed7953\"],[0.7777777777777778,\"#fb9f3a\"],[0.8888888888888888,\"#fdca26\"],[1.0,\"#f0f921\"]],\"type\":\"histogram2dcontour\"}],\"mesh3d\":[{\"colorbar\":{\"outlinewidth\":0,\"ticks\":\"\"},\"type\":\"mesh3d\"}],\"parcoords\":[{\"line\":{\"colorbar\":{\"outlinewidth\":0,\"ticks\":\"\"}},\"type\":\"parcoords\"}],\"pie\":[{\"automargin\":true,\"type\":\"pie\"}],\"scatter\":[{\"marker\":{\"colorbar\":{\"outlinewidth\":0,\"ticks\":\"\"}},\"type\":\"scatter\"}],\"scatter3d\":[{\"line\":{\"colorbar\":{\"outlinewidth\":0,\"ticks\":\"\"}},\"marker\":{\"colorbar\":{\"outlinewidth\":0,\"ticks\":\"\"}},\"type\":\"scatter3d\"}],\"scattercarpet\":[{\"marker\":{\"colorbar\":{\"outlinewidth\":0,\"ticks\":\"\"}},\"type\":\"scattercarpet\"}],\"scattergeo\":[{\"marker\":{\"colorbar\":{\"outlinewidth\":0,\"ticks\":\"\"}},\"type\":\"scattergeo\"}],\"scattergl\":[{\"marker\":{\"colorbar\":{\"outlinewidth\":0,\"ticks\":\"\"}},\"type\":\"scattergl\"}],\"scattermapbox\":[{\"marker\":{\"colorbar\":{\"outlinewidth\":0,\"ticks\":\"\"}},\"type\":\"scattermapbox\"}],\"scatterpolar\":[{\"marker\":{\"colorbar\":{\"outlinewidth\":0,\"ticks\":\"\"}},\"type\":\"scatterpolar\"}],\"scatterpolargl\":[{\"marker\":{\"colorbar\":{\"outlinewidth\":0,\"ticks\":\"\"}},\"type\":\"scatterpolargl\"}],\"scatterternary\":[{\"marker\":{\"colorbar\":{\"outlinewidth\":0,\"ticks\":\"\"}},\"type\":\"scatterternary\"}],\"surface\":[{\"colorbar\":{\"outlinewidth\":0,\"ticks\":\"\"},\"colorscale\":[[0.0,\"#0d0887\"],[0.1111111111111111,\"#46039f\"],[0.2222222222222222,\"#7201a8\"],[0.3333333333333333,\"#9c179e\"],[0.4444444444444444,\"#bd3786\"],[0.5555555555555556,\"#d8576b\"],[0.6666666666666666,\"#ed7953\"],[0.7777777777777778,\"#fb9f3a\"],[0.8888888888888888,\"#fdca26\"],[1.0,\"#f0f921\"]],\"type\":\"surface\"}],\"table\":[{\"cells\":{\"fill\":{\"color\":\"#EBF0F8\"},\"line\":{\"color\":\"white\"}},\"header\":{\"fill\":{\"color\":\"#C8D4E3\"},\"line\":{\"color\":\"white\"}},\"type\":\"table\"}]},\"layout\":{\"annotationdefaults\":{\"arrowcolor\":\"#2a3f5f\",\"arrowhead\":0,\"arrowwidth\":1},\"autotypenumbers\":\"strict\",\"coloraxis\":{\"colorbar\":{\"outlinewidth\":0,\"ticks\":\"\"}},\"colorscale\":{\"diverging\":[[0,\"#8e0152\"],[0.1,\"#c51b7d\"],[0.2,\"#de77ae\"],[0.3,\"#f1b6da\"],[0.4,\"#fde0ef\"],[0.5,\"#f7f7f7\"],[0.6,\"#e6f5d0\"],[0.7,\"#b8e186\"],[0.8,\"#7fbc41\"],[0.9,\"#4d9221\"],[1,\"#276419\"]],\"sequential\":[[0.0,\"#0d0887\"],[0.1111111111111111,\"#46039f\"],[0.2222222222222222,\"#7201a8\"],[0.3333333333333333,\"#9c179e\"],[0.4444444444444444,\"#bd3786\"],[0.5555555555555556,\"#d8576b\"],[0.6666666666666666,\"#ed7953\"],[0.7777777777777778,\"#fb9f3a\"],[0.8888888888888888,\"#fdca26\"],[1.0,\"#f0f921\"]],\"sequentialminus\":[[0.0,\"#0d0887\"],[0.1111111111111111,\"#46039f\"],[0.2222222222222222,\"#7201a8\"],[0.3333333333333333,\"#9c179e\"],[0.4444444444444444,\"#bd3786\"],[0.5555555555555556,\"#d8576b\"],[0.6666666666666666,\"#ed7953\"],[0.7777777777777778,\"#fb9f3a\"],[0.8888888888888888,\"#fdca26\"],[1.0,\"#f0f921\"]]},\"colorway\":[\"#636efa\",\"#EF553B\",\"#00cc96\",\"#ab63fa\",\"#FFA15A\",\"#19d3f3\",\"#FF6692\",\"#B6E880\",\"#FF97FF\",\"#FECB52\"],\"font\":{\"color\":\"#2a3f5f\"},\"geo\":{\"bgcolor\":\"white\",\"lakecolor\":\"white\",\"landcolor\":\"#E5ECF6\",\"showlakes\":true,\"showland\":true,\"subunitcolor\":\"white\"},\"hoverlabel\":{\"align\":\"left\"},\"hovermode\":\"closest\",\"mapbox\":{\"style\":\"light\"},\"paper_bgcolor\":\"white\",\"plot_bgcolor\":\"#E5ECF6\",\"polar\":{\"angularaxis\":{\"gridcolor\":\"white\",\"linecolor\":\"white\",\"ticks\":\"\"},\"bgcolor\":\"#E5ECF6\",\"radialaxis\":{\"gridcolor\":\"white\",\"linecolor\":\"white\",\"ticks\":\"\"}},\"scene\":{\"xaxis\":{\"backgroundcolor\":\"#E5ECF6\",\"gridcolor\":\"white\",\"gridwidth\":2,\"linecolor\":\"white\",\"showbackground\":true,\"ticks\":\"\",\"zerolinecolor\":\"white\"},\"yaxis\":{\"backgroundcolor\":\"#E5ECF6\",\"gridcolor\":\"white\",\"gridwidth\":2,\"linecolor\":\"white\",\"showbackground\":true,\"ticks\":\"\",\"zerolinecolor\":\"white\"},\"zaxis\":{\"backgroundcolor\":\"#E5ECF6\",\"gridcolor\":\"white\",\"gridwidth\":2,\"linecolor\":\"white\",\"showbackground\":true,\"ticks\":\"\",\"zerolinecolor\":\"white\"}},\"shapedefaults\":{\"line\":{\"color\":\"#2a3f5f\"}},\"ternary\":{\"aaxis\":{\"gridcolor\":\"white\",\"linecolor\":\"white\",\"ticks\":\"\"},\"baxis\":{\"gridcolor\":\"white\",\"linecolor\":\"white\",\"ticks\":\"\"},\"bgcolor\":\"#E5ECF6\",\"caxis\":{\"gridcolor\":\"white\",\"linecolor\":\"white\",\"ticks\":\"\"}},\"title\":{\"x\":0.05},\"xaxis\":{\"automargin\":true,\"gridcolor\":\"white\",\"linecolor\":\"white\",\"ticks\":\"\",\"title\":{\"standoff\":15},\"zerolinecolor\":\"white\",\"zerolinewidth\":2},\"yaxis\":{\"automargin\":true,\"gridcolor\":\"white\",\"linecolor\":\"white\",\"ticks\":\"\",\"title\":{\"standoff\":15},\"zerolinecolor\":\"white\",\"zerolinewidth\":2}}},\"xaxis\":{\"anchor\":\"y\",\"domain\":[0.0,1.0],\"title\":{\"font\":{\"size\":18}},\"tickfont\":{\"size\":16}},\"yaxis\":{\"anchor\":\"x\",\"domain\":[0.88,1.0],\"title\":{\"font\":{\"size\":18}},\"tickfont\":{\"size\":16}},\"xaxis2\":{\"anchor\":\"y2\",\"domain\":[0.0,1.0],\"title\":{\"font\":{\"size\":18}},\"tickfont\":{\"size\":16}},\"yaxis2\":{\"anchor\":\"x2\",\"domain\":[0.66,0.78],\"title\":{\"font\":{\"size\":18}},\"tickfont\":{\"size\":16}},\"xaxis3\":{\"anchor\":\"y3\",\"domain\":[0.0,1.0],\"title\":{\"font\":{\"size\":18}},\"tickfont\":{\"size\":16}},\"yaxis3\":{\"anchor\":\"x3\",\"domain\":[0.44,0.56],\"title\":{\"font\":{\"size\":18}},\"tickfont\":{\"size\":16}},\"xaxis4\":{\"anchor\":\"y4\",\"domain\":[0.0,1.0],\"title\":{\"font\":{\"size\":18}},\"tickfont\":{\"size\":16}},\"yaxis4\":{\"anchor\":\"x4\",\"domain\":[0.22,0.33999999999999997],\"title\":{\"font\":{\"size\":18}},\"tickfont\":{\"size\":16}},\"xaxis5\":{\"anchor\":\"y5\",\"domain\":[0.0,1.0],\"title\":{\"font\":{\"size\":18}},\"tickfont\":{\"size\":16}},\"yaxis5\":{\"anchor\":\"x5\",\"domain\":[0.0,0.12],\"title\":{\"font\":{\"size\":18}},\"tickfont\":{\"size\":16}},\"annotations\":[{\"font\":{\"size\":16},\"showarrow\":false,\"text\":\"2018\",\"x\":0.5,\"xanchor\":\"center\",\"xref\":\"paper\",\"y\":1.0,\"yanchor\":\"bottom\",\"yref\":\"paper\"},{\"font\":{\"size\":16},\"showarrow\":false,\"text\":\"2019\",\"x\":0.5,\"xanchor\":\"center\",\"xref\":\"paper\",\"y\":0.78,\"yanchor\":\"bottom\",\"yref\":\"paper\"},{\"font\":{\"size\":16},\"showarrow\":false,\"text\":\"2020\",\"x\":0.5,\"xanchor\":\"center\",\"xref\":\"paper\",\"y\":0.56,\"yanchor\":\"bottom\",\"yref\":\"paper\"},{\"font\":{\"size\":16},\"showarrow\":false,\"text\":\"2021\",\"x\":0.5,\"xanchor\":\"center\",\"xref\":\"paper\",\"y\":0.33999999999999997,\"yanchor\":\"bottom\",\"yref\":\"paper\"},{\"font\":{\"size\":16},\"showarrow\":false,\"text\":\"2022\",\"x\":0.5,\"xanchor\":\"center\",\"xref\":\"paper\",\"y\":0.12,\"yanchor\":\"bottom\",\"yref\":\"paper\"}],\"font\":{\"family\":\"Arial\",\"size\":18,\"color\":\"RebeccaPurple\"},\"hoverlabel\":{\"font\":{\"family\":\"Arial\",\"size\":14}},\"title\":{\"text\":\"Passagens a\\u00e9reas, aqu\\u00e1ticas e terrestres nacionais\"},\"showlegend\":false,\"height\":700,\"width\":1000},                        {\"responsive\": true}                    ).then(function(){\n",
              "                            \n",
              "var gd = document.getElementById('ddfe616b-0c63-460c-8808-4b0c5b36c2fc');\n",
              "var x = new MutationObserver(function (mutations, observer) {{\n",
              "        var display = window.getComputedStyle(gd).display;\n",
              "        if (!display || display === 'none') {{\n",
              "            console.log([gd, 'removed!']);\n",
              "            Plotly.purge(gd);\n",
              "            observer.disconnect();\n",
              "        }}\n",
              "}});\n",
              "\n",
              "// Listen for the removal of the full notebook cells\n",
              "var notebookContainer = gd.closest('#notebook-container');\n",
              "if (notebookContainer) {{\n",
              "    x.observe(notebookContainer, {childList: true});\n",
              "}}\n",
              "\n",
              "// Listen for the clearing of the current output cell\n",
              "var outputEl = gd.closest('.output');\n",
              "if (outputEl) {{\n",
              "    x.observe(outputEl, {childList: true});\n",
              "}}\n",
              "\n",
              "                        })                };                            </script>        </div>\n",
              "</body>\n",
              "</html>"
            ]
          },
          "metadata": {}
        }
      ]
    },
    {
      "cell_type": "code",
      "source": [
        "fig_despesa = make_subplots(rows=5, cols=1, subplot_titles=('2018', '2019', '2020', '2021', '2022'))\n",
        "fig_despesa.add_trace(go.Scatter(x=df_despesa_ceaps_by_ano_mes_despesa.query('(ano == 2018) and (tipo_despesa.str.contains(\"Aluguel de imóveis para escritório político, compreendendo despesas concernentes a eles.\"))', engine='python')['mes'],\n",
        "                    y=df_despesa_ceaps_by_ano_mes_despesa.query('(ano == 2018) and (tipo_despesa.str.contains(\"Aluguel de imóveis para escritório político, compreendendo despesas concernentes a eles.\"))', engine='python')['valor_total'],\n",
        "                    line_shape='linear', hovertemplate='Total: R$ %{y:,.2f}'+'<br>Mês: %{x}', name=\"\"), row=1, col=1)\n",
        "fig_despesa.add_trace(go.Scatter(x=df_despesa_ceaps_by_ano_mes_despesa.query('(ano == 2019) and (tipo_despesa.str.contains(\"Aluguel de imóveis para escritório político, compreendendo despesas concernentes a eles.\"))', engine='python')['mes'],\n",
        "                    y=df_despesa_ceaps_by_ano_mes_despesa.query('(ano == 2019) and (tipo_despesa.str.contains(\"Aluguel de imóveis para escritório político, compreendendo despesas concernentes a eles.\"))', engine='python')['valor_total'],\n",
        "                    line_shape='linear', hovertemplate='Total: R$ %{y:,.2f}'+'<br>Mês: %{x}', name=\"\"), row=2, col=1)\n",
        "fig_despesa.add_trace(go.Scatter(x=df_despesa_ceaps_by_ano_mes_despesa.query('(ano == 2020) and (tipo_despesa.str.contains(\"Aluguel de imóveis para escritório político, compreendendo despesas concernentes a eles.\"))', engine='python')['mes'],\n",
        "                    y=df_despesa_ceaps_by_ano_mes_despesa.query('(ano == 2020) and (tipo_despesa.str.contains(\"Aluguel de imóveis para escritório político, compreendendo despesas concernentes a eles.\"))', engine='python')['valor_total'],\n",
        "                    line_shape='linear', hovertemplate='Total: R$ %{y:,.2f}'+'<br>Mês: %{x}', name=\"\"), row=3, col=1)\n",
        "fig_despesa.add_trace(go.Scatter(x=df_despesa_ceaps_by_ano_mes_despesa.query('(ano == 2021) and (tipo_despesa.str.contains(\"Aluguel de imóveis para escritório político, compreendendo despesas concernentes a eles.\"))', engine='python')['mes'],\n",
        "                    y=df_despesa_ceaps_by_ano_mes_despesa.query('(ano == 2021) and (tipo_despesa.str.contains(\"Aluguel de imóveis para escritório político, compreendendo despesas concernentes a eles.\"))', engine='python')['valor_total'],\n",
        "                    line_shape='linear', hovertemplate='Total: R$ %{y:,.2f}'+'<br>Mês: %{x}', name=\"\"), row=4, col=1)\n",
        "fig_despesa.add_trace(go.Scatter(x=df_despesa_ceaps_by_ano_mes_despesa.query('(ano == 2022) and (tipo_despesa.str.contains(\"Aluguel de imóveis para escritório político, compreendendo despesas concernentes a eles.\"))', engine='python')['mes'],\n",
        "                    y=df_despesa_ceaps_by_ano_mes_despesa.query('(ano == 2022) and (tipo_despesa.str.contains(\"Aluguel de imóveis para escritório político, compreendendo despesas concernentes a eles.\"))', engine='python')['valor_total'],\n",
        "                    line_shape='linear', hovertemplate='Total: R$ %{y:,.2f}'+'<br>Mês: %{x}', name=\"\"), row=5, col=1)\n",
        "\n",
        "fig_despesa.update_xaxes(title_font_size=18, tickfont_size=16)\n",
        "fig_despesa.update_yaxes(title_font_size=18, tickfont_size=16)\n",
        "fig_despesa.update_layout(\n",
        "    font_family=\"Arial\",\n",
        "    hoverlabel_font_family=\"Arial\",\n",
        "    title_text=\"Aluguel de imóveis para escritório político\",\n",
        "    hoverlabel_font_size=14,\n",
        "    showlegend=False,\n",
        "    height=700, \n",
        "    width=1000,\n",
        "    font=dict(\n",
        "        size=18,\n",
        "        color=\"RebeccaPurple\"\n",
        "    )\n",
        ")\n",
        "fig_despesa.show(renderer='colab')"
      ],
      "metadata": {
        "id": "PdZML8RWRne_",
        "colab": {
          "base_uri": "https://localhost:8080/",
          "height": 717
        },
        "outputId": "5fcab281-8af3-4817-ba51-f6fdfc68fff5"
      },
      "execution_count": null,
      "outputs": [
        {
          "output_type": "display_data",
          "data": {
            "text/html": [
              "<html>\n",
              "<head><meta charset=\"utf-8\" /></head>\n",
              "<body>\n",
              "    <div>            <script src=\"https://cdnjs.cloudflare.com/ajax/libs/mathjax/2.7.5/MathJax.js?config=TeX-AMS-MML_SVG\"></script><script type=\"text/javascript\">if (window.MathJax) {MathJax.Hub.Config({SVG: {font: \"STIX-Web\"}});}</script>                <script type=\"text/javascript\">window.PlotlyConfig = {MathJaxConfig: 'local'};</script>\n",
              "        <script src=\"https://cdn.plot.ly/plotly-2.8.3.min.js\"></script>                <div id=\"385d9165-574b-409c-8d66-f9c85a48559a\" class=\"plotly-graph-div\" style=\"height:700px; width:1000px;\"></div>            <script type=\"text/javascript\">                                    window.PLOTLYENV=window.PLOTLYENV || {};                                    if (document.getElementById(\"385d9165-574b-409c-8d66-f9c85a48559a\")) {                    Plotly.newPlot(                        \"385d9165-574b-409c-8d66-f9c85a48559a\",                        [{\"hovertemplate\":\"Total: R$ %{y:,.2f}<br>M\\u00eas: %{x}\",\"line\":{\"shape\":\"linear\"},\"name\":\"\",\"x\":[\"Jan\",\"Feb\",\"Mar\",\"Abr\",\"Mai\",\"Jun\",\"Jul\",\"Ago\",\"Set\",\"Out\",\"Nov\",\"Des\"],\"y\":[327869.75,473585.12,422046.97,406370.5,419203.09,470894.74,390926.16,407184.92,376653.34,454091.4,417565.83,374875.49],\"type\":\"scatter\",\"xaxis\":\"x\",\"yaxis\":\"y\"},{\"hovertemplate\":\"Total: R$ %{y:,.2f}<br>M\\u00eas: %{x}\",\"line\":{\"shape\":\"linear\"},\"name\":\"\",\"x\":[\"Jan\",\"Feb\",\"Mar\",\"Abr\",\"Mai\",\"Jun\",\"Jul\",\"Ago\",\"Set\",\"Out\",\"Nov\",\"Des\"],\"y\":[346797.04,266316.42,277485.61,362856.72,404579.09,360063.6,347353.69,351352.4,361652.25,357883.17,364508.46,312510.7],\"type\":\"scatter\",\"xaxis\":\"x2\",\"yaxis\":\"y2\"},{\"hovertemplate\":\"Total: R$ %{y:,.2f}<br>M\\u00eas: %{x}\",\"line\":{\"shape\":\"linear\"},\"name\":\"\",\"x\":[\"Jan\",\"Feb\",\"Mar\",\"Abr\",\"Mai\",\"Jun\",\"Jul\",\"Ago\",\"Set\",\"Out\",\"Nov\",\"Des\"],\"y\":[366040.69,344211.83,348042.8,372389.35,304826.45,311673.64,321070.04,284481.71,315452.96,297648.51,319992.1,353226.27],\"type\":\"scatter\",\"xaxis\":\"x3\",\"yaxis\":\"y3\"},{\"hovertemplate\":\"Total: R$ %{y:,.2f}<br>M\\u00eas: %{x}\",\"line\":{\"shape\":\"linear\"},\"name\":\"\",\"x\":[\"Jan\",\"Feb\",\"Mar\",\"Abr\",\"Mai\",\"Jun\",\"Jul\",\"Ago\",\"Set\",\"Out\",\"Nov\",\"Des\"],\"y\":[339155.16,338664.09,354456.17,315352.97,341075.4,315209.17,339797.8,304274.57,358751.52999999997,345390.81,368911.82,331971.75],\"type\":\"scatter\",\"xaxis\":\"x4\",\"yaxis\":\"y4\"},{\"hovertemplate\":\"Total: R$ %{y:,.2f}<br>M\\u00eas: %{x}\",\"line\":{\"shape\":\"linear\"},\"name\":\"\",\"x\":[\"Jan\",\"Feb\",\"Mar\",\"Abr\",\"Mai\",\"Jul\"],\"y\":[315076.96,349320.5,322972.16,245399.01,47630.14,518.14],\"type\":\"scatter\",\"xaxis\":\"x5\",\"yaxis\":\"y5\"}],                        {\"template\":{\"data\":{\"bar\":[{\"error_x\":{\"color\":\"#2a3f5f\"},\"error_y\":{\"color\":\"#2a3f5f\"},\"marker\":{\"line\":{\"color\":\"#E5ECF6\",\"width\":0.5},\"pattern\":{\"fillmode\":\"overlay\",\"size\":10,\"solidity\":0.2}},\"type\":\"bar\"}],\"barpolar\":[{\"marker\":{\"line\":{\"color\":\"#E5ECF6\",\"width\":0.5},\"pattern\":{\"fillmode\":\"overlay\",\"size\":10,\"solidity\":0.2}},\"type\":\"barpolar\"}],\"carpet\":[{\"aaxis\":{\"endlinecolor\":\"#2a3f5f\",\"gridcolor\":\"white\",\"linecolor\":\"white\",\"minorgridcolor\":\"white\",\"startlinecolor\":\"#2a3f5f\"},\"baxis\":{\"endlinecolor\":\"#2a3f5f\",\"gridcolor\":\"white\",\"linecolor\":\"white\",\"minorgridcolor\":\"white\",\"startlinecolor\":\"#2a3f5f\"},\"type\":\"carpet\"}],\"choropleth\":[{\"colorbar\":{\"outlinewidth\":0,\"ticks\":\"\"},\"type\":\"choropleth\"}],\"contour\":[{\"colorbar\":{\"outlinewidth\":0,\"ticks\":\"\"},\"colorscale\":[[0.0,\"#0d0887\"],[0.1111111111111111,\"#46039f\"],[0.2222222222222222,\"#7201a8\"],[0.3333333333333333,\"#9c179e\"],[0.4444444444444444,\"#bd3786\"],[0.5555555555555556,\"#d8576b\"],[0.6666666666666666,\"#ed7953\"],[0.7777777777777778,\"#fb9f3a\"],[0.8888888888888888,\"#fdca26\"],[1.0,\"#f0f921\"]],\"type\":\"contour\"}],\"contourcarpet\":[{\"colorbar\":{\"outlinewidth\":0,\"ticks\":\"\"},\"type\":\"contourcarpet\"}],\"heatmap\":[{\"colorbar\":{\"outlinewidth\":0,\"ticks\":\"\"},\"colorscale\":[[0.0,\"#0d0887\"],[0.1111111111111111,\"#46039f\"],[0.2222222222222222,\"#7201a8\"],[0.3333333333333333,\"#9c179e\"],[0.4444444444444444,\"#bd3786\"],[0.5555555555555556,\"#d8576b\"],[0.6666666666666666,\"#ed7953\"],[0.7777777777777778,\"#fb9f3a\"],[0.8888888888888888,\"#fdca26\"],[1.0,\"#f0f921\"]],\"type\":\"heatmap\"}],\"heatmapgl\":[{\"colorbar\":{\"outlinewidth\":0,\"ticks\":\"\"},\"colorscale\":[[0.0,\"#0d0887\"],[0.1111111111111111,\"#46039f\"],[0.2222222222222222,\"#7201a8\"],[0.3333333333333333,\"#9c179e\"],[0.4444444444444444,\"#bd3786\"],[0.5555555555555556,\"#d8576b\"],[0.6666666666666666,\"#ed7953\"],[0.7777777777777778,\"#fb9f3a\"],[0.8888888888888888,\"#fdca26\"],[1.0,\"#f0f921\"]],\"type\":\"heatmapgl\"}],\"histogram\":[{\"marker\":{\"pattern\":{\"fillmode\":\"overlay\",\"size\":10,\"solidity\":0.2}},\"type\":\"histogram\"}],\"histogram2d\":[{\"colorbar\":{\"outlinewidth\":0,\"ticks\":\"\"},\"colorscale\":[[0.0,\"#0d0887\"],[0.1111111111111111,\"#46039f\"],[0.2222222222222222,\"#7201a8\"],[0.3333333333333333,\"#9c179e\"],[0.4444444444444444,\"#bd3786\"],[0.5555555555555556,\"#d8576b\"],[0.6666666666666666,\"#ed7953\"],[0.7777777777777778,\"#fb9f3a\"],[0.8888888888888888,\"#fdca26\"],[1.0,\"#f0f921\"]],\"type\":\"histogram2d\"}],\"histogram2dcontour\":[{\"colorbar\":{\"outlinewidth\":0,\"ticks\":\"\"},\"colorscale\":[[0.0,\"#0d0887\"],[0.1111111111111111,\"#46039f\"],[0.2222222222222222,\"#7201a8\"],[0.3333333333333333,\"#9c179e\"],[0.4444444444444444,\"#bd3786\"],[0.5555555555555556,\"#d8576b\"],[0.6666666666666666,\"#ed7953\"],[0.7777777777777778,\"#fb9f3a\"],[0.8888888888888888,\"#fdca26\"],[1.0,\"#f0f921\"]],\"type\":\"histogram2dcontour\"}],\"mesh3d\":[{\"colorbar\":{\"outlinewidth\":0,\"ticks\":\"\"},\"type\":\"mesh3d\"}],\"parcoords\":[{\"line\":{\"colorbar\":{\"outlinewidth\":0,\"ticks\":\"\"}},\"type\":\"parcoords\"}],\"pie\":[{\"automargin\":true,\"type\":\"pie\"}],\"scatter\":[{\"marker\":{\"colorbar\":{\"outlinewidth\":0,\"ticks\":\"\"}},\"type\":\"scatter\"}],\"scatter3d\":[{\"line\":{\"colorbar\":{\"outlinewidth\":0,\"ticks\":\"\"}},\"marker\":{\"colorbar\":{\"outlinewidth\":0,\"ticks\":\"\"}},\"type\":\"scatter3d\"}],\"scattercarpet\":[{\"marker\":{\"colorbar\":{\"outlinewidth\":0,\"ticks\":\"\"}},\"type\":\"scattercarpet\"}],\"scattergeo\":[{\"marker\":{\"colorbar\":{\"outlinewidth\":0,\"ticks\":\"\"}},\"type\":\"scattergeo\"}],\"scattergl\":[{\"marker\":{\"colorbar\":{\"outlinewidth\":0,\"ticks\":\"\"}},\"type\":\"scattergl\"}],\"scattermapbox\":[{\"marker\":{\"colorbar\":{\"outlinewidth\":0,\"ticks\":\"\"}},\"type\":\"scattermapbox\"}],\"scatterpolar\":[{\"marker\":{\"colorbar\":{\"outlinewidth\":0,\"ticks\":\"\"}},\"type\":\"scatterpolar\"}],\"scatterpolargl\":[{\"marker\":{\"colorbar\":{\"outlinewidth\":0,\"ticks\":\"\"}},\"type\":\"scatterpolargl\"}],\"scatterternary\":[{\"marker\":{\"colorbar\":{\"outlinewidth\":0,\"ticks\":\"\"}},\"type\":\"scatterternary\"}],\"surface\":[{\"colorbar\":{\"outlinewidth\":0,\"ticks\":\"\"},\"colorscale\":[[0.0,\"#0d0887\"],[0.1111111111111111,\"#46039f\"],[0.2222222222222222,\"#7201a8\"],[0.3333333333333333,\"#9c179e\"],[0.4444444444444444,\"#bd3786\"],[0.5555555555555556,\"#d8576b\"],[0.6666666666666666,\"#ed7953\"],[0.7777777777777778,\"#fb9f3a\"],[0.8888888888888888,\"#fdca26\"],[1.0,\"#f0f921\"]],\"type\":\"surface\"}],\"table\":[{\"cells\":{\"fill\":{\"color\":\"#EBF0F8\"},\"line\":{\"color\":\"white\"}},\"header\":{\"fill\":{\"color\":\"#C8D4E3\"},\"line\":{\"color\":\"white\"}},\"type\":\"table\"}]},\"layout\":{\"annotationdefaults\":{\"arrowcolor\":\"#2a3f5f\",\"arrowhead\":0,\"arrowwidth\":1},\"autotypenumbers\":\"strict\",\"coloraxis\":{\"colorbar\":{\"outlinewidth\":0,\"ticks\":\"\"}},\"colorscale\":{\"diverging\":[[0,\"#8e0152\"],[0.1,\"#c51b7d\"],[0.2,\"#de77ae\"],[0.3,\"#f1b6da\"],[0.4,\"#fde0ef\"],[0.5,\"#f7f7f7\"],[0.6,\"#e6f5d0\"],[0.7,\"#b8e186\"],[0.8,\"#7fbc41\"],[0.9,\"#4d9221\"],[1,\"#276419\"]],\"sequential\":[[0.0,\"#0d0887\"],[0.1111111111111111,\"#46039f\"],[0.2222222222222222,\"#7201a8\"],[0.3333333333333333,\"#9c179e\"],[0.4444444444444444,\"#bd3786\"],[0.5555555555555556,\"#d8576b\"],[0.6666666666666666,\"#ed7953\"],[0.7777777777777778,\"#fb9f3a\"],[0.8888888888888888,\"#fdca26\"],[1.0,\"#f0f921\"]],\"sequentialminus\":[[0.0,\"#0d0887\"],[0.1111111111111111,\"#46039f\"],[0.2222222222222222,\"#7201a8\"],[0.3333333333333333,\"#9c179e\"],[0.4444444444444444,\"#bd3786\"],[0.5555555555555556,\"#d8576b\"],[0.6666666666666666,\"#ed7953\"],[0.7777777777777778,\"#fb9f3a\"],[0.8888888888888888,\"#fdca26\"],[1.0,\"#f0f921\"]]},\"colorway\":[\"#636efa\",\"#EF553B\",\"#00cc96\",\"#ab63fa\",\"#FFA15A\",\"#19d3f3\",\"#FF6692\",\"#B6E880\",\"#FF97FF\",\"#FECB52\"],\"font\":{\"color\":\"#2a3f5f\"},\"geo\":{\"bgcolor\":\"white\",\"lakecolor\":\"white\",\"landcolor\":\"#E5ECF6\",\"showlakes\":true,\"showland\":true,\"subunitcolor\":\"white\"},\"hoverlabel\":{\"align\":\"left\"},\"hovermode\":\"closest\",\"mapbox\":{\"style\":\"light\"},\"paper_bgcolor\":\"white\",\"plot_bgcolor\":\"#E5ECF6\",\"polar\":{\"angularaxis\":{\"gridcolor\":\"white\",\"linecolor\":\"white\",\"ticks\":\"\"},\"bgcolor\":\"#E5ECF6\",\"radialaxis\":{\"gridcolor\":\"white\",\"linecolor\":\"white\",\"ticks\":\"\"}},\"scene\":{\"xaxis\":{\"backgroundcolor\":\"#E5ECF6\",\"gridcolor\":\"white\",\"gridwidth\":2,\"linecolor\":\"white\",\"showbackground\":true,\"ticks\":\"\",\"zerolinecolor\":\"white\"},\"yaxis\":{\"backgroundcolor\":\"#E5ECF6\",\"gridcolor\":\"white\",\"gridwidth\":2,\"linecolor\":\"white\",\"showbackground\":true,\"ticks\":\"\",\"zerolinecolor\":\"white\"},\"zaxis\":{\"backgroundcolor\":\"#E5ECF6\",\"gridcolor\":\"white\",\"gridwidth\":2,\"linecolor\":\"white\",\"showbackground\":true,\"ticks\":\"\",\"zerolinecolor\":\"white\"}},\"shapedefaults\":{\"line\":{\"color\":\"#2a3f5f\"}},\"ternary\":{\"aaxis\":{\"gridcolor\":\"white\",\"linecolor\":\"white\",\"ticks\":\"\"},\"baxis\":{\"gridcolor\":\"white\",\"linecolor\":\"white\",\"ticks\":\"\"},\"bgcolor\":\"#E5ECF6\",\"caxis\":{\"gridcolor\":\"white\",\"linecolor\":\"white\",\"ticks\":\"\"}},\"title\":{\"x\":0.05},\"xaxis\":{\"automargin\":true,\"gridcolor\":\"white\",\"linecolor\":\"white\",\"ticks\":\"\",\"title\":{\"standoff\":15},\"zerolinecolor\":\"white\",\"zerolinewidth\":2},\"yaxis\":{\"automargin\":true,\"gridcolor\":\"white\",\"linecolor\":\"white\",\"ticks\":\"\",\"title\":{\"standoff\":15},\"zerolinecolor\":\"white\",\"zerolinewidth\":2}}},\"xaxis\":{\"anchor\":\"y\",\"domain\":[0.0,1.0],\"title\":{\"font\":{\"size\":18}},\"tickfont\":{\"size\":16}},\"yaxis\":{\"anchor\":\"x\",\"domain\":[0.88,1.0],\"title\":{\"font\":{\"size\":18}},\"tickfont\":{\"size\":16}},\"xaxis2\":{\"anchor\":\"y2\",\"domain\":[0.0,1.0],\"title\":{\"font\":{\"size\":18}},\"tickfont\":{\"size\":16}},\"yaxis2\":{\"anchor\":\"x2\",\"domain\":[0.66,0.78],\"title\":{\"font\":{\"size\":18}},\"tickfont\":{\"size\":16}},\"xaxis3\":{\"anchor\":\"y3\",\"domain\":[0.0,1.0],\"title\":{\"font\":{\"size\":18}},\"tickfont\":{\"size\":16}},\"yaxis3\":{\"anchor\":\"x3\",\"domain\":[0.44,0.56],\"title\":{\"font\":{\"size\":18}},\"tickfont\":{\"size\":16}},\"xaxis4\":{\"anchor\":\"y4\",\"domain\":[0.0,1.0],\"title\":{\"font\":{\"size\":18}},\"tickfont\":{\"size\":16}},\"yaxis4\":{\"anchor\":\"x4\",\"domain\":[0.22,0.33999999999999997],\"title\":{\"font\":{\"size\":18}},\"tickfont\":{\"size\":16}},\"xaxis5\":{\"anchor\":\"y5\",\"domain\":[0.0,1.0],\"title\":{\"font\":{\"size\":18}},\"tickfont\":{\"size\":16}},\"yaxis5\":{\"anchor\":\"x5\",\"domain\":[0.0,0.12],\"title\":{\"font\":{\"size\":18}},\"tickfont\":{\"size\":16}},\"annotations\":[{\"font\":{\"size\":16},\"showarrow\":false,\"text\":\"2018\",\"x\":0.5,\"xanchor\":\"center\",\"xref\":\"paper\",\"y\":1.0,\"yanchor\":\"bottom\",\"yref\":\"paper\"},{\"font\":{\"size\":16},\"showarrow\":false,\"text\":\"2019\",\"x\":0.5,\"xanchor\":\"center\",\"xref\":\"paper\",\"y\":0.78,\"yanchor\":\"bottom\",\"yref\":\"paper\"},{\"font\":{\"size\":16},\"showarrow\":false,\"text\":\"2020\",\"x\":0.5,\"xanchor\":\"center\",\"xref\":\"paper\",\"y\":0.56,\"yanchor\":\"bottom\",\"yref\":\"paper\"},{\"font\":{\"size\":16},\"showarrow\":false,\"text\":\"2021\",\"x\":0.5,\"xanchor\":\"center\",\"xref\":\"paper\",\"y\":0.33999999999999997,\"yanchor\":\"bottom\",\"yref\":\"paper\"},{\"font\":{\"size\":16},\"showarrow\":false,\"text\":\"2022\",\"x\":0.5,\"xanchor\":\"center\",\"xref\":\"paper\",\"y\":0.12,\"yanchor\":\"bottom\",\"yref\":\"paper\"}],\"font\":{\"family\":\"Arial\",\"size\":18,\"color\":\"RebeccaPurple\"},\"hoverlabel\":{\"font\":{\"family\":\"Arial\",\"size\":14}},\"title\":{\"text\":\"Aluguel de im\\u00f3veis para escrit\\u00f3rio pol\\u00edtico\"},\"showlegend\":false,\"height\":700,\"width\":1000},                        {\"responsive\": true}                    ).then(function(){\n",
              "                            \n",
              "var gd = document.getElementById('385d9165-574b-409c-8d66-f9c85a48559a');\n",
              "var x = new MutationObserver(function (mutations, observer) {{\n",
              "        var display = window.getComputedStyle(gd).display;\n",
              "        if (!display || display === 'none') {{\n",
              "            console.log([gd, 'removed!']);\n",
              "            Plotly.purge(gd);\n",
              "            observer.disconnect();\n",
              "        }}\n",
              "}});\n",
              "\n",
              "// Listen for the removal of the full notebook cells\n",
              "var notebookContainer = gd.closest('#notebook-container');\n",
              "if (notebookContainer) {{\n",
              "    x.observe(notebookContainer, {childList: true});\n",
              "}}\n",
              "\n",
              "// Listen for the clearing of the current output cell\n",
              "var outputEl = gd.closest('.output');\n",
              "if (outputEl) {{\n",
              "    x.observe(outputEl, {childList: true});\n",
              "}}\n",
              "\n",
              "                        })                };                            </script>        </div>\n",
              "</body>\n",
              "</html>"
            ]
          },
          "metadata": {}
        }
      ]
    },
    {
      "cell_type": "code",
      "source": [
        "fig_despesa = make_subplots(rows=5, cols=1, subplot_titles=('2018', '2019', '2020', '2021', '2022'))\n",
        "fig_despesa.add_trace(go.Scatter(x=df_despesa_ceaps_by_ano_mes_despesa.query('(ano == 2018) and (tipo_despesa.str.contains(\"Aquisição de material de consumo para uso no escritório político\"))', engine='python')['mes'],\n",
        "                    y=df_despesa_ceaps_by_ano_mes_despesa.query('(ano == 2018) and (tipo_despesa.str.contains(\"Aquisição de material de consumo para uso no escritório político\"))', engine='python')['valor_total'],\n",
        "                    line_shape='linear', hovertemplate='Total: R$ %{y:,.2f}'+'<br>Mês: %{x}', name=\"\"), row=1, col=1)\n",
        "fig_despesa.add_trace(go.Scatter(x=df_despesa_ceaps_by_ano_mes_despesa.query('(ano == 2019) and (tipo_despesa.str.contains(\"Aquisição de material de consumo para uso no escritório político\"))', engine='python')['mes'],\n",
        "                    y=df_despesa_ceaps_by_ano_mes_despesa.query('(ano == 2019) and (tipo_despesa.str.contains(\"Aquisição de material de consumo para uso no escritório político\"))', engine='python')['valor_total'],\n",
        "                    line_shape='linear', hovertemplate='Total: R$ %{y:,.2f}'+'<br>Mês: %{x}', name=\"\"), row=2, col=1)\n",
        "fig_despesa.add_trace(go.Scatter(x=df_despesa_ceaps_by_ano_mes_despesa.query('(ano == 2020) and (tipo_despesa.str.contains(\"Aquisição de material de consumo para uso no escritório político\"))', engine='python')['mes'],\n",
        "                    y=df_despesa_ceaps_by_ano_mes_despesa.query('(ano == 2020) and (tipo_despesa.str.contains(\"Aquisição de material de consumo para uso no escritório político\"))', engine='python')['valor_total'],\n",
        "                    line_shape='linear', hovertemplate='Total: R$ %{y:,.2f}'+'<br>Mês: %{x}', name=\"\"), row=3, col=1)\n",
        "fig_despesa.add_trace(go.Scatter(x=df_despesa_ceaps_by_ano_mes_despesa.query('(ano == 2021) and (tipo_despesa.str.contains(\"Aquisição de material de consumo para uso no escritório político\"))', engine='python')['mes'],\n",
        "                    y=df_despesa_ceaps_by_ano_mes_despesa.query('(ano == 2021) and (tipo_despesa.str.contains(\"Aquisição de material de consumo para uso no escritório político\"))', engine='python')['valor_total'],\n",
        "                    line_shape='linear', hovertemplate='Total: R$ %{y:,.2f}'+'<br>Mês: %{x}', name=\"\"), row=4, col=1)\n",
        "fig_despesa.add_trace(go.Scatter(x=df_despesa_ceaps_by_ano_mes_despesa.query('(ano == 2022) and (tipo_despesa.str.contains(\"Aquisição de material de consumo para uso no escritório político\"))', engine='python')['mes'],\n",
        "                    y=df_despesa_ceaps_by_ano_mes_despesa.query('(ano == 2022) and (tipo_despesa.str.contains(\"Aquisição de material de consumo para uso no escritório político\"))', engine='python')['valor_total'],\n",
        "                    line_shape='linear', hovertemplate='Total: R$ %{y:,.2f}'+'<br>Mês: %{x}', name=\"\"), row=5, col=1)\n",
        "\n",
        "fig_despesa.update_xaxes(title_font_size=18, tickfont_size=16)\n",
        "fig_despesa.update_yaxes(title_font_size=18, tickfont_size=16)\n",
        "fig_despesa.update_layout(\n",
        "    font_family=\"Arial\",\n",
        "    hoverlabel_font_family=\"Arial\",\n",
        "    title_text=\"Aquisição de material de consumo para uso no escritório político\",\n",
        "    hoverlabel_font_size=14,\n",
        "    showlegend=False,\n",
        "    height=700, \n",
        "    width=1000,\n",
        "    font=dict(\n",
        "        size=18,\n",
        "        color=\"RebeccaPurple\"\n",
        "    )\n",
        ")\n",
        "fig_despesa.show(renderer='colab')"
      ],
      "metadata": {
        "id": "_0CwQnrURs5y",
        "colab": {
          "base_uri": "https://localhost:8080/",
          "height": 717
        },
        "outputId": "bbf9ecbb-bd23-4512-c739-81243a37573a"
      },
      "execution_count": null,
      "outputs": [
        {
          "output_type": "display_data",
          "data": {
            "text/html": [
              "<html>\n",
              "<head><meta charset=\"utf-8\" /></head>\n",
              "<body>\n",
              "    <div>            <script src=\"https://cdnjs.cloudflare.com/ajax/libs/mathjax/2.7.5/MathJax.js?config=TeX-AMS-MML_SVG\"></script><script type=\"text/javascript\">if (window.MathJax) {MathJax.Hub.Config({SVG: {font: \"STIX-Web\"}});}</script>                <script type=\"text/javascript\">window.PlotlyConfig = {MathJaxConfig: 'local'};</script>\n",
              "        <script src=\"https://cdn.plot.ly/plotly-2.8.3.min.js\"></script>                <div id=\"f3ff0f97-66f4-4450-bd65-6a397eb7756f\" class=\"plotly-graph-div\" style=\"height:700px; width:1000px;\"></div>            <script type=\"text/javascript\">                                    window.PLOTLYENV=window.PLOTLYENV || {};                                    if (document.getElementById(\"f3ff0f97-66f4-4450-bd65-6a397eb7756f\")) {                    Plotly.newPlot(                        \"f3ff0f97-66f4-4450-bd65-6a397eb7756f\",                        [{\"hovertemplate\":\"Total: R$ %{y:,.2f}<br>M\\u00eas: %{x}\",\"line\":{\"shape\":\"linear\"},\"name\":\"\",\"x\":[\"Jan\",\"Feb\",\"Mar\",\"Abr\",\"Mai\",\"Jun\",\"Jul\",\"Ago\",\"Set\",\"Out\",\"Nov\",\"Des\"],\"y\":[57264.06,67251.82,91385.95,81517.38,74502.41,95467.09,77304.22,72634.96,62600.33,64297.85,80490.09,69844.17],\"type\":\"scatter\",\"xaxis\":\"x\",\"yaxis\":\"y\"},{\"hovertemplate\":\"Total: R$ %{y:,.2f}<br>M\\u00eas: %{x}\",\"line\":{\"shape\":\"linear\"},\"name\":\"\",\"x\":[\"Jan\",\"Feb\",\"Mar\",\"Abr\",\"Mai\",\"Jun\",\"Jul\",\"Ago\",\"Set\",\"Out\",\"Nov\",\"Des\"],\"y\":[41160.23,30963.670000000002,70592.6,63146.76,80133.66,114032.56999999999,87197.52,86665.43,73813.0,80960.63,64401.979999999996,68170.69],\"type\":\"scatter\",\"xaxis\":\"x2\",\"yaxis\":\"y2\"},{\"hovertemplate\":\"Total: R$ %{y:,.2f}<br>M\\u00eas: %{x}\",\"line\":{\"shape\":\"linear\"},\"name\":\"\",\"x\":[\"Jan\",\"Feb\",\"Mar\",\"Abr\",\"Mai\",\"Jun\",\"Jul\",\"Ago\",\"Set\",\"Out\",\"Nov\",\"Des\"],\"y\":[68364.48,69298.79,82090.94,67129.11,71527.3,84248.56,94058.78,58899.79,71116.25,68976.38,68856.57,77617.71],\"type\":\"scatter\",\"xaxis\":\"x3\",\"yaxis\":\"y3\"},{\"hovertemplate\":\"Total: R$ %{y:,.2f}<br>M\\u00eas: %{x}\",\"line\":{\"shape\":\"linear\"},\"name\":\"\",\"x\":[\"Jan\",\"Feb\",\"Mar\",\"Abr\",\"Mai\",\"Jun\",\"Jul\",\"Ago\",\"Set\",\"Out\",\"Nov\",\"Des\"],\"y\":[62421.87,79874.43,85187.83,74552.44,76835.12,99660.49,82768.01,85005.81,89149.76,87888.06,82896.64,97861.3],\"type\":\"scatter\",\"xaxis\":\"x4\",\"yaxis\":\"y4\"},{\"hovertemplate\":\"Total: R$ %{y:,.2f}<br>M\\u00eas: %{x}\",\"line\":{\"shape\":\"linear\"},\"name\":\"\",\"x\":[\"Jan\",\"Feb\",\"Mar\",\"Abr\",\"Mai\"],\"y\":[76513.62,74418.49,104618.08,73482.97,12083.1],\"type\":\"scatter\",\"xaxis\":\"x5\",\"yaxis\":\"y5\"}],                        {\"template\":{\"data\":{\"bar\":[{\"error_x\":{\"color\":\"#2a3f5f\"},\"error_y\":{\"color\":\"#2a3f5f\"},\"marker\":{\"line\":{\"color\":\"#E5ECF6\",\"width\":0.5},\"pattern\":{\"fillmode\":\"overlay\",\"size\":10,\"solidity\":0.2}},\"type\":\"bar\"}],\"barpolar\":[{\"marker\":{\"line\":{\"color\":\"#E5ECF6\",\"width\":0.5},\"pattern\":{\"fillmode\":\"overlay\",\"size\":10,\"solidity\":0.2}},\"type\":\"barpolar\"}],\"carpet\":[{\"aaxis\":{\"endlinecolor\":\"#2a3f5f\",\"gridcolor\":\"white\",\"linecolor\":\"white\",\"minorgridcolor\":\"white\",\"startlinecolor\":\"#2a3f5f\"},\"baxis\":{\"endlinecolor\":\"#2a3f5f\",\"gridcolor\":\"white\",\"linecolor\":\"white\",\"minorgridcolor\":\"white\",\"startlinecolor\":\"#2a3f5f\"},\"type\":\"carpet\"}],\"choropleth\":[{\"colorbar\":{\"outlinewidth\":0,\"ticks\":\"\"},\"type\":\"choropleth\"}],\"contour\":[{\"colorbar\":{\"outlinewidth\":0,\"ticks\":\"\"},\"colorscale\":[[0.0,\"#0d0887\"],[0.1111111111111111,\"#46039f\"],[0.2222222222222222,\"#7201a8\"],[0.3333333333333333,\"#9c179e\"],[0.4444444444444444,\"#bd3786\"],[0.5555555555555556,\"#d8576b\"],[0.6666666666666666,\"#ed7953\"],[0.7777777777777778,\"#fb9f3a\"],[0.8888888888888888,\"#fdca26\"],[1.0,\"#f0f921\"]],\"type\":\"contour\"}],\"contourcarpet\":[{\"colorbar\":{\"outlinewidth\":0,\"ticks\":\"\"},\"type\":\"contourcarpet\"}],\"heatmap\":[{\"colorbar\":{\"outlinewidth\":0,\"ticks\":\"\"},\"colorscale\":[[0.0,\"#0d0887\"],[0.1111111111111111,\"#46039f\"],[0.2222222222222222,\"#7201a8\"],[0.3333333333333333,\"#9c179e\"],[0.4444444444444444,\"#bd3786\"],[0.5555555555555556,\"#d8576b\"],[0.6666666666666666,\"#ed7953\"],[0.7777777777777778,\"#fb9f3a\"],[0.8888888888888888,\"#fdca26\"],[1.0,\"#f0f921\"]],\"type\":\"heatmap\"}],\"heatmapgl\":[{\"colorbar\":{\"outlinewidth\":0,\"ticks\":\"\"},\"colorscale\":[[0.0,\"#0d0887\"],[0.1111111111111111,\"#46039f\"],[0.2222222222222222,\"#7201a8\"],[0.3333333333333333,\"#9c179e\"],[0.4444444444444444,\"#bd3786\"],[0.5555555555555556,\"#d8576b\"],[0.6666666666666666,\"#ed7953\"],[0.7777777777777778,\"#fb9f3a\"],[0.8888888888888888,\"#fdca26\"],[1.0,\"#f0f921\"]],\"type\":\"heatmapgl\"}],\"histogram\":[{\"marker\":{\"pattern\":{\"fillmode\":\"overlay\",\"size\":10,\"solidity\":0.2}},\"type\":\"histogram\"}],\"histogram2d\":[{\"colorbar\":{\"outlinewidth\":0,\"ticks\":\"\"},\"colorscale\":[[0.0,\"#0d0887\"],[0.1111111111111111,\"#46039f\"],[0.2222222222222222,\"#7201a8\"],[0.3333333333333333,\"#9c179e\"],[0.4444444444444444,\"#bd3786\"],[0.5555555555555556,\"#d8576b\"],[0.6666666666666666,\"#ed7953\"],[0.7777777777777778,\"#fb9f3a\"],[0.8888888888888888,\"#fdca26\"],[1.0,\"#f0f921\"]],\"type\":\"histogram2d\"}],\"histogram2dcontour\":[{\"colorbar\":{\"outlinewidth\":0,\"ticks\":\"\"},\"colorscale\":[[0.0,\"#0d0887\"],[0.1111111111111111,\"#46039f\"],[0.2222222222222222,\"#7201a8\"],[0.3333333333333333,\"#9c179e\"],[0.4444444444444444,\"#bd3786\"],[0.5555555555555556,\"#d8576b\"],[0.6666666666666666,\"#ed7953\"],[0.7777777777777778,\"#fb9f3a\"],[0.8888888888888888,\"#fdca26\"],[1.0,\"#f0f921\"]],\"type\":\"histogram2dcontour\"}],\"mesh3d\":[{\"colorbar\":{\"outlinewidth\":0,\"ticks\":\"\"},\"type\":\"mesh3d\"}],\"parcoords\":[{\"line\":{\"colorbar\":{\"outlinewidth\":0,\"ticks\":\"\"}},\"type\":\"parcoords\"}],\"pie\":[{\"automargin\":true,\"type\":\"pie\"}],\"scatter\":[{\"marker\":{\"colorbar\":{\"outlinewidth\":0,\"ticks\":\"\"}},\"type\":\"scatter\"}],\"scatter3d\":[{\"line\":{\"colorbar\":{\"outlinewidth\":0,\"ticks\":\"\"}},\"marker\":{\"colorbar\":{\"outlinewidth\":0,\"ticks\":\"\"}},\"type\":\"scatter3d\"}],\"scattercarpet\":[{\"marker\":{\"colorbar\":{\"outlinewidth\":0,\"ticks\":\"\"}},\"type\":\"scattercarpet\"}],\"scattergeo\":[{\"marker\":{\"colorbar\":{\"outlinewidth\":0,\"ticks\":\"\"}},\"type\":\"scattergeo\"}],\"scattergl\":[{\"marker\":{\"colorbar\":{\"outlinewidth\":0,\"ticks\":\"\"}},\"type\":\"scattergl\"}],\"scattermapbox\":[{\"marker\":{\"colorbar\":{\"outlinewidth\":0,\"ticks\":\"\"}},\"type\":\"scattermapbox\"}],\"scatterpolar\":[{\"marker\":{\"colorbar\":{\"outlinewidth\":0,\"ticks\":\"\"}},\"type\":\"scatterpolar\"}],\"scatterpolargl\":[{\"marker\":{\"colorbar\":{\"outlinewidth\":0,\"ticks\":\"\"}},\"type\":\"scatterpolargl\"}],\"scatterternary\":[{\"marker\":{\"colorbar\":{\"outlinewidth\":0,\"ticks\":\"\"}},\"type\":\"scatterternary\"}],\"surface\":[{\"colorbar\":{\"outlinewidth\":0,\"ticks\":\"\"},\"colorscale\":[[0.0,\"#0d0887\"],[0.1111111111111111,\"#46039f\"],[0.2222222222222222,\"#7201a8\"],[0.3333333333333333,\"#9c179e\"],[0.4444444444444444,\"#bd3786\"],[0.5555555555555556,\"#d8576b\"],[0.6666666666666666,\"#ed7953\"],[0.7777777777777778,\"#fb9f3a\"],[0.8888888888888888,\"#fdca26\"],[1.0,\"#f0f921\"]],\"type\":\"surface\"}],\"table\":[{\"cells\":{\"fill\":{\"color\":\"#EBF0F8\"},\"line\":{\"color\":\"white\"}},\"header\":{\"fill\":{\"color\":\"#C8D4E3\"},\"line\":{\"color\":\"white\"}},\"type\":\"table\"}]},\"layout\":{\"annotationdefaults\":{\"arrowcolor\":\"#2a3f5f\",\"arrowhead\":0,\"arrowwidth\":1},\"autotypenumbers\":\"strict\",\"coloraxis\":{\"colorbar\":{\"outlinewidth\":0,\"ticks\":\"\"}},\"colorscale\":{\"diverging\":[[0,\"#8e0152\"],[0.1,\"#c51b7d\"],[0.2,\"#de77ae\"],[0.3,\"#f1b6da\"],[0.4,\"#fde0ef\"],[0.5,\"#f7f7f7\"],[0.6,\"#e6f5d0\"],[0.7,\"#b8e186\"],[0.8,\"#7fbc41\"],[0.9,\"#4d9221\"],[1,\"#276419\"]],\"sequential\":[[0.0,\"#0d0887\"],[0.1111111111111111,\"#46039f\"],[0.2222222222222222,\"#7201a8\"],[0.3333333333333333,\"#9c179e\"],[0.4444444444444444,\"#bd3786\"],[0.5555555555555556,\"#d8576b\"],[0.6666666666666666,\"#ed7953\"],[0.7777777777777778,\"#fb9f3a\"],[0.8888888888888888,\"#fdca26\"],[1.0,\"#f0f921\"]],\"sequentialminus\":[[0.0,\"#0d0887\"],[0.1111111111111111,\"#46039f\"],[0.2222222222222222,\"#7201a8\"],[0.3333333333333333,\"#9c179e\"],[0.4444444444444444,\"#bd3786\"],[0.5555555555555556,\"#d8576b\"],[0.6666666666666666,\"#ed7953\"],[0.7777777777777778,\"#fb9f3a\"],[0.8888888888888888,\"#fdca26\"],[1.0,\"#f0f921\"]]},\"colorway\":[\"#636efa\",\"#EF553B\",\"#00cc96\",\"#ab63fa\",\"#FFA15A\",\"#19d3f3\",\"#FF6692\",\"#B6E880\",\"#FF97FF\",\"#FECB52\"],\"font\":{\"color\":\"#2a3f5f\"},\"geo\":{\"bgcolor\":\"white\",\"lakecolor\":\"white\",\"landcolor\":\"#E5ECF6\",\"showlakes\":true,\"showland\":true,\"subunitcolor\":\"white\"},\"hoverlabel\":{\"align\":\"left\"},\"hovermode\":\"closest\",\"mapbox\":{\"style\":\"light\"},\"paper_bgcolor\":\"white\",\"plot_bgcolor\":\"#E5ECF6\",\"polar\":{\"angularaxis\":{\"gridcolor\":\"white\",\"linecolor\":\"white\",\"ticks\":\"\"},\"bgcolor\":\"#E5ECF6\",\"radialaxis\":{\"gridcolor\":\"white\",\"linecolor\":\"white\",\"ticks\":\"\"}},\"scene\":{\"xaxis\":{\"backgroundcolor\":\"#E5ECF6\",\"gridcolor\":\"white\",\"gridwidth\":2,\"linecolor\":\"white\",\"showbackground\":true,\"ticks\":\"\",\"zerolinecolor\":\"white\"},\"yaxis\":{\"backgroundcolor\":\"#E5ECF6\",\"gridcolor\":\"white\",\"gridwidth\":2,\"linecolor\":\"white\",\"showbackground\":true,\"ticks\":\"\",\"zerolinecolor\":\"white\"},\"zaxis\":{\"backgroundcolor\":\"#E5ECF6\",\"gridcolor\":\"white\",\"gridwidth\":2,\"linecolor\":\"white\",\"showbackground\":true,\"ticks\":\"\",\"zerolinecolor\":\"white\"}},\"shapedefaults\":{\"line\":{\"color\":\"#2a3f5f\"}},\"ternary\":{\"aaxis\":{\"gridcolor\":\"white\",\"linecolor\":\"white\",\"ticks\":\"\"},\"baxis\":{\"gridcolor\":\"white\",\"linecolor\":\"white\",\"ticks\":\"\"},\"bgcolor\":\"#E5ECF6\",\"caxis\":{\"gridcolor\":\"white\",\"linecolor\":\"white\",\"ticks\":\"\"}},\"title\":{\"x\":0.05},\"xaxis\":{\"automargin\":true,\"gridcolor\":\"white\",\"linecolor\":\"white\",\"ticks\":\"\",\"title\":{\"standoff\":15},\"zerolinecolor\":\"white\",\"zerolinewidth\":2},\"yaxis\":{\"automargin\":true,\"gridcolor\":\"white\",\"linecolor\":\"white\",\"ticks\":\"\",\"title\":{\"standoff\":15},\"zerolinecolor\":\"white\",\"zerolinewidth\":2}}},\"xaxis\":{\"anchor\":\"y\",\"domain\":[0.0,1.0],\"title\":{\"font\":{\"size\":18}},\"tickfont\":{\"size\":16}},\"yaxis\":{\"anchor\":\"x\",\"domain\":[0.88,1.0],\"title\":{\"font\":{\"size\":18}},\"tickfont\":{\"size\":16}},\"xaxis2\":{\"anchor\":\"y2\",\"domain\":[0.0,1.0],\"title\":{\"font\":{\"size\":18}},\"tickfont\":{\"size\":16}},\"yaxis2\":{\"anchor\":\"x2\",\"domain\":[0.66,0.78],\"title\":{\"font\":{\"size\":18}},\"tickfont\":{\"size\":16}},\"xaxis3\":{\"anchor\":\"y3\",\"domain\":[0.0,1.0],\"title\":{\"font\":{\"size\":18}},\"tickfont\":{\"size\":16}},\"yaxis3\":{\"anchor\":\"x3\",\"domain\":[0.44,0.56],\"title\":{\"font\":{\"size\":18}},\"tickfont\":{\"size\":16}},\"xaxis4\":{\"anchor\":\"y4\",\"domain\":[0.0,1.0],\"title\":{\"font\":{\"size\":18}},\"tickfont\":{\"size\":16}},\"yaxis4\":{\"anchor\":\"x4\",\"domain\":[0.22,0.33999999999999997],\"title\":{\"font\":{\"size\":18}},\"tickfont\":{\"size\":16}},\"xaxis5\":{\"anchor\":\"y5\",\"domain\":[0.0,1.0],\"title\":{\"font\":{\"size\":18}},\"tickfont\":{\"size\":16}},\"yaxis5\":{\"anchor\":\"x5\",\"domain\":[0.0,0.12],\"title\":{\"font\":{\"size\":18}},\"tickfont\":{\"size\":16}},\"annotations\":[{\"font\":{\"size\":16},\"showarrow\":false,\"text\":\"2018\",\"x\":0.5,\"xanchor\":\"center\",\"xref\":\"paper\",\"y\":1.0,\"yanchor\":\"bottom\",\"yref\":\"paper\"},{\"font\":{\"size\":16},\"showarrow\":false,\"text\":\"2019\",\"x\":0.5,\"xanchor\":\"center\",\"xref\":\"paper\",\"y\":0.78,\"yanchor\":\"bottom\",\"yref\":\"paper\"},{\"font\":{\"size\":16},\"showarrow\":false,\"text\":\"2020\",\"x\":0.5,\"xanchor\":\"center\",\"xref\":\"paper\",\"y\":0.56,\"yanchor\":\"bottom\",\"yref\":\"paper\"},{\"font\":{\"size\":16},\"showarrow\":false,\"text\":\"2021\",\"x\":0.5,\"xanchor\":\"center\",\"xref\":\"paper\",\"y\":0.33999999999999997,\"yanchor\":\"bottom\",\"yref\":\"paper\"},{\"font\":{\"size\":16},\"showarrow\":false,\"text\":\"2022\",\"x\":0.5,\"xanchor\":\"center\",\"xref\":\"paper\",\"y\":0.12,\"yanchor\":\"bottom\",\"yref\":\"paper\"}],\"font\":{\"family\":\"Arial\",\"size\":18,\"color\":\"RebeccaPurple\"},\"hoverlabel\":{\"font\":{\"family\":\"Arial\",\"size\":14}},\"title\":{\"text\":\"Aquisi\\u00e7\\u00e3o de material de consumo para uso no escrit\\u00f3rio pol\\u00edtico\"},\"showlegend\":false,\"height\":700,\"width\":1000},                        {\"responsive\": true}                    ).then(function(){\n",
              "                            \n",
              "var gd = document.getElementById('f3ff0f97-66f4-4450-bd65-6a397eb7756f');\n",
              "var x = new MutationObserver(function (mutations, observer) {{\n",
              "        var display = window.getComputedStyle(gd).display;\n",
              "        if (!display || display === 'none') {{\n",
              "            console.log([gd, 'removed!']);\n",
              "            Plotly.purge(gd);\n",
              "            observer.disconnect();\n",
              "        }}\n",
              "}});\n",
              "\n",
              "// Listen for the removal of the full notebook cells\n",
              "var notebookContainer = gd.closest('#notebook-container');\n",
              "if (notebookContainer) {{\n",
              "    x.observe(notebookContainer, {childList: true});\n",
              "}}\n",
              "\n",
              "// Listen for the clearing of the current output cell\n",
              "var outputEl = gd.closest('.output');\n",
              "if (outputEl) {{\n",
              "    x.observe(outputEl, {childList: true});\n",
              "}}\n",
              "\n",
              "                        })                };                            </script>        </div>\n",
              "</body>\n",
              "</html>"
            ]
          },
          "metadata": {}
        }
      ]
    },
    {
      "cell_type": "code",
      "source": [
        "fig_despesa = make_subplots(rows=5, cols=1, subplot_titles=('2018', '2019', '2020', '2021', '2022'))\n",
        "fig_despesa.add_trace(go.Scatter(x=df_despesa_ceaps_by_ano_mes_despesa.query('(ano == 2018) and (tipo_despesa.str.contains(\"Contratação de consultorias, assessorias\"))', engine='python')['mes'],\n",
        "                    y=df_despesa_ceaps_by_ano_mes_despesa.query('(ano == 2018) and (tipo_despesa.str.contains(\"Contratação de consultorias, assessorias\"))', engine='python')['valor_total'],\n",
        "                    line_shape='linear', hovertemplate='Total: R$ %{y:,.2f}'+'<br>Mês: %{x}', name=\"\"), row=1, col=1)\n",
        "fig_despesa.add_trace(go.Scatter(x=df_despesa_ceaps_by_ano_mes_despesa.query('(ano == 2019) and (tipo_despesa.str.contains(\"Contratação de consultorias, assessorias\"))', engine='python')['mes'],\n",
        "                    y=df_despesa_ceaps_by_ano_mes_despesa.query('(ano == 2019) and (tipo_despesa.str.contains(\"Contratação de consultorias, assessorias\"))', engine='python')['valor_total'],\n",
        "                    line_shape='linear', hovertemplate='Total: R$ %{y:,.2f}'+'<br>Mês: %{x}', name=\"\"), row=2, col=1)\n",
        "fig_despesa.add_trace(go.Scatter(x=df_despesa_ceaps_by_ano_mes_despesa.query('(ano == 2020) and (tipo_despesa.str.contains(\"Contratação de consultorias, assessorias\"))', engine='python')['mes'],\n",
        "                    y=df_despesa_ceaps_by_ano_mes_despesa.query('(ano == 2020) and (tipo_despesa.str.contains(\"Contratação de consultorias, assessorias\"))', engine='python')['valor_total'],\n",
        "                    line_shape='linear', hovertemplate='Total: R$ %{y:,.2f}'+'<br>Mês: %{x}', name=\"\"), row=3, col=1)\n",
        "fig_despesa.add_trace(go.Scatter(x=df_despesa_ceaps_by_ano_mes_despesa.query('(ano == 2021) and (tipo_despesa.str.contains(\"Contratação de consultorias, assessorias\"))', engine='python')['mes'],\n",
        "                    y=df_despesa_ceaps_by_ano_mes_despesa.query('(ano == 2021) and (tipo_despesa.str.contains(\"Contratação de consultorias, assessorias\"))', engine='python')['valor_total'],\n",
        "                    line_shape='linear', hovertemplate='Total: R$ %{y:,.2f}'+'<br>Mês: %{x}', name=\"\"), row=4, col=1)\n",
        "fig_despesa.add_trace(go.Scatter(x=df_despesa_ceaps_by_ano_mes_despesa.query('(ano == 2022) and (tipo_despesa.str.contains(\"Contratação de consultorias, assessorias\"))', engine='python')['mes'],\n",
        "                    y=df_despesa_ceaps_by_ano_mes_despesa.query('(ano == 2022) and (tipo_despesa.str.contains(\"Contratação de consultorias, assessorias\"))', engine='python')['valor_total'],\n",
        "                    line_shape='linear', hovertemplate='Total: R$ %{y:,.2f}'+'<br>Mês: %{x}', name=\"\"), row=5, col=1)\n",
        "\n",
        "fig_despesa.update_xaxes(title_font_size=18, tickfont_size=16)\n",
        "fig_despesa.update_yaxes(title_font_size=18, tickfont_size=16)\n",
        "fig_despesa.update_layout(\n",
        "    font_family=\"Arial\",\n",
        "    hoverlabel_font_family=\"Arial\",\n",
        "    title_text=\"Contratação de consultorias\",\n",
        "    hoverlabel_font_size=14,\n",
        "    showlegend=False,\n",
        "    height=700, \n",
        "    width=1000,\n",
        "    font=dict(\n",
        "        size=18,\n",
        "        color=\"RebeccaPurple\"\n",
        "    )\n",
        ")\n",
        "fig_despesa.show(renderer='colab')"
      ],
      "metadata": {
        "id": "xvw2HU4_eAlG",
        "colab": {
          "base_uri": "https://localhost:8080/",
          "height": 717
        },
        "outputId": "7dee4c79-e560-4acf-d822-fc61c48d16a7"
      },
      "execution_count": null,
      "outputs": [
        {
          "output_type": "display_data",
          "data": {
            "text/html": [
              "<html>\n",
              "<head><meta charset=\"utf-8\" /></head>\n",
              "<body>\n",
              "    <div>            <script src=\"https://cdnjs.cloudflare.com/ajax/libs/mathjax/2.7.5/MathJax.js?config=TeX-AMS-MML_SVG\"></script><script type=\"text/javascript\">if (window.MathJax) {MathJax.Hub.Config({SVG: {font: \"STIX-Web\"}});}</script>                <script type=\"text/javascript\">window.PlotlyConfig = {MathJaxConfig: 'local'};</script>\n",
              "        <script src=\"https://cdn.plot.ly/plotly-2.8.3.min.js\"></script>                <div id=\"1e233024-6c72-4e57-87cf-9045ea4121a5\" class=\"plotly-graph-div\" style=\"height:700px; width:1000px;\"></div>            <script type=\"text/javascript\">                                    window.PLOTLYENV=window.PLOTLYENV || {};                                    if (document.getElementById(\"1e233024-6c72-4e57-87cf-9045ea4121a5\")) {                    Plotly.newPlot(                        \"1e233024-6c72-4e57-87cf-9045ea4121a5\",                        [{\"hovertemplate\":\"Total: R$ %{y:,.2f}<br>M\\u00eas: %{x}\",\"line\":{\"shape\":\"linear\"},\"name\":\"\",\"x\":[\"Jan\",\"Feb\",\"Mar\",\"Abr\",\"Mai\",\"Jun\",\"Jul\",\"Ago\",\"Set\",\"Out\",\"Nov\",\"Des\"],\"y\":[189266.37,309288.79,406456.0,373337.64,356687.14,335298.75,389285.06,303767.4,213192.93,544359.39,521810.64,881152.37],\"type\":\"scatter\",\"xaxis\":\"x\",\"yaxis\":\"y\"},{\"hovertemplate\":\"Total: R$ %{y:,.2f}<br>M\\u00eas: %{x}\",\"line\":{\"shape\":\"linear\"},\"name\":\"\",\"x\":[\"Jan\",\"Feb\",\"Mar\",\"Abr\",\"Mai\",\"Jun\",\"Jul\",\"Ago\",\"Set\",\"Out\",\"Nov\",\"Des\"],\"y\":[406192.46,330141.51,358029.08,416409.62,439960.88,369216.14,505916.66000000003,437888.6,458074.52999999997,642197.22,668683.22,867708.82],\"type\":\"scatter\",\"xaxis\":\"x2\",\"yaxis\":\"y2\"},{\"hovertemplate\":\"Total: R$ %{y:,.2f}<br>M\\u00eas: %{x}\",\"line\":{\"shape\":\"linear\"},\"name\":\"\",\"x\":[\"Jan\",\"Feb\",\"Mar\",\"Abr\",\"Mai\",\"Jun\",\"Jul\",\"Ago\",\"Set\",\"Out\",\"Nov\",\"Des\"],\"y\":[236526.63,490235.55,451296.51,435441.78,466185.11,430693.4,437777.0,430157.65,357766.64,553420.98,453862.0,1201832.54],\"type\":\"scatter\",\"xaxis\":\"x3\",\"yaxis\":\"y3\"},{\"hovertemplate\":\"Total: R$ %{y:,.2f}<br>M\\u00eas: %{x}\",\"line\":{\"shape\":\"linear\"},\"name\":\"\",\"x\":[\"Jan\",\"Feb\",\"Mar\",\"Abr\",\"Mai\",\"Jun\",\"Jul\",\"Ago\",\"Set\",\"Out\",\"Nov\",\"Des\"],\"y\":[275639.25,358762.45,645580.92,422256.19,468709.78,507754.45,557818.32,540087.88,513439.14,521234.14,485556.76,650364.63],\"type\":\"scatter\",\"xaxis\":\"x4\",\"yaxis\":\"y4\"},{\"hovertemplate\":\"Total: R$ %{y:,.2f}<br>M\\u00eas: %{x}\",\"line\":{\"shape\":\"linear\"},\"name\":\"\",\"x\":[\"Jan\",\"Feb\",\"Mar\",\"Abr\",\"Mai\"],\"y\":[380039.25,587191.64,656960.67,410534.18,99819.88],\"type\":\"scatter\",\"xaxis\":\"x5\",\"yaxis\":\"y5\"}],                        {\"template\":{\"data\":{\"bar\":[{\"error_x\":{\"color\":\"#2a3f5f\"},\"error_y\":{\"color\":\"#2a3f5f\"},\"marker\":{\"line\":{\"color\":\"#E5ECF6\",\"width\":0.5},\"pattern\":{\"fillmode\":\"overlay\",\"size\":10,\"solidity\":0.2}},\"type\":\"bar\"}],\"barpolar\":[{\"marker\":{\"line\":{\"color\":\"#E5ECF6\",\"width\":0.5},\"pattern\":{\"fillmode\":\"overlay\",\"size\":10,\"solidity\":0.2}},\"type\":\"barpolar\"}],\"carpet\":[{\"aaxis\":{\"endlinecolor\":\"#2a3f5f\",\"gridcolor\":\"white\",\"linecolor\":\"white\",\"minorgridcolor\":\"white\",\"startlinecolor\":\"#2a3f5f\"},\"baxis\":{\"endlinecolor\":\"#2a3f5f\",\"gridcolor\":\"white\",\"linecolor\":\"white\",\"minorgridcolor\":\"white\",\"startlinecolor\":\"#2a3f5f\"},\"type\":\"carpet\"}],\"choropleth\":[{\"colorbar\":{\"outlinewidth\":0,\"ticks\":\"\"},\"type\":\"choropleth\"}],\"contour\":[{\"colorbar\":{\"outlinewidth\":0,\"ticks\":\"\"},\"colorscale\":[[0.0,\"#0d0887\"],[0.1111111111111111,\"#46039f\"],[0.2222222222222222,\"#7201a8\"],[0.3333333333333333,\"#9c179e\"],[0.4444444444444444,\"#bd3786\"],[0.5555555555555556,\"#d8576b\"],[0.6666666666666666,\"#ed7953\"],[0.7777777777777778,\"#fb9f3a\"],[0.8888888888888888,\"#fdca26\"],[1.0,\"#f0f921\"]],\"type\":\"contour\"}],\"contourcarpet\":[{\"colorbar\":{\"outlinewidth\":0,\"ticks\":\"\"},\"type\":\"contourcarpet\"}],\"heatmap\":[{\"colorbar\":{\"outlinewidth\":0,\"ticks\":\"\"},\"colorscale\":[[0.0,\"#0d0887\"],[0.1111111111111111,\"#46039f\"],[0.2222222222222222,\"#7201a8\"],[0.3333333333333333,\"#9c179e\"],[0.4444444444444444,\"#bd3786\"],[0.5555555555555556,\"#d8576b\"],[0.6666666666666666,\"#ed7953\"],[0.7777777777777778,\"#fb9f3a\"],[0.8888888888888888,\"#fdca26\"],[1.0,\"#f0f921\"]],\"type\":\"heatmap\"}],\"heatmapgl\":[{\"colorbar\":{\"outlinewidth\":0,\"ticks\":\"\"},\"colorscale\":[[0.0,\"#0d0887\"],[0.1111111111111111,\"#46039f\"],[0.2222222222222222,\"#7201a8\"],[0.3333333333333333,\"#9c179e\"],[0.4444444444444444,\"#bd3786\"],[0.5555555555555556,\"#d8576b\"],[0.6666666666666666,\"#ed7953\"],[0.7777777777777778,\"#fb9f3a\"],[0.8888888888888888,\"#fdca26\"],[1.0,\"#f0f921\"]],\"type\":\"heatmapgl\"}],\"histogram\":[{\"marker\":{\"pattern\":{\"fillmode\":\"overlay\",\"size\":10,\"solidity\":0.2}},\"type\":\"histogram\"}],\"histogram2d\":[{\"colorbar\":{\"outlinewidth\":0,\"ticks\":\"\"},\"colorscale\":[[0.0,\"#0d0887\"],[0.1111111111111111,\"#46039f\"],[0.2222222222222222,\"#7201a8\"],[0.3333333333333333,\"#9c179e\"],[0.4444444444444444,\"#bd3786\"],[0.5555555555555556,\"#d8576b\"],[0.6666666666666666,\"#ed7953\"],[0.7777777777777778,\"#fb9f3a\"],[0.8888888888888888,\"#fdca26\"],[1.0,\"#f0f921\"]],\"type\":\"histogram2d\"}],\"histogram2dcontour\":[{\"colorbar\":{\"outlinewidth\":0,\"ticks\":\"\"},\"colorscale\":[[0.0,\"#0d0887\"],[0.1111111111111111,\"#46039f\"],[0.2222222222222222,\"#7201a8\"],[0.3333333333333333,\"#9c179e\"],[0.4444444444444444,\"#bd3786\"],[0.5555555555555556,\"#d8576b\"],[0.6666666666666666,\"#ed7953\"],[0.7777777777777778,\"#fb9f3a\"],[0.8888888888888888,\"#fdca26\"],[1.0,\"#f0f921\"]],\"type\":\"histogram2dcontour\"}],\"mesh3d\":[{\"colorbar\":{\"outlinewidth\":0,\"ticks\":\"\"},\"type\":\"mesh3d\"}],\"parcoords\":[{\"line\":{\"colorbar\":{\"outlinewidth\":0,\"ticks\":\"\"}},\"type\":\"parcoords\"}],\"pie\":[{\"automargin\":true,\"type\":\"pie\"}],\"scatter\":[{\"marker\":{\"colorbar\":{\"outlinewidth\":0,\"ticks\":\"\"}},\"type\":\"scatter\"}],\"scatter3d\":[{\"line\":{\"colorbar\":{\"outlinewidth\":0,\"ticks\":\"\"}},\"marker\":{\"colorbar\":{\"outlinewidth\":0,\"ticks\":\"\"}},\"type\":\"scatter3d\"}],\"scattercarpet\":[{\"marker\":{\"colorbar\":{\"outlinewidth\":0,\"ticks\":\"\"}},\"type\":\"scattercarpet\"}],\"scattergeo\":[{\"marker\":{\"colorbar\":{\"outlinewidth\":0,\"ticks\":\"\"}},\"type\":\"scattergeo\"}],\"scattergl\":[{\"marker\":{\"colorbar\":{\"outlinewidth\":0,\"ticks\":\"\"}},\"type\":\"scattergl\"}],\"scattermapbox\":[{\"marker\":{\"colorbar\":{\"outlinewidth\":0,\"ticks\":\"\"}},\"type\":\"scattermapbox\"}],\"scatterpolar\":[{\"marker\":{\"colorbar\":{\"outlinewidth\":0,\"ticks\":\"\"}},\"type\":\"scatterpolar\"}],\"scatterpolargl\":[{\"marker\":{\"colorbar\":{\"outlinewidth\":0,\"ticks\":\"\"}},\"type\":\"scatterpolargl\"}],\"scatterternary\":[{\"marker\":{\"colorbar\":{\"outlinewidth\":0,\"ticks\":\"\"}},\"type\":\"scatterternary\"}],\"surface\":[{\"colorbar\":{\"outlinewidth\":0,\"ticks\":\"\"},\"colorscale\":[[0.0,\"#0d0887\"],[0.1111111111111111,\"#46039f\"],[0.2222222222222222,\"#7201a8\"],[0.3333333333333333,\"#9c179e\"],[0.4444444444444444,\"#bd3786\"],[0.5555555555555556,\"#d8576b\"],[0.6666666666666666,\"#ed7953\"],[0.7777777777777778,\"#fb9f3a\"],[0.8888888888888888,\"#fdca26\"],[1.0,\"#f0f921\"]],\"type\":\"surface\"}],\"table\":[{\"cells\":{\"fill\":{\"color\":\"#EBF0F8\"},\"line\":{\"color\":\"white\"}},\"header\":{\"fill\":{\"color\":\"#C8D4E3\"},\"line\":{\"color\":\"white\"}},\"type\":\"table\"}]},\"layout\":{\"annotationdefaults\":{\"arrowcolor\":\"#2a3f5f\",\"arrowhead\":0,\"arrowwidth\":1},\"autotypenumbers\":\"strict\",\"coloraxis\":{\"colorbar\":{\"outlinewidth\":0,\"ticks\":\"\"}},\"colorscale\":{\"diverging\":[[0,\"#8e0152\"],[0.1,\"#c51b7d\"],[0.2,\"#de77ae\"],[0.3,\"#f1b6da\"],[0.4,\"#fde0ef\"],[0.5,\"#f7f7f7\"],[0.6,\"#e6f5d0\"],[0.7,\"#b8e186\"],[0.8,\"#7fbc41\"],[0.9,\"#4d9221\"],[1,\"#276419\"]],\"sequential\":[[0.0,\"#0d0887\"],[0.1111111111111111,\"#46039f\"],[0.2222222222222222,\"#7201a8\"],[0.3333333333333333,\"#9c179e\"],[0.4444444444444444,\"#bd3786\"],[0.5555555555555556,\"#d8576b\"],[0.6666666666666666,\"#ed7953\"],[0.7777777777777778,\"#fb9f3a\"],[0.8888888888888888,\"#fdca26\"],[1.0,\"#f0f921\"]],\"sequentialminus\":[[0.0,\"#0d0887\"],[0.1111111111111111,\"#46039f\"],[0.2222222222222222,\"#7201a8\"],[0.3333333333333333,\"#9c179e\"],[0.4444444444444444,\"#bd3786\"],[0.5555555555555556,\"#d8576b\"],[0.6666666666666666,\"#ed7953\"],[0.7777777777777778,\"#fb9f3a\"],[0.8888888888888888,\"#fdca26\"],[1.0,\"#f0f921\"]]},\"colorway\":[\"#636efa\",\"#EF553B\",\"#00cc96\",\"#ab63fa\",\"#FFA15A\",\"#19d3f3\",\"#FF6692\",\"#B6E880\",\"#FF97FF\",\"#FECB52\"],\"font\":{\"color\":\"#2a3f5f\"},\"geo\":{\"bgcolor\":\"white\",\"lakecolor\":\"white\",\"landcolor\":\"#E5ECF6\",\"showlakes\":true,\"showland\":true,\"subunitcolor\":\"white\"},\"hoverlabel\":{\"align\":\"left\"},\"hovermode\":\"closest\",\"mapbox\":{\"style\":\"light\"},\"paper_bgcolor\":\"white\",\"plot_bgcolor\":\"#E5ECF6\",\"polar\":{\"angularaxis\":{\"gridcolor\":\"white\",\"linecolor\":\"white\",\"ticks\":\"\"},\"bgcolor\":\"#E5ECF6\",\"radialaxis\":{\"gridcolor\":\"white\",\"linecolor\":\"white\",\"ticks\":\"\"}},\"scene\":{\"xaxis\":{\"backgroundcolor\":\"#E5ECF6\",\"gridcolor\":\"white\",\"gridwidth\":2,\"linecolor\":\"white\",\"showbackground\":true,\"ticks\":\"\",\"zerolinecolor\":\"white\"},\"yaxis\":{\"backgroundcolor\":\"#E5ECF6\",\"gridcolor\":\"white\",\"gridwidth\":2,\"linecolor\":\"white\",\"showbackground\":true,\"ticks\":\"\",\"zerolinecolor\":\"white\"},\"zaxis\":{\"backgroundcolor\":\"#E5ECF6\",\"gridcolor\":\"white\",\"gridwidth\":2,\"linecolor\":\"white\",\"showbackground\":true,\"ticks\":\"\",\"zerolinecolor\":\"white\"}},\"shapedefaults\":{\"line\":{\"color\":\"#2a3f5f\"}},\"ternary\":{\"aaxis\":{\"gridcolor\":\"white\",\"linecolor\":\"white\",\"ticks\":\"\"},\"baxis\":{\"gridcolor\":\"white\",\"linecolor\":\"white\",\"ticks\":\"\"},\"bgcolor\":\"#E5ECF6\",\"caxis\":{\"gridcolor\":\"white\",\"linecolor\":\"white\",\"ticks\":\"\"}},\"title\":{\"x\":0.05},\"xaxis\":{\"automargin\":true,\"gridcolor\":\"white\",\"linecolor\":\"white\",\"ticks\":\"\",\"title\":{\"standoff\":15},\"zerolinecolor\":\"white\",\"zerolinewidth\":2},\"yaxis\":{\"automargin\":true,\"gridcolor\":\"white\",\"linecolor\":\"white\",\"ticks\":\"\",\"title\":{\"standoff\":15},\"zerolinecolor\":\"white\",\"zerolinewidth\":2}}},\"xaxis\":{\"anchor\":\"y\",\"domain\":[0.0,1.0],\"title\":{\"font\":{\"size\":18}},\"tickfont\":{\"size\":16}},\"yaxis\":{\"anchor\":\"x\",\"domain\":[0.88,1.0],\"title\":{\"font\":{\"size\":18}},\"tickfont\":{\"size\":16}},\"xaxis2\":{\"anchor\":\"y2\",\"domain\":[0.0,1.0],\"title\":{\"font\":{\"size\":18}},\"tickfont\":{\"size\":16}},\"yaxis2\":{\"anchor\":\"x2\",\"domain\":[0.66,0.78],\"title\":{\"font\":{\"size\":18}},\"tickfont\":{\"size\":16}},\"xaxis3\":{\"anchor\":\"y3\",\"domain\":[0.0,1.0],\"title\":{\"font\":{\"size\":18}},\"tickfont\":{\"size\":16}},\"yaxis3\":{\"anchor\":\"x3\",\"domain\":[0.44,0.56],\"title\":{\"font\":{\"size\":18}},\"tickfont\":{\"size\":16}},\"xaxis4\":{\"anchor\":\"y4\",\"domain\":[0.0,1.0],\"title\":{\"font\":{\"size\":18}},\"tickfont\":{\"size\":16}},\"yaxis4\":{\"anchor\":\"x4\",\"domain\":[0.22,0.33999999999999997],\"title\":{\"font\":{\"size\":18}},\"tickfont\":{\"size\":16}},\"xaxis5\":{\"anchor\":\"y5\",\"domain\":[0.0,1.0],\"title\":{\"font\":{\"size\":18}},\"tickfont\":{\"size\":16}},\"yaxis5\":{\"anchor\":\"x5\",\"domain\":[0.0,0.12],\"title\":{\"font\":{\"size\":18}},\"tickfont\":{\"size\":16}},\"annotations\":[{\"font\":{\"size\":16},\"showarrow\":false,\"text\":\"2018\",\"x\":0.5,\"xanchor\":\"center\",\"xref\":\"paper\",\"y\":1.0,\"yanchor\":\"bottom\",\"yref\":\"paper\"},{\"font\":{\"size\":16},\"showarrow\":false,\"text\":\"2019\",\"x\":0.5,\"xanchor\":\"center\",\"xref\":\"paper\",\"y\":0.78,\"yanchor\":\"bottom\",\"yref\":\"paper\"},{\"font\":{\"size\":16},\"showarrow\":false,\"text\":\"2020\",\"x\":0.5,\"xanchor\":\"center\",\"xref\":\"paper\",\"y\":0.56,\"yanchor\":\"bottom\",\"yref\":\"paper\"},{\"font\":{\"size\":16},\"showarrow\":false,\"text\":\"2021\",\"x\":0.5,\"xanchor\":\"center\",\"xref\":\"paper\",\"y\":0.33999999999999997,\"yanchor\":\"bottom\",\"yref\":\"paper\"},{\"font\":{\"size\":16},\"showarrow\":false,\"text\":\"2022\",\"x\":0.5,\"xanchor\":\"center\",\"xref\":\"paper\",\"y\":0.12,\"yanchor\":\"bottom\",\"yref\":\"paper\"}],\"font\":{\"family\":\"Arial\",\"size\":18,\"color\":\"RebeccaPurple\"},\"hoverlabel\":{\"font\":{\"family\":\"Arial\",\"size\":14}},\"title\":{\"text\":\"Contrata\\u00e7\\u00e3o de consultorias\"},\"showlegend\":false,\"height\":700,\"width\":1000},                        {\"responsive\": true}                    ).then(function(){\n",
              "                            \n",
              "var gd = document.getElementById('1e233024-6c72-4e57-87cf-9045ea4121a5');\n",
              "var x = new MutationObserver(function (mutations, observer) {{\n",
              "        var display = window.getComputedStyle(gd).display;\n",
              "        if (!display || display === 'none') {{\n",
              "            console.log([gd, 'removed!']);\n",
              "            Plotly.purge(gd);\n",
              "            observer.disconnect();\n",
              "        }}\n",
              "}});\n",
              "\n",
              "// Listen for the removal of the full notebook cells\n",
              "var notebookContainer = gd.closest('#notebook-container');\n",
              "if (notebookContainer) {{\n",
              "    x.observe(notebookContainer, {childList: true});\n",
              "}}\n",
              "\n",
              "// Listen for the clearing of the current output cell\n",
              "var outputEl = gd.closest('.output');\n",
              "if (outputEl) {{\n",
              "    x.observe(outputEl, {childList: true});\n",
              "}}\n",
              "\n",
              "                        })                };                            </script>        </div>\n",
              "</body>\n",
              "</html>"
            ]
          },
          "metadata": {}
        }
      ]
    },
    {
      "cell_type": "code",
      "source": [
        "fig_despesa = make_subplots(rows=5, cols=1, subplot_titles=('2018', '2019', '2020', '2021', '2022'))\n",
        "fig_despesa.add_trace(go.Scatter(x=df_despesa_ceaps_by_ano_mes_despesa.query('(ano == 2018) and (tipo_despesa.str.contains(\"Divulgação da atividade parlamentar\"))', engine='python')['mes'],\n",
        "                    y=df_despesa_ceaps_by_ano_mes_despesa.query('(ano == 2018) and (tipo_despesa.str.contains(\"Divulgação da atividade parlamentar\"))', engine='python')['valor_total'],\n",
        "                    line_shape='linear', hovertemplate='Total: R$ %{y:,.2f}'+'<br>Mês: %{x}', name=\"\"), row=1, col=1)\n",
        "fig_despesa.add_trace(go.Scatter(x=df_despesa_ceaps_by_ano_mes_despesa.query('(ano == 2019) and (tipo_despesa.str.contains(\"Divulgação da atividade parlamentar\"))', engine='python')['mes'],\n",
        "                    y=df_despesa_ceaps_by_ano_mes_despesa.query('(ano == 2019) and (tipo_despesa.str.contains(\"Divulgação da atividade parlamentar\"))', engine='python')['valor_total'],\n",
        "                    line_shape='linear', hovertemplate='Total: R$ %{y:,.2f}'+'<br>Mês: %{x}', name=\"\"), row=2, col=1)\n",
        "fig_despesa.add_trace(go.Scatter(x=df_despesa_ceaps_by_ano_mes_despesa.query('(ano == 2020) and (tipo_despesa.str.contains(\"Divulgação da atividade parlamentar\"))', engine='python')['mes'],\n",
        "                    y=df_despesa_ceaps_by_ano_mes_despesa.query('(ano == 2020) and (tipo_despesa.str.contains(\"Divulgação da atividade parlamentar\"))', engine='python')['valor_total'],\n",
        "                    line_shape='linear', hovertemplate='Total: R$ %{y:,.2f}'+'<br>Mês: %{x}', name=\"\"), row=3, col=1)\n",
        "fig_despesa.add_trace(go.Scatter(x=df_despesa_ceaps_by_ano_mes_despesa.query('(ano == 2021) and (tipo_despesa.str.contains(\"Divulgação da atividade parlamentar\"))', engine='python')['mes'],\n",
        "                    y=df_despesa_ceaps_by_ano_mes_despesa.query('(ano == 2021) and (tipo_despesa.str.contains(\"Divulgação da atividade parlamentar\"))', engine='python')['valor_total'],\n",
        "                    line_shape='linear', hovertemplate='Total: R$ %{y:,.2f}'+'<br>Mês: %{x}', name=\"\"), row=4, col=1)\n",
        "fig_despesa.add_trace(go.Scatter(x=df_despesa_ceaps_by_ano_mes_despesa.query('(ano == 2022) and (tipo_despesa.str.contains(\"Divulgação da atividade parlamentar\"))', engine='python')['mes'],\n",
        "                    y=df_despesa_ceaps_by_ano_mes_despesa.query('(ano == 2022) and (tipo_despesa.str.contains(\"Divulgação da atividade parlamentar\"))', engine='python')['valor_total'],\n",
        "                    line_shape='linear', hovertemplate='Total: R$ %{y:,.2f}'+'<br>Mês: %{x}', name=\"\"), row=5, col=1)\n",
        "\n",
        "fig_despesa.update_xaxes(title_font_size=18, tickfont_size=16)\n",
        "fig_despesa.update_yaxes(title_font_size=18, tickfont_size=16)\n",
        "fig_despesa.update_layout(\n",
        "    font_family=\"Arial\",\n",
        "    hoverlabel_font_family=\"Arial\",\n",
        "    title_text=\"Divulgação da atividade parlamentar\",\n",
        "    hoverlabel_font_size=14,\n",
        "    showlegend=False,\n",
        "    height=700, \n",
        "    width=1000,\n",
        "    font=dict(\n",
        "        size=18,\n",
        "        color=\"RebeccaPurple\"\n",
        "    )\n",
        ")\n",
        "fig_despesa.show(renderer='colab')"
      ],
      "metadata": {
        "id": "ytLtnec6eIwG",
        "colab": {
          "base_uri": "https://localhost:8080/",
          "height": 717
        },
        "outputId": "96c72419-67b4-47b2-b024-800020f89097"
      },
      "execution_count": null,
      "outputs": [
        {
          "output_type": "display_data",
          "data": {
            "text/html": [
              "<html>\n",
              "<head><meta charset=\"utf-8\" /></head>\n",
              "<body>\n",
              "    <div>            <script src=\"https://cdnjs.cloudflare.com/ajax/libs/mathjax/2.7.5/MathJax.js?config=TeX-AMS-MML_SVG\"></script><script type=\"text/javascript\">if (window.MathJax) {MathJax.Hub.Config({SVG: {font: \"STIX-Web\"}});}</script>                <script type=\"text/javascript\">window.PlotlyConfig = {MathJaxConfig: 'local'};</script>\n",
              "        <script src=\"https://cdn.plot.ly/plotly-2.8.3.min.js\"></script>                <div id=\"0e61ff0e-bf0c-499c-b0ce-3016a2fe534d\" class=\"plotly-graph-div\" style=\"height:700px; width:1000px;\"></div>            <script type=\"text/javascript\">                                    window.PLOTLYENV=window.PLOTLYENV || {};                                    if (document.getElementById(\"0e61ff0e-bf0c-499c-b0ce-3016a2fe534d\")) {                    Plotly.newPlot(                        \"0e61ff0e-bf0c-499c-b0ce-3016a2fe534d\",                        [{\"hovertemplate\":\"Total: R$ %{y:,.2f}<br>M\\u00eas: %{x}\",\"line\":{\"shape\":\"linear\"},\"name\":\"\",\"x\":[\"Jan\",\"Feb\",\"Mar\",\"Abr\",\"Mai\",\"Jun\",\"Jul\",\"Ago\",\"Set\",\"Out\",\"Nov\",\"Des\"],\"y\":[172204.16,315778.34,481713.28,283047.88,93859.0,63200.0,90800.0,36266.75,45675.33,131336.8,133528.09,511543.33999999997],\"type\":\"scatter\",\"xaxis\":\"x\",\"yaxis\":\"y\"},{\"hovertemplate\":\"Total: R$ %{y:,.2f}<br>M\\u00eas: %{x}\",\"line\":{\"shape\":\"linear\"},\"name\":\"\",\"x\":[\"Jan\",\"Feb\",\"Mar\",\"Abr\",\"Mai\",\"Jun\",\"Jul\",\"Ago\",\"Set\",\"Out\",\"Nov\",\"Des\"],\"y\":[241117.56,124012.45,240356.95,127333.79,172875.19,189256.89,172435.96,150827.42,199674.55,174933.85,208154.19,450038.52],\"type\":\"scatter\",\"xaxis\":\"x2\",\"yaxis\":\"y2\"},{\"hovertemplate\":\"Total: R$ %{y:,.2f}<br>M\\u00eas: %{x}\",\"line\":{\"shape\":\"linear\"},\"name\":\"\",\"x\":[\"Jan\",\"Feb\",\"Mar\",\"Abr\",\"Mai\",\"Jun\",\"Jul\",\"Ago\",\"Set\",\"Out\",\"Nov\",\"Des\"],\"y\":[110227.14,145269.73,190250.92,173025.31,144064.58,213802.87,241742.69,227235.45,202801.61,220233.55,302646.3,421932.21],\"type\":\"scatter\",\"xaxis\":\"x3\",\"yaxis\":\"y3\"},{\"hovertemplate\":\"Total: R$ %{y:,.2f}<br>M\\u00eas: %{x}\",\"line\":{\"shape\":\"linear\"},\"name\":\"\",\"x\":[\"Jan\",\"Feb\",\"Mar\",\"Abr\",\"Mai\",\"Jun\",\"Jul\",\"Ago\",\"Set\",\"Out\",\"Nov\",\"Des\"],\"y\":[211425.19,197761.68,856423.26,263655.62,304588.17,338504.16,351595.56,378513.3,251554.55,296154.5,377653.17,586237.84],\"type\":\"scatter\",\"xaxis\":\"x4\",\"yaxis\":\"y4\"},{\"hovertemplate\":\"Total: R$ %{y:,.2f}<br>M\\u00eas: %{x}\",\"line\":{\"shape\":\"linear\"},\"name\":\"\",\"x\":[\"Jan\",\"Feb\",\"Mar\",\"Abr\",\"Mai\"],\"y\":[287781.44,448255.4,457345.83,210016.98,76544.4],\"type\":\"scatter\",\"xaxis\":\"x5\",\"yaxis\":\"y5\"}],                        {\"template\":{\"data\":{\"bar\":[{\"error_x\":{\"color\":\"#2a3f5f\"},\"error_y\":{\"color\":\"#2a3f5f\"},\"marker\":{\"line\":{\"color\":\"#E5ECF6\",\"width\":0.5},\"pattern\":{\"fillmode\":\"overlay\",\"size\":10,\"solidity\":0.2}},\"type\":\"bar\"}],\"barpolar\":[{\"marker\":{\"line\":{\"color\":\"#E5ECF6\",\"width\":0.5},\"pattern\":{\"fillmode\":\"overlay\",\"size\":10,\"solidity\":0.2}},\"type\":\"barpolar\"}],\"carpet\":[{\"aaxis\":{\"endlinecolor\":\"#2a3f5f\",\"gridcolor\":\"white\",\"linecolor\":\"white\",\"minorgridcolor\":\"white\",\"startlinecolor\":\"#2a3f5f\"},\"baxis\":{\"endlinecolor\":\"#2a3f5f\",\"gridcolor\":\"white\",\"linecolor\":\"white\",\"minorgridcolor\":\"white\",\"startlinecolor\":\"#2a3f5f\"},\"type\":\"carpet\"}],\"choropleth\":[{\"colorbar\":{\"outlinewidth\":0,\"ticks\":\"\"},\"type\":\"choropleth\"}],\"contour\":[{\"colorbar\":{\"outlinewidth\":0,\"ticks\":\"\"},\"colorscale\":[[0.0,\"#0d0887\"],[0.1111111111111111,\"#46039f\"],[0.2222222222222222,\"#7201a8\"],[0.3333333333333333,\"#9c179e\"],[0.4444444444444444,\"#bd3786\"],[0.5555555555555556,\"#d8576b\"],[0.6666666666666666,\"#ed7953\"],[0.7777777777777778,\"#fb9f3a\"],[0.8888888888888888,\"#fdca26\"],[1.0,\"#f0f921\"]],\"type\":\"contour\"}],\"contourcarpet\":[{\"colorbar\":{\"outlinewidth\":0,\"ticks\":\"\"},\"type\":\"contourcarpet\"}],\"heatmap\":[{\"colorbar\":{\"outlinewidth\":0,\"ticks\":\"\"},\"colorscale\":[[0.0,\"#0d0887\"],[0.1111111111111111,\"#46039f\"],[0.2222222222222222,\"#7201a8\"],[0.3333333333333333,\"#9c179e\"],[0.4444444444444444,\"#bd3786\"],[0.5555555555555556,\"#d8576b\"],[0.6666666666666666,\"#ed7953\"],[0.7777777777777778,\"#fb9f3a\"],[0.8888888888888888,\"#fdca26\"],[1.0,\"#f0f921\"]],\"type\":\"heatmap\"}],\"heatmapgl\":[{\"colorbar\":{\"outlinewidth\":0,\"ticks\":\"\"},\"colorscale\":[[0.0,\"#0d0887\"],[0.1111111111111111,\"#46039f\"],[0.2222222222222222,\"#7201a8\"],[0.3333333333333333,\"#9c179e\"],[0.4444444444444444,\"#bd3786\"],[0.5555555555555556,\"#d8576b\"],[0.6666666666666666,\"#ed7953\"],[0.7777777777777778,\"#fb9f3a\"],[0.8888888888888888,\"#fdca26\"],[1.0,\"#f0f921\"]],\"type\":\"heatmapgl\"}],\"histogram\":[{\"marker\":{\"pattern\":{\"fillmode\":\"overlay\",\"size\":10,\"solidity\":0.2}},\"type\":\"histogram\"}],\"histogram2d\":[{\"colorbar\":{\"outlinewidth\":0,\"ticks\":\"\"},\"colorscale\":[[0.0,\"#0d0887\"],[0.1111111111111111,\"#46039f\"],[0.2222222222222222,\"#7201a8\"],[0.3333333333333333,\"#9c179e\"],[0.4444444444444444,\"#bd3786\"],[0.5555555555555556,\"#d8576b\"],[0.6666666666666666,\"#ed7953\"],[0.7777777777777778,\"#fb9f3a\"],[0.8888888888888888,\"#fdca26\"],[1.0,\"#f0f921\"]],\"type\":\"histogram2d\"}],\"histogram2dcontour\":[{\"colorbar\":{\"outlinewidth\":0,\"ticks\":\"\"},\"colorscale\":[[0.0,\"#0d0887\"],[0.1111111111111111,\"#46039f\"],[0.2222222222222222,\"#7201a8\"],[0.3333333333333333,\"#9c179e\"],[0.4444444444444444,\"#bd3786\"],[0.5555555555555556,\"#d8576b\"],[0.6666666666666666,\"#ed7953\"],[0.7777777777777778,\"#fb9f3a\"],[0.8888888888888888,\"#fdca26\"],[1.0,\"#f0f921\"]],\"type\":\"histogram2dcontour\"}],\"mesh3d\":[{\"colorbar\":{\"outlinewidth\":0,\"ticks\":\"\"},\"type\":\"mesh3d\"}],\"parcoords\":[{\"line\":{\"colorbar\":{\"outlinewidth\":0,\"ticks\":\"\"}},\"type\":\"parcoords\"}],\"pie\":[{\"automargin\":true,\"type\":\"pie\"}],\"scatter\":[{\"marker\":{\"colorbar\":{\"outlinewidth\":0,\"ticks\":\"\"}},\"type\":\"scatter\"}],\"scatter3d\":[{\"line\":{\"colorbar\":{\"outlinewidth\":0,\"ticks\":\"\"}},\"marker\":{\"colorbar\":{\"outlinewidth\":0,\"ticks\":\"\"}},\"type\":\"scatter3d\"}],\"scattercarpet\":[{\"marker\":{\"colorbar\":{\"outlinewidth\":0,\"ticks\":\"\"}},\"type\":\"scattercarpet\"}],\"scattergeo\":[{\"marker\":{\"colorbar\":{\"outlinewidth\":0,\"ticks\":\"\"}},\"type\":\"scattergeo\"}],\"scattergl\":[{\"marker\":{\"colorbar\":{\"outlinewidth\":0,\"ticks\":\"\"}},\"type\":\"scattergl\"}],\"scattermapbox\":[{\"marker\":{\"colorbar\":{\"outlinewidth\":0,\"ticks\":\"\"}},\"type\":\"scattermapbox\"}],\"scatterpolar\":[{\"marker\":{\"colorbar\":{\"outlinewidth\":0,\"ticks\":\"\"}},\"type\":\"scatterpolar\"}],\"scatterpolargl\":[{\"marker\":{\"colorbar\":{\"outlinewidth\":0,\"ticks\":\"\"}},\"type\":\"scatterpolargl\"}],\"scatterternary\":[{\"marker\":{\"colorbar\":{\"outlinewidth\":0,\"ticks\":\"\"}},\"type\":\"scatterternary\"}],\"surface\":[{\"colorbar\":{\"outlinewidth\":0,\"ticks\":\"\"},\"colorscale\":[[0.0,\"#0d0887\"],[0.1111111111111111,\"#46039f\"],[0.2222222222222222,\"#7201a8\"],[0.3333333333333333,\"#9c179e\"],[0.4444444444444444,\"#bd3786\"],[0.5555555555555556,\"#d8576b\"],[0.6666666666666666,\"#ed7953\"],[0.7777777777777778,\"#fb9f3a\"],[0.8888888888888888,\"#fdca26\"],[1.0,\"#f0f921\"]],\"type\":\"surface\"}],\"table\":[{\"cells\":{\"fill\":{\"color\":\"#EBF0F8\"},\"line\":{\"color\":\"white\"}},\"header\":{\"fill\":{\"color\":\"#C8D4E3\"},\"line\":{\"color\":\"white\"}},\"type\":\"table\"}]},\"layout\":{\"annotationdefaults\":{\"arrowcolor\":\"#2a3f5f\",\"arrowhead\":0,\"arrowwidth\":1},\"autotypenumbers\":\"strict\",\"coloraxis\":{\"colorbar\":{\"outlinewidth\":0,\"ticks\":\"\"}},\"colorscale\":{\"diverging\":[[0,\"#8e0152\"],[0.1,\"#c51b7d\"],[0.2,\"#de77ae\"],[0.3,\"#f1b6da\"],[0.4,\"#fde0ef\"],[0.5,\"#f7f7f7\"],[0.6,\"#e6f5d0\"],[0.7,\"#b8e186\"],[0.8,\"#7fbc41\"],[0.9,\"#4d9221\"],[1,\"#276419\"]],\"sequential\":[[0.0,\"#0d0887\"],[0.1111111111111111,\"#46039f\"],[0.2222222222222222,\"#7201a8\"],[0.3333333333333333,\"#9c179e\"],[0.4444444444444444,\"#bd3786\"],[0.5555555555555556,\"#d8576b\"],[0.6666666666666666,\"#ed7953\"],[0.7777777777777778,\"#fb9f3a\"],[0.8888888888888888,\"#fdca26\"],[1.0,\"#f0f921\"]],\"sequentialminus\":[[0.0,\"#0d0887\"],[0.1111111111111111,\"#46039f\"],[0.2222222222222222,\"#7201a8\"],[0.3333333333333333,\"#9c179e\"],[0.4444444444444444,\"#bd3786\"],[0.5555555555555556,\"#d8576b\"],[0.6666666666666666,\"#ed7953\"],[0.7777777777777778,\"#fb9f3a\"],[0.8888888888888888,\"#fdca26\"],[1.0,\"#f0f921\"]]},\"colorway\":[\"#636efa\",\"#EF553B\",\"#00cc96\",\"#ab63fa\",\"#FFA15A\",\"#19d3f3\",\"#FF6692\",\"#B6E880\",\"#FF97FF\",\"#FECB52\"],\"font\":{\"color\":\"#2a3f5f\"},\"geo\":{\"bgcolor\":\"white\",\"lakecolor\":\"white\",\"landcolor\":\"#E5ECF6\",\"showlakes\":true,\"showland\":true,\"subunitcolor\":\"white\"},\"hoverlabel\":{\"align\":\"left\"},\"hovermode\":\"closest\",\"mapbox\":{\"style\":\"light\"},\"paper_bgcolor\":\"white\",\"plot_bgcolor\":\"#E5ECF6\",\"polar\":{\"angularaxis\":{\"gridcolor\":\"white\",\"linecolor\":\"white\",\"ticks\":\"\"},\"bgcolor\":\"#E5ECF6\",\"radialaxis\":{\"gridcolor\":\"white\",\"linecolor\":\"white\",\"ticks\":\"\"}},\"scene\":{\"xaxis\":{\"backgroundcolor\":\"#E5ECF6\",\"gridcolor\":\"white\",\"gridwidth\":2,\"linecolor\":\"white\",\"showbackground\":true,\"ticks\":\"\",\"zerolinecolor\":\"white\"},\"yaxis\":{\"backgroundcolor\":\"#E5ECF6\",\"gridcolor\":\"white\",\"gridwidth\":2,\"linecolor\":\"white\",\"showbackground\":true,\"ticks\":\"\",\"zerolinecolor\":\"white\"},\"zaxis\":{\"backgroundcolor\":\"#E5ECF6\",\"gridcolor\":\"white\",\"gridwidth\":2,\"linecolor\":\"white\",\"showbackground\":true,\"ticks\":\"\",\"zerolinecolor\":\"white\"}},\"shapedefaults\":{\"line\":{\"color\":\"#2a3f5f\"}},\"ternary\":{\"aaxis\":{\"gridcolor\":\"white\",\"linecolor\":\"white\",\"ticks\":\"\"},\"baxis\":{\"gridcolor\":\"white\",\"linecolor\":\"white\",\"ticks\":\"\"},\"bgcolor\":\"#E5ECF6\",\"caxis\":{\"gridcolor\":\"white\",\"linecolor\":\"white\",\"ticks\":\"\"}},\"title\":{\"x\":0.05},\"xaxis\":{\"automargin\":true,\"gridcolor\":\"white\",\"linecolor\":\"white\",\"ticks\":\"\",\"title\":{\"standoff\":15},\"zerolinecolor\":\"white\",\"zerolinewidth\":2},\"yaxis\":{\"automargin\":true,\"gridcolor\":\"white\",\"linecolor\":\"white\",\"ticks\":\"\",\"title\":{\"standoff\":15},\"zerolinecolor\":\"white\",\"zerolinewidth\":2}}},\"xaxis\":{\"anchor\":\"y\",\"domain\":[0.0,1.0],\"title\":{\"font\":{\"size\":18}},\"tickfont\":{\"size\":16}},\"yaxis\":{\"anchor\":\"x\",\"domain\":[0.88,1.0],\"title\":{\"font\":{\"size\":18}},\"tickfont\":{\"size\":16}},\"xaxis2\":{\"anchor\":\"y2\",\"domain\":[0.0,1.0],\"title\":{\"font\":{\"size\":18}},\"tickfont\":{\"size\":16}},\"yaxis2\":{\"anchor\":\"x2\",\"domain\":[0.66,0.78],\"title\":{\"font\":{\"size\":18}},\"tickfont\":{\"size\":16}},\"xaxis3\":{\"anchor\":\"y3\",\"domain\":[0.0,1.0],\"title\":{\"font\":{\"size\":18}},\"tickfont\":{\"size\":16}},\"yaxis3\":{\"anchor\":\"x3\",\"domain\":[0.44,0.56],\"title\":{\"font\":{\"size\":18}},\"tickfont\":{\"size\":16}},\"xaxis4\":{\"anchor\":\"y4\",\"domain\":[0.0,1.0],\"title\":{\"font\":{\"size\":18}},\"tickfont\":{\"size\":16}},\"yaxis4\":{\"anchor\":\"x4\",\"domain\":[0.22,0.33999999999999997],\"title\":{\"font\":{\"size\":18}},\"tickfont\":{\"size\":16}},\"xaxis5\":{\"anchor\":\"y5\",\"domain\":[0.0,1.0],\"title\":{\"font\":{\"size\":18}},\"tickfont\":{\"size\":16}},\"yaxis5\":{\"anchor\":\"x5\",\"domain\":[0.0,0.12],\"title\":{\"font\":{\"size\":18}},\"tickfont\":{\"size\":16}},\"annotations\":[{\"font\":{\"size\":16},\"showarrow\":false,\"text\":\"2018\",\"x\":0.5,\"xanchor\":\"center\",\"xref\":\"paper\",\"y\":1.0,\"yanchor\":\"bottom\",\"yref\":\"paper\"},{\"font\":{\"size\":16},\"showarrow\":false,\"text\":\"2019\",\"x\":0.5,\"xanchor\":\"center\",\"xref\":\"paper\",\"y\":0.78,\"yanchor\":\"bottom\",\"yref\":\"paper\"},{\"font\":{\"size\":16},\"showarrow\":false,\"text\":\"2020\",\"x\":0.5,\"xanchor\":\"center\",\"xref\":\"paper\",\"y\":0.56,\"yanchor\":\"bottom\",\"yref\":\"paper\"},{\"font\":{\"size\":16},\"showarrow\":false,\"text\":\"2021\",\"x\":0.5,\"xanchor\":\"center\",\"xref\":\"paper\",\"y\":0.33999999999999997,\"yanchor\":\"bottom\",\"yref\":\"paper\"},{\"font\":{\"size\":16},\"showarrow\":false,\"text\":\"2022\",\"x\":0.5,\"xanchor\":\"center\",\"xref\":\"paper\",\"y\":0.12,\"yanchor\":\"bottom\",\"yref\":\"paper\"}],\"font\":{\"family\":\"Arial\",\"size\":18,\"color\":\"RebeccaPurple\"},\"hoverlabel\":{\"font\":{\"family\":\"Arial\",\"size\":14}},\"title\":{\"text\":\"Divulga\\u00e7\\u00e3o da atividade parlamentar\"},\"showlegend\":false,\"height\":700,\"width\":1000},                        {\"responsive\": true}                    ).then(function(){\n",
              "                            \n",
              "var gd = document.getElementById('0e61ff0e-bf0c-499c-b0ce-3016a2fe534d');\n",
              "var x = new MutationObserver(function (mutations, observer) {{\n",
              "        var display = window.getComputedStyle(gd).display;\n",
              "        if (!display || display === 'none') {{\n",
              "            console.log([gd, 'removed!']);\n",
              "            Plotly.purge(gd);\n",
              "            observer.disconnect();\n",
              "        }}\n",
              "}});\n",
              "\n",
              "// Listen for the removal of the full notebook cells\n",
              "var notebookContainer = gd.closest('#notebook-container');\n",
              "if (notebookContainer) {{\n",
              "    x.observe(notebookContainer, {childList: true});\n",
              "}}\n",
              "\n",
              "// Listen for the clearing of the current output cell\n",
              "var outputEl = gd.closest('.output');\n",
              "if (outputEl) {{\n",
              "    x.observe(outputEl, {childList: true});\n",
              "}}\n",
              "\n",
              "                        })                };                            </script>        </div>\n",
              "</body>\n",
              "</html>"
            ]
          },
          "metadata": {}
        }
      ]
    },
    {
      "cell_type": "code",
      "source": [
        "fig_despesa = make_subplots(rows=5, cols=1, subplot_titles=('2018', '2019', '2020', '2021', '2022'))\n",
        "fig_despesa.add_trace(go.Scatter(x=df_despesa_ceaps_by_ano_mes_despesa.query('(ano == 2018) and (tipo_despesa.str.contains(\"Serviços de Segurança Privada\"))', engine='python')['mes'],\n",
        "                    y=df_despesa_ceaps_by_ano_mes_despesa.query('(ano == 2018) and (tipo_despesa.str.contains(\"Serviços de Segurança Privada\"))', engine='python')['valor_total'],\n",
        "                    line_shape='linear', hovertemplate='Total: R$ %{y:,.2f}'+'<br>Mês: %{x}', name=\"\"), row=1, col=1)\n",
        "fig_despesa.add_trace(go.Scatter(x=df_despesa_ceaps_by_ano_mes_despesa.query('(ano == 2019) and (tipo_despesa.str.contains(\"Serviços de Segurança Privada\"))', engine='python')['mes'],\n",
        "                    y=df_despesa_ceaps_by_ano_mes_despesa.query('(ano == 2019) and (tipo_despesa.str.contains(\"Serviços de Segurança Privada\"))', engine='python')['valor_total'],\n",
        "                    line_shape='linear', hovertemplate='Total: R$ %{y:,.2f}'+'<br>Mês: %{x}', name=\"\"), row=2, col=1)\n",
        "fig_despesa.add_trace(go.Scatter(x=df_despesa_ceaps_by_ano_mes_despesa.query('(ano == 2020) and (tipo_despesa.str.contains(\"Serviços de Segurança Privada\"))', engine='python')['mes'],\n",
        "                    y=df_despesa_ceaps_by_ano_mes_despesa.query('(ano == 2020) and (tipo_despesa.str.contains(\"Serviços de Segurança Privada\"))', engine='python')['valor_total'],\n",
        "                    line_shape='linear', hovertemplate='Total: R$ %{y:,.2f}'+'<br>Mês: %{x}', name=\"\"), row=3, col=1)\n",
        "fig_despesa.add_trace(go.Scatter(x=df_despesa_ceaps_by_ano_mes_despesa.query('(ano == 2021) and (tipo_despesa.str.contains(\"Serviços de Segurança Privada\"))', engine='python')['mes'],\n",
        "                    y=df_despesa_ceaps_by_ano_mes_despesa.query('(ano == 2021) and (tipo_despesa.str.contains(\"Serviços de Segurança Privada\"))', engine='python')['valor_total'],\n",
        "                    line_shape='linear', hovertemplate='Total: R$ %{y:,.2f}'+'<br>Mês: %{x}', name=\"\"), row=4, col=1)\n",
        "fig_despesa.add_trace(go.Scatter(x=df_despesa_ceaps_by_ano_mes_despesa.query('(ano == 2022) and (tipo_despesa.str.contains(\"Serviços de Segurança Privada\"))', engine='python')['mes'],\n",
        "                    y=df_despesa_ceaps_by_ano_mes_despesa.query('(ano == 2022) and (tipo_despesa.str.contains(\"Serviços de Segurança Privada\"))', engine='python')['valor_total'],\n",
        "                    line_shape='linear', hovertemplate='Total: R$ %{y:,.2f}'+'<br>Mês: %{x}', name=\"\"), row=5, col=1)\n",
        "\n",
        "fig_despesa.update_xaxes(title_font_size=18, tickfont_size=16)\n",
        "fig_despesa.update_yaxes(title_font_size=18, tickfont_size=16)\n",
        "fig_despesa.update_layout(\n",
        "    font_family=\"Arial\",\n",
        "    hoverlabel_font_family=\"Arial\",\n",
        "    title_text=\"Serviços de Segurança Privada\",\n",
        "    hoverlabel_font_size=14,\n",
        "    showlegend=False,\n",
        "    height=700, \n",
        "    width=1000,\n",
        "    font=dict(\n",
        "        size=18,\n",
        "        color=\"RebeccaPurple\"\n",
        "    )\n",
        ")\n",
        "fig_despesa.show(renderer='colab')"
      ],
      "metadata": {
        "id": "6i0Zpr-teNFl",
        "colab": {
          "base_uri": "https://localhost:8080/",
          "height": 717
        },
        "outputId": "67a863b2-2ab2-4526-9fbc-a95e15774563"
      },
      "execution_count": null,
      "outputs": [
        {
          "output_type": "display_data",
          "data": {
            "text/html": [
              "<html>\n",
              "<head><meta charset=\"utf-8\" /></head>\n",
              "<body>\n",
              "    <div>            <script src=\"https://cdnjs.cloudflare.com/ajax/libs/mathjax/2.7.5/MathJax.js?config=TeX-AMS-MML_SVG\"></script><script type=\"text/javascript\">if (window.MathJax) {MathJax.Hub.Config({SVG: {font: \"STIX-Web\"}});}</script>                <script type=\"text/javascript\">window.PlotlyConfig = {MathJaxConfig: 'local'};</script>\n",
              "        <script src=\"https://cdn.plot.ly/plotly-2.8.3.min.js\"></script>                <div id=\"1994f14a-0e2f-4768-b007-3aeb12dbd866\" class=\"plotly-graph-div\" style=\"height:700px; width:1000px;\"></div>            <script type=\"text/javascript\">                                    window.PLOTLYENV=window.PLOTLYENV || {};                                    if (document.getElementById(\"1994f14a-0e2f-4768-b007-3aeb12dbd866\")) {                    Plotly.newPlot(                        \"1994f14a-0e2f-4768-b007-3aeb12dbd866\",                        [{\"hovertemplate\":\"Total: R$ %{y:,.2f}<br>M\\u00eas: %{x}\",\"line\":{\"shape\":\"linear\"},\"name\":\"\",\"x\":[\"Jan\",\"Feb\",\"Mar\",\"Abr\",\"Mai\",\"Jun\",\"Jul\",\"Ago\",\"Set\",\"Out\",\"Nov\",\"Des\"],\"y\":[2269.88,26097.93,24096.18,49886.35,4410.2699999999995,8757.38,4422.11,4347.11,4347.11,28805.48,5135.969999999999,9566.04],\"type\":\"scatter\",\"xaxis\":\"x\",\"yaxis\":\"y\"},{\"hovertemplate\":\"Total: R$ %{y:,.2f}<br>M\\u00eas: %{x}\",\"line\":{\"shape\":\"linear\"},\"name\":\"\",\"x\":[\"Jan\",\"Feb\",\"Mar\",\"Abr\",\"Mai\",\"Jun\",\"Set\",\"Des\"],\"y\":[110.16,17990.0,4542.0,3000.0,1875.67,1300.0,5400.0,7652.76],\"type\":\"scatter\",\"xaxis\":\"x2\",\"yaxis\":\"y2\"},{\"hovertemplate\":\"Total: R$ %{y:,.2f}<br>M\\u00eas: %{x}\",\"line\":{\"shape\":\"linear\"},\"name\":\"\",\"x\":[\"Jan\",\"Feb\",\"Mar\",\"Abr\",\"Mai\",\"Jun\",\"Jul\",\"Ago\",\"Set\",\"Out\",\"Nov\",\"Des\"],\"y\":[2217.35,1806.57,2367.84,2262.9,2229.45,626.0699999999999,626.0699999999999,626.0699999999999,626.0699999999999,7826.07,16431.45,2426.0699999999997],\"type\":\"scatter\",\"xaxis\":\"x3\",\"yaxis\":\"y3\"},{\"hovertemplate\":\"Total: R$ %{y:,.2f}<br>M\\u00eas: %{x}\",\"line\":{\"shape\":\"linear\"},\"name\":\"\",\"x\":[\"Jan\",\"Feb\",\"Mar\",\"Abr\",\"Mai\",\"Jun\",\"Jul\",\"Ago\",\"Set\",\"Out\",\"Nov\",\"Des\"],\"y\":[2031.45,2426.0699999999997,2194.62,10826.07,2871.45,1351.8899999999999,17281.440000000002,1552.8899999999999,481.44,1132.89,901.44,901.44],\"type\":\"scatter\",\"xaxis\":\"x4\",\"yaxis\":\"y4\"},{\"hovertemplate\":\"Total: R$ %{y:,.2f}<br>M\\u00eas: %{x}\",\"line\":{\"shape\":\"linear\"},\"name\":\"\",\"x\":[\"Jan\",\"Mar\",\"Abr\"],\"y\":[931.89,1215.8899999999999,481.44],\"type\":\"scatter\",\"xaxis\":\"x5\",\"yaxis\":\"y5\"}],                        {\"template\":{\"data\":{\"bar\":[{\"error_x\":{\"color\":\"#2a3f5f\"},\"error_y\":{\"color\":\"#2a3f5f\"},\"marker\":{\"line\":{\"color\":\"#E5ECF6\",\"width\":0.5},\"pattern\":{\"fillmode\":\"overlay\",\"size\":10,\"solidity\":0.2}},\"type\":\"bar\"}],\"barpolar\":[{\"marker\":{\"line\":{\"color\":\"#E5ECF6\",\"width\":0.5},\"pattern\":{\"fillmode\":\"overlay\",\"size\":10,\"solidity\":0.2}},\"type\":\"barpolar\"}],\"carpet\":[{\"aaxis\":{\"endlinecolor\":\"#2a3f5f\",\"gridcolor\":\"white\",\"linecolor\":\"white\",\"minorgridcolor\":\"white\",\"startlinecolor\":\"#2a3f5f\"},\"baxis\":{\"endlinecolor\":\"#2a3f5f\",\"gridcolor\":\"white\",\"linecolor\":\"white\",\"minorgridcolor\":\"white\",\"startlinecolor\":\"#2a3f5f\"},\"type\":\"carpet\"}],\"choropleth\":[{\"colorbar\":{\"outlinewidth\":0,\"ticks\":\"\"},\"type\":\"choropleth\"}],\"contour\":[{\"colorbar\":{\"outlinewidth\":0,\"ticks\":\"\"},\"colorscale\":[[0.0,\"#0d0887\"],[0.1111111111111111,\"#46039f\"],[0.2222222222222222,\"#7201a8\"],[0.3333333333333333,\"#9c179e\"],[0.4444444444444444,\"#bd3786\"],[0.5555555555555556,\"#d8576b\"],[0.6666666666666666,\"#ed7953\"],[0.7777777777777778,\"#fb9f3a\"],[0.8888888888888888,\"#fdca26\"],[1.0,\"#f0f921\"]],\"type\":\"contour\"}],\"contourcarpet\":[{\"colorbar\":{\"outlinewidth\":0,\"ticks\":\"\"},\"type\":\"contourcarpet\"}],\"heatmap\":[{\"colorbar\":{\"outlinewidth\":0,\"ticks\":\"\"},\"colorscale\":[[0.0,\"#0d0887\"],[0.1111111111111111,\"#46039f\"],[0.2222222222222222,\"#7201a8\"],[0.3333333333333333,\"#9c179e\"],[0.4444444444444444,\"#bd3786\"],[0.5555555555555556,\"#d8576b\"],[0.6666666666666666,\"#ed7953\"],[0.7777777777777778,\"#fb9f3a\"],[0.8888888888888888,\"#fdca26\"],[1.0,\"#f0f921\"]],\"type\":\"heatmap\"}],\"heatmapgl\":[{\"colorbar\":{\"outlinewidth\":0,\"ticks\":\"\"},\"colorscale\":[[0.0,\"#0d0887\"],[0.1111111111111111,\"#46039f\"],[0.2222222222222222,\"#7201a8\"],[0.3333333333333333,\"#9c179e\"],[0.4444444444444444,\"#bd3786\"],[0.5555555555555556,\"#d8576b\"],[0.6666666666666666,\"#ed7953\"],[0.7777777777777778,\"#fb9f3a\"],[0.8888888888888888,\"#fdca26\"],[1.0,\"#f0f921\"]],\"type\":\"heatmapgl\"}],\"histogram\":[{\"marker\":{\"pattern\":{\"fillmode\":\"overlay\",\"size\":10,\"solidity\":0.2}},\"type\":\"histogram\"}],\"histogram2d\":[{\"colorbar\":{\"outlinewidth\":0,\"ticks\":\"\"},\"colorscale\":[[0.0,\"#0d0887\"],[0.1111111111111111,\"#46039f\"],[0.2222222222222222,\"#7201a8\"],[0.3333333333333333,\"#9c179e\"],[0.4444444444444444,\"#bd3786\"],[0.5555555555555556,\"#d8576b\"],[0.6666666666666666,\"#ed7953\"],[0.7777777777777778,\"#fb9f3a\"],[0.8888888888888888,\"#fdca26\"],[1.0,\"#f0f921\"]],\"type\":\"histogram2d\"}],\"histogram2dcontour\":[{\"colorbar\":{\"outlinewidth\":0,\"ticks\":\"\"},\"colorscale\":[[0.0,\"#0d0887\"],[0.1111111111111111,\"#46039f\"],[0.2222222222222222,\"#7201a8\"],[0.3333333333333333,\"#9c179e\"],[0.4444444444444444,\"#bd3786\"],[0.5555555555555556,\"#d8576b\"],[0.6666666666666666,\"#ed7953\"],[0.7777777777777778,\"#fb9f3a\"],[0.8888888888888888,\"#fdca26\"],[1.0,\"#f0f921\"]],\"type\":\"histogram2dcontour\"}],\"mesh3d\":[{\"colorbar\":{\"outlinewidth\":0,\"ticks\":\"\"},\"type\":\"mesh3d\"}],\"parcoords\":[{\"line\":{\"colorbar\":{\"outlinewidth\":0,\"ticks\":\"\"}},\"type\":\"parcoords\"}],\"pie\":[{\"automargin\":true,\"type\":\"pie\"}],\"scatter\":[{\"marker\":{\"colorbar\":{\"outlinewidth\":0,\"ticks\":\"\"}},\"type\":\"scatter\"}],\"scatter3d\":[{\"line\":{\"colorbar\":{\"outlinewidth\":0,\"ticks\":\"\"}},\"marker\":{\"colorbar\":{\"outlinewidth\":0,\"ticks\":\"\"}},\"type\":\"scatter3d\"}],\"scattercarpet\":[{\"marker\":{\"colorbar\":{\"outlinewidth\":0,\"ticks\":\"\"}},\"type\":\"scattercarpet\"}],\"scattergeo\":[{\"marker\":{\"colorbar\":{\"outlinewidth\":0,\"ticks\":\"\"}},\"type\":\"scattergeo\"}],\"scattergl\":[{\"marker\":{\"colorbar\":{\"outlinewidth\":0,\"ticks\":\"\"}},\"type\":\"scattergl\"}],\"scattermapbox\":[{\"marker\":{\"colorbar\":{\"outlinewidth\":0,\"ticks\":\"\"}},\"type\":\"scattermapbox\"}],\"scatterpolar\":[{\"marker\":{\"colorbar\":{\"outlinewidth\":0,\"ticks\":\"\"}},\"type\":\"scatterpolar\"}],\"scatterpolargl\":[{\"marker\":{\"colorbar\":{\"outlinewidth\":0,\"ticks\":\"\"}},\"type\":\"scatterpolargl\"}],\"scatterternary\":[{\"marker\":{\"colorbar\":{\"outlinewidth\":0,\"ticks\":\"\"}},\"type\":\"scatterternary\"}],\"surface\":[{\"colorbar\":{\"outlinewidth\":0,\"ticks\":\"\"},\"colorscale\":[[0.0,\"#0d0887\"],[0.1111111111111111,\"#46039f\"],[0.2222222222222222,\"#7201a8\"],[0.3333333333333333,\"#9c179e\"],[0.4444444444444444,\"#bd3786\"],[0.5555555555555556,\"#d8576b\"],[0.6666666666666666,\"#ed7953\"],[0.7777777777777778,\"#fb9f3a\"],[0.8888888888888888,\"#fdca26\"],[1.0,\"#f0f921\"]],\"type\":\"surface\"}],\"table\":[{\"cells\":{\"fill\":{\"color\":\"#EBF0F8\"},\"line\":{\"color\":\"white\"}},\"header\":{\"fill\":{\"color\":\"#C8D4E3\"},\"line\":{\"color\":\"white\"}},\"type\":\"table\"}]},\"layout\":{\"annotationdefaults\":{\"arrowcolor\":\"#2a3f5f\",\"arrowhead\":0,\"arrowwidth\":1},\"autotypenumbers\":\"strict\",\"coloraxis\":{\"colorbar\":{\"outlinewidth\":0,\"ticks\":\"\"}},\"colorscale\":{\"diverging\":[[0,\"#8e0152\"],[0.1,\"#c51b7d\"],[0.2,\"#de77ae\"],[0.3,\"#f1b6da\"],[0.4,\"#fde0ef\"],[0.5,\"#f7f7f7\"],[0.6,\"#e6f5d0\"],[0.7,\"#b8e186\"],[0.8,\"#7fbc41\"],[0.9,\"#4d9221\"],[1,\"#276419\"]],\"sequential\":[[0.0,\"#0d0887\"],[0.1111111111111111,\"#46039f\"],[0.2222222222222222,\"#7201a8\"],[0.3333333333333333,\"#9c179e\"],[0.4444444444444444,\"#bd3786\"],[0.5555555555555556,\"#d8576b\"],[0.6666666666666666,\"#ed7953\"],[0.7777777777777778,\"#fb9f3a\"],[0.8888888888888888,\"#fdca26\"],[1.0,\"#f0f921\"]],\"sequentialminus\":[[0.0,\"#0d0887\"],[0.1111111111111111,\"#46039f\"],[0.2222222222222222,\"#7201a8\"],[0.3333333333333333,\"#9c179e\"],[0.4444444444444444,\"#bd3786\"],[0.5555555555555556,\"#d8576b\"],[0.6666666666666666,\"#ed7953\"],[0.7777777777777778,\"#fb9f3a\"],[0.8888888888888888,\"#fdca26\"],[1.0,\"#f0f921\"]]},\"colorway\":[\"#636efa\",\"#EF553B\",\"#00cc96\",\"#ab63fa\",\"#FFA15A\",\"#19d3f3\",\"#FF6692\",\"#B6E880\",\"#FF97FF\",\"#FECB52\"],\"font\":{\"color\":\"#2a3f5f\"},\"geo\":{\"bgcolor\":\"white\",\"lakecolor\":\"white\",\"landcolor\":\"#E5ECF6\",\"showlakes\":true,\"showland\":true,\"subunitcolor\":\"white\"},\"hoverlabel\":{\"align\":\"left\"},\"hovermode\":\"closest\",\"mapbox\":{\"style\":\"light\"},\"paper_bgcolor\":\"white\",\"plot_bgcolor\":\"#E5ECF6\",\"polar\":{\"angularaxis\":{\"gridcolor\":\"white\",\"linecolor\":\"white\",\"ticks\":\"\"},\"bgcolor\":\"#E5ECF6\",\"radialaxis\":{\"gridcolor\":\"white\",\"linecolor\":\"white\",\"ticks\":\"\"}},\"scene\":{\"xaxis\":{\"backgroundcolor\":\"#E5ECF6\",\"gridcolor\":\"white\",\"gridwidth\":2,\"linecolor\":\"white\",\"showbackground\":true,\"ticks\":\"\",\"zerolinecolor\":\"white\"},\"yaxis\":{\"backgroundcolor\":\"#E5ECF6\",\"gridcolor\":\"white\",\"gridwidth\":2,\"linecolor\":\"white\",\"showbackground\":true,\"ticks\":\"\",\"zerolinecolor\":\"white\"},\"zaxis\":{\"backgroundcolor\":\"#E5ECF6\",\"gridcolor\":\"white\",\"gridwidth\":2,\"linecolor\":\"white\",\"showbackground\":true,\"ticks\":\"\",\"zerolinecolor\":\"white\"}},\"shapedefaults\":{\"line\":{\"color\":\"#2a3f5f\"}},\"ternary\":{\"aaxis\":{\"gridcolor\":\"white\",\"linecolor\":\"white\",\"ticks\":\"\"},\"baxis\":{\"gridcolor\":\"white\",\"linecolor\":\"white\",\"ticks\":\"\"},\"bgcolor\":\"#E5ECF6\",\"caxis\":{\"gridcolor\":\"white\",\"linecolor\":\"white\",\"ticks\":\"\"}},\"title\":{\"x\":0.05},\"xaxis\":{\"automargin\":true,\"gridcolor\":\"white\",\"linecolor\":\"white\",\"ticks\":\"\",\"title\":{\"standoff\":15},\"zerolinecolor\":\"white\",\"zerolinewidth\":2},\"yaxis\":{\"automargin\":true,\"gridcolor\":\"white\",\"linecolor\":\"white\",\"ticks\":\"\",\"title\":{\"standoff\":15},\"zerolinecolor\":\"white\",\"zerolinewidth\":2}}},\"xaxis\":{\"anchor\":\"y\",\"domain\":[0.0,1.0],\"title\":{\"font\":{\"size\":18}},\"tickfont\":{\"size\":16}},\"yaxis\":{\"anchor\":\"x\",\"domain\":[0.88,1.0],\"title\":{\"font\":{\"size\":18}},\"tickfont\":{\"size\":16}},\"xaxis2\":{\"anchor\":\"y2\",\"domain\":[0.0,1.0],\"title\":{\"font\":{\"size\":18}},\"tickfont\":{\"size\":16}},\"yaxis2\":{\"anchor\":\"x2\",\"domain\":[0.66,0.78],\"title\":{\"font\":{\"size\":18}},\"tickfont\":{\"size\":16}},\"xaxis3\":{\"anchor\":\"y3\",\"domain\":[0.0,1.0],\"title\":{\"font\":{\"size\":18}},\"tickfont\":{\"size\":16}},\"yaxis3\":{\"anchor\":\"x3\",\"domain\":[0.44,0.56],\"title\":{\"font\":{\"size\":18}},\"tickfont\":{\"size\":16}},\"xaxis4\":{\"anchor\":\"y4\",\"domain\":[0.0,1.0],\"title\":{\"font\":{\"size\":18}},\"tickfont\":{\"size\":16}},\"yaxis4\":{\"anchor\":\"x4\",\"domain\":[0.22,0.33999999999999997],\"title\":{\"font\":{\"size\":18}},\"tickfont\":{\"size\":16}},\"xaxis5\":{\"anchor\":\"y5\",\"domain\":[0.0,1.0],\"title\":{\"font\":{\"size\":18}},\"tickfont\":{\"size\":16}},\"yaxis5\":{\"anchor\":\"x5\",\"domain\":[0.0,0.12],\"title\":{\"font\":{\"size\":18}},\"tickfont\":{\"size\":16}},\"annotations\":[{\"font\":{\"size\":16},\"showarrow\":false,\"text\":\"2018\",\"x\":0.5,\"xanchor\":\"center\",\"xref\":\"paper\",\"y\":1.0,\"yanchor\":\"bottom\",\"yref\":\"paper\"},{\"font\":{\"size\":16},\"showarrow\":false,\"text\":\"2019\",\"x\":0.5,\"xanchor\":\"center\",\"xref\":\"paper\",\"y\":0.78,\"yanchor\":\"bottom\",\"yref\":\"paper\"},{\"font\":{\"size\":16},\"showarrow\":false,\"text\":\"2020\",\"x\":0.5,\"xanchor\":\"center\",\"xref\":\"paper\",\"y\":0.56,\"yanchor\":\"bottom\",\"yref\":\"paper\"},{\"font\":{\"size\":16},\"showarrow\":false,\"text\":\"2021\",\"x\":0.5,\"xanchor\":\"center\",\"xref\":\"paper\",\"y\":0.33999999999999997,\"yanchor\":\"bottom\",\"yref\":\"paper\"},{\"font\":{\"size\":16},\"showarrow\":false,\"text\":\"2022\",\"x\":0.5,\"xanchor\":\"center\",\"xref\":\"paper\",\"y\":0.12,\"yanchor\":\"bottom\",\"yref\":\"paper\"}],\"font\":{\"family\":\"Arial\",\"size\":18,\"color\":\"RebeccaPurple\"},\"hoverlabel\":{\"font\":{\"family\":\"Arial\",\"size\":14}},\"title\":{\"text\":\"Servi\\u00e7os de Seguran\\u00e7a Privada\"},\"showlegend\":false,\"height\":700,\"width\":1000},                        {\"responsive\": true}                    ).then(function(){\n",
              "                            \n",
              "var gd = document.getElementById('1994f14a-0e2f-4768-b007-3aeb12dbd866');\n",
              "var x = new MutationObserver(function (mutations, observer) {{\n",
              "        var display = window.getComputedStyle(gd).display;\n",
              "        if (!display || display === 'none') {{\n",
              "            console.log([gd, 'removed!']);\n",
              "            Plotly.purge(gd);\n",
              "            observer.disconnect();\n",
              "        }}\n",
              "}});\n",
              "\n",
              "// Listen for the removal of the full notebook cells\n",
              "var notebookContainer = gd.closest('#notebook-container');\n",
              "if (notebookContainer) {{\n",
              "    x.observe(notebookContainer, {childList: true});\n",
              "}}\n",
              "\n",
              "// Listen for the clearing of the current output cell\n",
              "var outputEl = gd.closest('.output');\n",
              "if (outputEl) {{\n",
              "    x.observe(outputEl, {childList: true});\n",
              "}}\n",
              "\n",
              "                        })                };                            </script>        </div>\n",
              "</body>\n",
              "</html>"
            ]
          },
          "metadata": {}
        }
      ]
    },
    {
      "cell_type": "markdown",
      "source": [
        "#### Visualiação dos GASTOS por SENADORES"
      ],
      "metadata": {
        "id": "19VlKX55n3Jh"
      }
    },
    {
      "cell_type": "code",
      "source": [
        "fig_senadores = make_subplots(rows=5, cols=1, subplot_titles=('2018', '2019', '2020', '2021', '2022'), shared_yaxes=True)\n",
        "fig_senadores.add_trace(go.Bar(\n",
        "    x=valor_total_senador_2018.sort_values(by='valor_total', ascending=False).head(10)['senador'],\n",
        "    y=valor_total_senador_2018.sort_values(by='valor_total', ascending=False).head(10)['valor_total'],\n",
        "    marker_color='purple', name=\"\", hovertemplate='R$ %{y:,.2f}', texttemplate='R$ %{y:,.2s}'\n",
        "), row=1, col=1)\n",
        "fig_senadores.add_trace(go.Bar(\n",
        "    x=valor_total_senador_2019.sort_values(by='valor_total', ascending=False).head(10)['senador'],\n",
        "    y=valor_total_senador_2019.sort_values(by='valor_total', ascending=False).head(10)['valor_total'],\n",
        "    marker_color='purple', name=\"\", hovertemplate='R$ %{y:,.2f}', texttemplate='R$ %{y:,.2s}'\n",
        "), row=2, col=1)\n",
        "fig_senadores.add_trace(go.Bar(\n",
        "    x=valor_total_senador_2020.sort_values(by='valor_total', ascending=False).head(10)['senador'],\n",
        "    y=valor_total_senador_2020.sort_values(by='valor_total', ascending=False).head(10)['valor_total'],\n",
        "    marker_color='purple', name=\"\", hovertemplate='R$ %{y:,.2f}', texttemplate='R$ %{y:,.2s}'\n",
        "), row=3, col=1)\n",
        "fig_senadores.add_trace(go.Bar(\n",
        "    x=valor_total_senador_2021.sort_values(by='valor_total', ascending=False).head(10)['senador'],\n",
        "    y=valor_total_senador_2021.sort_values(by='valor_total', ascending=False).head(10)['valor_total'],\n",
        "    marker_color='purple', name=\"\", hovertemplate='R$ %{y:,.2f}', texttemplate='R$ %{y:,.2s}'\n",
        "), row=4, col=1)\n",
        "fig_senadores.add_trace(go.Bar(\n",
        "    x=valor_total_senador_2022.sort_values(by='valor_total', ascending=False).head(10)['senador'],\n",
        "    y=valor_total_senador_2022.sort_values(by='valor_total', ascending=False).head(10)['valor_total'],\n",
        "    marker_color='purple', name=\"\", hovertemplate='R$ %{y:,.2f}', texttemplate='R$ %{y:,.2s}'\n",
        "), row=5, col=1)\n",
        "fig_senadores.update_xaxes(title_font_size=14, tickfont_size=14)\n",
        "fig_senadores.update_yaxes(title_font_size=14, tickfont_size=14)\n",
        "fig_senadores.update_traces(textposition='inside', textfont_size=12)\n",
        "fig_senadores.update_layout(\n",
        "    font_family=\"Arial\",\n",
        "    hoverlabel_font_family=\"Arial\",\n",
        "    title_text=\"Despesas dos GASTOS dos Senadores por ANO\",\n",
        "    hoverlabel_font_size=14,\n",
        "    showlegend=False,\n",
        "    autosize=False,\n",
        "    height=1600, \n",
        "    width=800,\n",
        "    font=dict(\n",
        "        size=14,\n",
        "        color=\"purple\"\n",
        "    ),\n",
        ")\n",
        "fig_senadores.show(renderer='colab')"
      ],
      "metadata": {
        "id": "V252iM3Xn9qP",
        "colab": {
          "base_uri": "https://localhost:8080/",
          "height": 1000
        },
        "outputId": "8c391c12-fbe2-474a-8101-4336dc180542"
      },
      "execution_count": null,
      "outputs": [
        {
          "output_type": "display_data",
          "data": {
            "text/html": [
              "<html>\n",
              "<head><meta charset=\"utf-8\" /></head>\n",
              "<body>\n",
              "    <div>            <script src=\"https://cdnjs.cloudflare.com/ajax/libs/mathjax/2.7.5/MathJax.js?config=TeX-AMS-MML_SVG\"></script><script type=\"text/javascript\">if (window.MathJax) {MathJax.Hub.Config({SVG: {font: \"STIX-Web\"}});}</script>                <script type=\"text/javascript\">window.PlotlyConfig = {MathJaxConfig: 'local'};</script>\n",
              "        <script src=\"https://cdn.plot.ly/plotly-2.8.3.min.js\"></script>                <div id=\"f1af4f00-c86a-4f47-9610-bc77870e6362\" class=\"plotly-graph-div\" style=\"height:1600px; width:800px;\"></div>            <script type=\"text/javascript\">                                    window.PLOTLYENV=window.PLOTLYENV || {};                                    if (document.getElementById(\"f1af4f00-c86a-4f47-9610-bc77870e6362\")) {                    Plotly.newPlot(                        \"f1af4f00-c86a-4f47-9610-bc77870e6362\",                        [{\"hovertemplate\":\"R$ %{y:,.2f}\",\"marker\":{\"color\":\"purple\"},\"name\":\"\",\"texttemplate\":\"R$ %{y:,.2s}\",\"x\":[\"EDUARDO BRAGA\",\"OMAR AZIZ\",\"FERNANDO COLLOR\",\"HUMBERTO COSTA\",\"PAULO PAIM\",\"PAULO ROCHA\",\"WELLINGTON FAGUNDES\",\"RANDOLFE RODRIGUES\",\"ROBERTO ROCHA\",\"S\\u00c9RGIO PETEC\\u00c3O\"],\"y\":[497599.18,484143.98,435944.08,427951.93,414361.11,407715.34,392579.06,375194.45,374997.42,362443.49],\"type\":\"bar\",\"xaxis\":\"x\",\"yaxis\":\"y\",\"textfont\":{\"size\":12},\"textposition\":\"inside\"},{\"hovertemplate\":\"R$ %{y:,.2f}\",\"marker\":{\"color\":\"purple\"},\"name\":\"\",\"texttemplate\":\"R$ %{y:,.2s}\",\"x\":[\"OMAR AZIZ\",\"EDUARDO BRAGA\",\"TELM\\u00c1RIO MOTA\",\"PAULO ROCHA\",\"ZEQUINHA MARINHO\",\"ALESSANDRO VIEIRA\",\"MECIAS DE JESUS\",\"ROG\\u00c9RIO CARVALHO\",\"MAILZA GOMES\",\"S\\u00c9RGIO PETEC\\u00c3O\"],\"y\":[528415.99,517061.65,485534.69,473418.97,459630.05,447849.73,447425.16,446392.5,442181.91,439589.13],\"type\":\"bar\",\"xaxis\":\"x2\",\"yaxis\":\"y2\",\"textfont\":{\"size\":12},\"textposition\":\"inside\"},{\"hovertemplate\":\"R$ %{y:,.2f}\",\"marker\":{\"color\":\"purple\"},\"name\":\"\",\"texttemplate\":\"R$ %{y:,.2s}\",\"x\":[\"ROG\\u00c9RIO CARVALHO\",\"TELM\\u00c1RIO MOTA\",\"MARCIO BITTAR\",\"PAULO ROCHA\",\"FERNANDO COLLOR\",\"MARCOS ROG\\u00c9RIO\",\"MECIAS DE JESUS\",\"ACIR GURGACZ\",\"ROBERTO ROCHA\",\"JAQUES WAGNER\"],\"y\":[496375.64,489290.07,472823.25,471876.59,424364.87,414658.83,409489.73,407925.15,407798.81,403185.2],\"type\":\"bar\",\"xaxis\":\"x3\",\"yaxis\":\"y3\",\"textfont\":{\"size\":12},\"textposition\":\"inside\"},{\"hovertemplate\":\"R$ %{y:,.2f}\",\"marker\":{\"color\":\"purple\"},\"name\":\"\",\"texttemplate\":\"R$ %{y:,.2s}\",\"x\":[\"OMAR AZIZ\",\"ROG\\u00c9RIO CARVALHO\",\"MECIAS DE JESUS\",\"LUCAS BARRETO\",\"TELM\\u00c1RIO MOTA\",\"PAULO ROCHA\",\"WELLINGTON FAGUNDES\",\"MAILZA GOMES\",\"ZEQUINHA MARINHO\",\"ROBERTO ROCHA\"],\"y\":[527681.3099999999,504670.23,501632.05,493871.52999999997,491701.38,472748.44,468075.04,467324.48,466582.68,455343.76],\"type\":\"bar\",\"xaxis\":\"x4\",\"yaxis\":\"y4\",\"textfont\":{\"size\":12},\"textposition\":\"inside\"},{\"hovertemplate\":\"R$ %{y:,.2f}\",\"marker\":{\"color\":\"purple\"},\"name\":\"\",\"texttemplate\":\"R$ %{y:,.2s}\",\"x\":[\"RANDOLFE RODRIGUES\",\"ELMANO F\\u00c9RRER\",\"DAVI ALCOLUMBRE\",\"CHICO RODRIGUES\",\"OMAR AZIZ\",\"ANGELO CORONEL\",\"ROG\\u00c9RIO CARVALHO\",\"JEAN PAUL PRATES\",\"MAILZA GOMES\",\"EDUARDO BRAGA\"],\"y\":[217776.0,212975.37,211155.0,203358.95,194426.84,191982.36,177610.69,177451.46,176705.18,176445.93],\"type\":\"bar\",\"xaxis\":\"x5\",\"yaxis\":\"y5\",\"textfont\":{\"size\":12},\"textposition\":\"inside\"}],                        {\"template\":{\"data\":{\"bar\":[{\"error_x\":{\"color\":\"#2a3f5f\"},\"error_y\":{\"color\":\"#2a3f5f\"},\"marker\":{\"line\":{\"color\":\"#E5ECF6\",\"width\":0.5},\"pattern\":{\"fillmode\":\"overlay\",\"size\":10,\"solidity\":0.2}},\"type\":\"bar\"}],\"barpolar\":[{\"marker\":{\"line\":{\"color\":\"#E5ECF6\",\"width\":0.5},\"pattern\":{\"fillmode\":\"overlay\",\"size\":10,\"solidity\":0.2}},\"type\":\"barpolar\"}],\"carpet\":[{\"aaxis\":{\"endlinecolor\":\"#2a3f5f\",\"gridcolor\":\"white\",\"linecolor\":\"white\",\"minorgridcolor\":\"white\",\"startlinecolor\":\"#2a3f5f\"},\"baxis\":{\"endlinecolor\":\"#2a3f5f\",\"gridcolor\":\"white\",\"linecolor\":\"white\",\"minorgridcolor\":\"white\",\"startlinecolor\":\"#2a3f5f\"},\"type\":\"carpet\"}],\"choropleth\":[{\"colorbar\":{\"outlinewidth\":0,\"ticks\":\"\"},\"type\":\"choropleth\"}],\"contour\":[{\"colorbar\":{\"outlinewidth\":0,\"ticks\":\"\"},\"colorscale\":[[0.0,\"#0d0887\"],[0.1111111111111111,\"#46039f\"],[0.2222222222222222,\"#7201a8\"],[0.3333333333333333,\"#9c179e\"],[0.4444444444444444,\"#bd3786\"],[0.5555555555555556,\"#d8576b\"],[0.6666666666666666,\"#ed7953\"],[0.7777777777777778,\"#fb9f3a\"],[0.8888888888888888,\"#fdca26\"],[1.0,\"#f0f921\"]],\"type\":\"contour\"}],\"contourcarpet\":[{\"colorbar\":{\"outlinewidth\":0,\"ticks\":\"\"},\"type\":\"contourcarpet\"}],\"heatmap\":[{\"colorbar\":{\"outlinewidth\":0,\"ticks\":\"\"},\"colorscale\":[[0.0,\"#0d0887\"],[0.1111111111111111,\"#46039f\"],[0.2222222222222222,\"#7201a8\"],[0.3333333333333333,\"#9c179e\"],[0.4444444444444444,\"#bd3786\"],[0.5555555555555556,\"#d8576b\"],[0.6666666666666666,\"#ed7953\"],[0.7777777777777778,\"#fb9f3a\"],[0.8888888888888888,\"#fdca26\"],[1.0,\"#f0f921\"]],\"type\":\"heatmap\"}],\"heatmapgl\":[{\"colorbar\":{\"outlinewidth\":0,\"ticks\":\"\"},\"colorscale\":[[0.0,\"#0d0887\"],[0.1111111111111111,\"#46039f\"],[0.2222222222222222,\"#7201a8\"],[0.3333333333333333,\"#9c179e\"],[0.4444444444444444,\"#bd3786\"],[0.5555555555555556,\"#d8576b\"],[0.6666666666666666,\"#ed7953\"],[0.7777777777777778,\"#fb9f3a\"],[0.8888888888888888,\"#fdca26\"],[1.0,\"#f0f921\"]],\"type\":\"heatmapgl\"}],\"histogram\":[{\"marker\":{\"pattern\":{\"fillmode\":\"overlay\",\"size\":10,\"solidity\":0.2}},\"type\":\"histogram\"}],\"histogram2d\":[{\"colorbar\":{\"outlinewidth\":0,\"ticks\":\"\"},\"colorscale\":[[0.0,\"#0d0887\"],[0.1111111111111111,\"#46039f\"],[0.2222222222222222,\"#7201a8\"],[0.3333333333333333,\"#9c179e\"],[0.4444444444444444,\"#bd3786\"],[0.5555555555555556,\"#d8576b\"],[0.6666666666666666,\"#ed7953\"],[0.7777777777777778,\"#fb9f3a\"],[0.8888888888888888,\"#fdca26\"],[1.0,\"#f0f921\"]],\"type\":\"histogram2d\"}],\"histogram2dcontour\":[{\"colorbar\":{\"outlinewidth\":0,\"ticks\":\"\"},\"colorscale\":[[0.0,\"#0d0887\"],[0.1111111111111111,\"#46039f\"],[0.2222222222222222,\"#7201a8\"],[0.3333333333333333,\"#9c179e\"],[0.4444444444444444,\"#bd3786\"],[0.5555555555555556,\"#d8576b\"],[0.6666666666666666,\"#ed7953\"],[0.7777777777777778,\"#fb9f3a\"],[0.8888888888888888,\"#fdca26\"],[1.0,\"#f0f921\"]],\"type\":\"histogram2dcontour\"}],\"mesh3d\":[{\"colorbar\":{\"outlinewidth\":0,\"ticks\":\"\"},\"type\":\"mesh3d\"}],\"parcoords\":[{\"line\":{\"colorbar\":{\"outlinewidth\":0,\"ticks\":\"\"}},\"type\":\"parcoords\"}],\"pie\":[{\"automargin\":true,\"type\":\"pie\"}],\"scatter\":[{\"marker\":{\"colorbar\":{\"outlinewidth\":0,\"ticks\":\"\"}},\"type\":\"scatter\"}],\"scatter3d\":[{\"line\":{\"colorbar\":{\"outlinewidth\":0,\"ticks\":\"\"}},\"marker\":{\"colorbar\":{\"outlinewidth\":0,\"ticks\":\"\"}},\"type\":\"scatter3d\"}],\"scattercarpet\":[{\"marker\":{\"colorbar\":{\"outlinewidth\":0,\"ticks\":\"\"}},\"type\":\"scattercarpet\"}],\"scattergeo\":[{\"marker\":{\"colorbar\":{\"outlinewidth\":0,\"ticks\":\"\"}},\"type\":\"scattergeo\"}],\"scattergl\":[{\"marker\":{\"colorbar\":{\"outlinewidth\":0,\"ticks\":\"\"}},\"type\":\"scattergl\"}],\"scattermapbox\":[{\"marker\":{\"colorbar\":{\"outlinewidth\":0,\"ticks\":\"\"}},\"type\":\"scattermapbox\"}],\"scatterpolar\":[{\"marker\":{\"colorbar\":{\"outlinewidth\":0,\"ticks\":\"\"}},\"type\":\"scatterpolar\"}],\"scatterpolargl\":[{\"marker\":{\"colorbar\":{\"outlinewidth\":0,\"ticks\":\"\"}},\"type\":\"scatterpolargl\"}],\"scatterternary\":[{\"marker\":{\"colorbar\":{\"outlinewidth\":0,\"ticks\":\"\"}},\"type\":\"scatterternary\"}],\"surface\":[{\"colorbar\":{\"outlinewidth\":0,\"ticks\":\"\"},\"colorscale\":[[0.0,\"#0d0887\"],[0.1111111111111111,\"#46039f\"],[0.2222222222222222,\"#7201a8\"],[0.3333333333333333,\"#9c179e\"],[0.4444444444444444,\"#bd3786\"],[0.5555555555555556,\"#d8576b\"],[0.6666666666666666,\"#ed7953\"],[0.7777777777777778,\"#fb9f3a\"],[0.8888888888888888,\"#fdca26\"],[1.0,\"#f0f921\"]],\"type\":\"surface\"}],\"table\":[{\"cells\":{\"fill\":{\"color\":\"#EBF0F8\"},\"line\":{\"color\":\"white\"}},\"header\":{\"fill\":{\"color\":\"#C8D4E3\"},\"line\":{\"color\":\"white\"}},\"type\":\"table\"}]},\"layout\":{\"annotationdefaults\":{\"arrowcolor\":\"#2a3f5f\",\"arrowhead\":0,\"arrowwidth\":1},\"autotypenumbers\":\"strict\",\"coloraxis\":{\"colorbar\":{\"outlinewidth\":0,\"ticks\":\"\"}},\"colorscale\":{\"diverging\":[[0,\"#8e0152\"],[0.1,\"#c51b7d\"],[0.2,\"#de77ae\"],[0.3,\"#f1b6da\"],[0.4,\"#fde0ef\"],[0.5,\"#f7f7f7\"],[0.6,\"#e6f5d0\"],[0.7,\"#b8e186\"],[0.8,\"#7fbc41\"],[0.9,\"#4d9221\"],[1,\"#276419\"]],\"sequential\":[[0.0,\"#0d0887\"],[0.1111111111111111,\"#46039f\"],[0.2222222222222222,\"#7201a8\"],[0.3333333333333333,\"#9c179e\"],[0.4444444444444444,\"#bd3786\"],[0.5555555555555556,\"#d8576b\"],[0.6666666666666666,\"#ed7953\"],[0.7777777777777778,\"#fb9f3a\"],[0.8888888888888888,\"#fdca26\"],[1.0,\"#f0f921\"]],\"sequentialminus\":[[0.0,\"#0d0887\"],[0.1111111111111111,\"#46039f\"],[0.2222222222222222,\"#7201a8\"],[0.3333333333333333,\"#9c179e\"],[0.4444444444444444,\"#bd3786\"],[0.5555555555555556,\"#d8576b\"],[0.6666666666666666,\"#ed7953\"],[0.7777777777777778,\"#fb9f3a\"],[0.8888888888888888,\"#fdca26\"],[1.0,\"#f0f921\"]]},\"colorway\":[\"#636efa\",\"#EF553B\",\"#00cc96\",\"#ab63fa\",\"#FFA15A\",\"#19d3f3\",\"#FF6692\",\"#B6E880\",\"#FF97FF\",\"#FECB52\"],\"font\":{\"color\":\"#2a3f5f\"},\"geo\":{\"bgcolor\":\"white\",\"lakecolor\":\"white\",\"landcolor\":\"#E5ECF6\",\"showlakes\":true,\"showland\":true,\"subunitcolor\":\"white\"},\"hoverlabel\":{\"align\":\"left\"},\"hovermode\":\"closest\",\"mapbox\":{\"style\":\"light\"},\"paper_bgcolor\":\"white\",\"plot_bgcolor\":\"#E5ECF6\",\"polar\":{\"angularaxis\":{\"gridcolor\":\"white\",\"linecolor\":\"white\",\"ticks\":\"\"},\"bgcolor\":\"#E5ECF6\",\"radialaxis\":{\"gridcolor\":\"white\",\"linecolor\":\"white\",\"ticks\":\"\"}},\"scene\":{\"xaxis\":{\"backgroundcolor\":\"#E5ECF6\",\"gridcolor\":\"white\",\"gridwidth\":2,\"linecolor\":\"white\",\"showbackground\":true,\"ticks\":\"\",\"zerolinecolor\":\"white\"},\"yaxis\":{\"backgroundcolor\":\"#E5ECF6\",\"gridcolor\":\"white\",\"gridwidth\":2,\"linecolor\":\"white\",\"showbackground\":true,\"ticks\":\"\",\"zerolinecolor\":\"white\"},\"zaxis\":{\"backgroundcolor\":\"#E5ECF6\",\"gridcolor\":\"white\",\"gridwidth\":2,\"linecolor\":\"white\",\"showbackground\":true,\"ticks\":\"\",\"zerolinecolor\":\"white\"}},\"shapedefaults\":{\"line\":{\"color\":\"#2a3f5f\"}},\"ternary\":{\"aaxis\":{\"gridcolor\":\"white\",\"linecolor\":\"white\",\"ticks\":\"\"},\"baxis\":{\"gridcolor\":\"white\",\"linecolor\":\"white\",\"ticks\":\"\"},\"bgcolor\":\"#E5ECF6\",\"caxis\":{\"gridcolor\":\"white\",\"linecolor\":\"white\",\"ticks\":\"\"}},\"title\":{\"x\":0.05},\"xaxis\":{\"automargin\":true,\"gridcolor\":\"white\",\"linecolor\":\"white\",\"ticks\":\"\",\"title\":{\"standoff\":15},\"zerolinecolor\":\"white\",\"zerolinewidth\":2},\"yaxis\":{\"automargin\":true,\"gridcolor\":\"white\",\"linecolor\":\"white\",\"ticks\":\"\",\"title\":{\"standoff\":15},\"zerolinecolor\":\"white\",\"zerolinewidth\":2}}},\"xaxis\":{\"anchor\":\"y\",\"domain\":[0.0,1.0],\"title\":{\"font\":{\"size\":14}},\"tickfont\":{\"size\":14}},\"yaxis\":{\"anchor\":\"x\",\"domain\":[0.88,1.0],\"title\":{\"font\":{\"size\":14}},\"tickfont\":{\"size\":14}},\"xaxis2\":{\"anchor\":\"y2\",\"domain\":[0.0,1.0],\"title\":{\"font\":{\"size\":14}},\"tickfont\":{\"size\":14}},\"yaxis2\":{\"anchor\":\"x2\",\"domain\":[0.66,0.78],\"title\":{\"font\":{\"size\":14}},\"tickfont\":{\"size\":14}},\"xaxis3\":{\"anchor\":\"y3\",\"domain\":[0.0,1.0],\"title\":{\"font\":{\"size\":14}},\"tickfont\":{\"size\":14}},\"yaxis3\":{\"anchor\":\"x3\",\"domain\":[0.44,0.56],\"title\":{\"font\":{\"size\":14}},\"tickfont\":{\"size\":14}},\"xaxis4\":{\"anchor\":\"y4\",\"domain\":[0.0,1.0],\"title\":{\"font\":{\"size\":14}},\"tickfont\":{\"size\":14}},\"yaxis4\":{\"anchor\":\"x4\",\"domain\":[0.22,0.33999999999999997],\"title\":{\"font\":{\"size\":14}},\"tickfont\":{\"size\":14}},\"xaxis5\":{\"anchor\":\"y5\",\"domain\":[0.0,1.0],\"title\":{\"font\":{\"size\":14}},\"tickfont\":{\"size\":14}},\"yaxis5\":{\"anchor\":\"x5\",\"domain\":[0.0,0.12],\"title\":{\"font\":{\"size\":14}},\"tickfont\":{\"size\":14}},\"annotations\":[{\"font\":{\"size\":16},\"showarrow\":false,\"text\":\"2018\",\"x\":0.5,\"xanchor\":\"center\",\"xref\":\"paper\",\"y\":1.0,\"yanchor\":\"bottom\",\"yref\":\"paper\"},{\"font\":{\"size\":16},\"showarrow\":false,\"text\":\"2019\",\"x\":0.5,\"xanchor\":\"center\",\"xref\":\"paper\",\"y\":0.78,\"yanchor\":\"bottom\",\"yref\":\"paper\"},{\"font\":{\"size\":16},\"showarrow\":false,\"text\":\"2020\",\"x\":0.5,\"xanchor\":\"center\",\"xref\":\"paper\",\"y\":0.56,\"yanchor\":\"bottom\",\"yref\":\"paper\"},{\"font\":{\"size\":16},\"showarrow\":false,\"text\":\"2021\",\"x\":0.5,\"xanchor\":\"center\",\"xref\":\"paper\",\"y\":0.33999999999999997,\"yanchor\":\"bottom\",\"yref\":\"paper\"},{\"font\":{\"size\":16},\"showarrow\":false,\"text\":\"2022\",\"x\":0.5,\"xanchor\":\"center\",\"xref\":\"paper\",\"y\":0.12,\"yanchor\":\"bottom\",\"yref\":\"paper\"}],\"font\":{\"family\":\"Arial\",\"size\":14,\"color\":\"purple\"},\"hoverlabel\":{\"font\":{\"family\":\"Arial\",\"size\":14}},\"title\":{\"text\":\"Despesas dos GASTOS dos Senadores por ANO\"},\"showlegend\":false,\"autosize\":false,\"height\":1600,\"width\":800},                        {\"responsive\": true}                    ).then(function(){\n",
              "                            \n",
              "var gd = document.getElementById('f1af4f00-c86a-4f47-9610-bc77870e6362');\n",
              "var x = new MutationObserver(function (mutations, observer) {{\n",
              "        var display = window.getComputedStyle(gd).display;\n",
              "        if (!display || display === 'none') {{\n",
              "            console.log([gd, 'removed!']);\n",
              "            Plotly.purge(gd);\n",
              "            observer.disconnect();\n",
              "        }}\n",
              "}});\n",
              "\n",
              "// Listen for the removal of the full notebook cells\n",
              "var notebookContainer = gd.closest('#notebook-container');\n",
              "if (notebookContainer) {{\n",
              "    x.observe(notebookContainer, {childList: true});\n",
              "}}\n",
              "\n",
              "// Listen for the clearing of the current output cell\n",
              "var outputEl = gd.closest('.output');\n",
              "if (outputEl) {{\n",
              "    x.observe(outputEl, {childList: true});\n",
              "}}\n",
              "\n",
              "                        })                };                            </script>        </div>\n",
              "</body>\n",
              "</html>"
            ]
          },
          "metadata": {}
        }
      ]
    }
  ]
}